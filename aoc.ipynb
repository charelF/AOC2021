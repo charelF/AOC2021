{
 "cells": [
  {
   "cell_type": "markdown",
   "metadata": {},
   "source": [
    "# Advent of Code\n",
    "Charel Felten"
   ]
  },
  {
   "cell_type": "code",
   "execution_count": 1,
   "metadata": {},
   "outputs": [],
   "source": [
    "import pandas as pd\n",
    "import numpy as np\n",
    "import matplotlib.pyplot as plt\n",
    "from functools import reduce"
   ]
  },
  {
   "cell_type": "markdown",
   "metadata": {},
   "source": [
    "## 1. Advent"
   ]
  },
  {
   "cell_type": "code",
   "execution_count": 130,
   "metadata": {},
   "outputs": [
    {
     "name": "stdout",
     "output_type": "stream",
     "text": [
      "Task 1: 1266, Task 2: 1217\n"
     ]
    }
   ],
   "source": [
    "df = pd.read_csv(\"inputs/1\", header=None)\n",
    "\n",
    "f = lambda w: (df.rolling(w).sum().dropna().diff().fillna(0) > 0).sum().loc[0]\n",
    "\n",
    "print(f\"Task 1: {f(1)}, Task 2: {f(3)}\")"
   ]
  },
  {
   "cell_type": "markdown",
   "metadata": {},
   "source": [
    "## 2. Advent"
   ]
  },
  {
   "cell_type": "code",
   "execution_count": 131,
   "metadata": {},
   "outputs": [
    {
     "name": "stdout",
     "output_type": "stream",
     "text": [
      "Task 1: 1882980, Task 2: 1971232560\n"
     ]
    }
   ],
   "source": [
    "df = pd.read_csv(\"inputs/2\", header=None, sep=\" \", names=[\"direction\", \"distance\"])\n",
    "\n",
    "t1 = df.groupby(\"direction\").sum().apply(lambda col: (col[\"down\"] - col[\"up\"]) * col[\"forward\"]).loc[\"distance\"]\n",
    "\n",
    "h, d, a = 0,0,0\n",
    "for _, (dir, dis) in df.iterrows():\n",
    "    if dir == \"down\": a += dis\n",
    "    if dir == \"up\": a -= dis\n",
    "    if dir == \"forward\":\n",
    "        h += dis\n",
    "        d += a*dis\n",
    "        \n",
    "print(f\"Task 1: {t1}, Task 2: {h * d}\")"
   ]
  },
  {
   "cell_type": "code",
   "execution_count": 132,
   "metadata": {},
   "outputs": [
    {
     "name": "stdout",
     "output_type": "stream",
     "text": [
      "Task 2 Alt: 1971232560\n"
     ]
    }
   ],
   "source": [
    "def f(hda, dirdis):\n",
    "    h, d, a = hda\n",
    "    _, (dir, dis) = dirdis\n",
    "    if dir == \"down\": a += dis\n",
    "    if dir == \"up\": a -= dis\n",
    "    if dir == \"forward\":\n",
    "        h += dis\n",
    "        d += a*dis\n",
    "    return (h,d,a)\n",
    "\n",
    "h, d, a = reduce(f, df.iterrows(), (0,0,0))\n",
    "\n",
    "print(f\"Task 2 Alt: {h * d}\")"
   ]
  },
  {
   "cell_type": "markdown",
   "metadata": {},
   "source": [
    "## 3. Advent"
   ]
  },
  {
   "cell_type": "code",
   "execution_count": 133,
   "metadata": {},
   "outputs": [
    {
     "name": "stdout",
     "output_type": "stream",
     "text": [
      "Task 1: 4147524, Task 2: 3570354\n"
     ]
    }
   ],
   "source": [
    "df = pd.read_csv(\"inputs/3\", header=None, sep=\" \", dtype=\"str\")\n",
    "\n",
    "t1 = df\\\n",
    "    .apply(lambda r: list(r.iloc[0]), result_type=\"expand\", axis=1)\\\n",
    "    .agg([\"median\", lambda c: int(not(c.median()))])\\\n",
    "    .apply(lambda c: 2**((len(df.iloc[0,0])-1)-c.name) * c)\\\n",
    "    .sum(axis=1).prod().astype(int)\n",
    "\n",
    "t2 = df.apply(lambda r: list(r.iloc[0]), result_type=\"expand\", axis=1).astype(int)\n",
    "\n",
    "def x(t2, b):\n",
    "    for c in t2: t2 = t2[t2[c] == t2.groupby(c).size().sort_index(ascending=b).sort_values(ascending=b).index[0]]\n",
    "    return t2.apply(lambda c: 2**((len(df.iloc[0,0])-1)-c.name) * c).sum(axis=1).iloc[0]\n",
    "\n",
    "t2 = x(t2, False) * x(t2, True)\n",
    "\n",
    "print(f\"Task 1: {t1}, Task 2: {t2}\")"
   ]
  },
  {
   "cell_type": "markdown",
   "metadata": {},
   "source": [
    "## 4. Advent"
   ]
  },
  {
   "cell_type": "code",
   "execution_count": 134,
   "metadata": {},
   "outputs": [
    {
     "name": "stdout",
     "output_type": "stream",
     "text": [
      "Task 1: 34506, Task 2: 7686\n"
     ]
    }
   ],
   "source": [
    "inputs = pd.read_csv(\"inputs/4\", header=None, nrows=1, engine=\"python\").to_numpy().reshape(-1)\n",
    "boards = pd.read_csv(\"inputs/4\", header=None, skiprows=[0], sep=r\" +\", engine=\"python\").to_numpy().reshape(-1, 5, 5)\n",
    "bingos = np.zeros_like(boards, dtype=bool)\n",
    "\n",
    "aw = {}\n",
    "for inp in inputs:\n",
    "    for match in np.argwhere(boards == inp):\n",
    "        bingos[tuple(match)] = True\n",
    "    \n",
    "    hs = np.argwhere(bingos.sum(axis=1) == boards.shape[1])\n",
    "    vs = np.argwhere(bingos.sum(axis=2) == boards.shape[1])\n",
    "    \n",
    "    nw = set(list(vs[:,0]) + list(hs[:,0]))\n",
    "\n",
    "    if len(nw) == 1 and len(aw) == 0:\n",
    "        w = (nw - aw).pop()\n",
    "        t1 = inp * boards[w, ~bingos[w]].sum()\n",
    "\n",
    "    if len(nw) == boards.shape[0]:\n",
    "        l = (nw - aw).pop()\n",
    "        t2 = inp * boards[l, ~bingos[l]].sum()\n",
    "        break\n",
    "\n",
    "    aw = nw\n",
    "\n",
    "print(f\"Task 1: {t1}, Task 2: {t2}\")"
   ]
  },
  {
   "cell_type": "markdown",
   "metadata": {},
   "source": [
    "## 5. Advent"
   ]
  },
  {
   "cell_type": "code",
   "execution_count": 135,
   "metadata": {},
   "outputs": [
    {
     "name": "stdout",
     "output_type": "stream",
     "text": [
      "Task 1: 8622, Task 2: 22037\n"
     ]
    }
   ],
   "source": [
    "df = pd.read_csv(\"inputs/5\", header=None, sep=r\",| -> \", names=[\"x1\", \"y1\", \"x2\", \"y2\"], engine=\"python\")\n",
    "\n",
    "M = np.zeros(shape=[2] + [df.max().max() + 1] * 2)\n",
    "\n",
    "for _, (x1,y1,x2,y2) in df.iterrows():\n",
    "    sx = 1 if x2-x1 > 0 else -1\n",
    "    sy = 1 if y2-y1 > 0 else -1\n",
    "    if x1 == x2 or y1 == y2:\n",
    "        for x in range(x1, x2 + sx, sx):\n",
    "            for y in range(y1, y2 + sy, sy):\n",
    "                M[:,y,x] += 1\n",
    "    else:\n",
    "        for x,y in zip(range(x1, x2 + sx, sx), range(y1, y2 + sy, sy)):\n",
    "            M[1,y,x] += 1\n",
    "\n",
    "print(f\"Task 1: {np.sum(M[0] > 1)}, Task 2: {np.sum(M[1] > 1)}\")"
   ]
  },
  {
   "cell_type": "code",
   "execution_count": 136,
   "metadata": {},
   "outputs": [
    {
     "name": "stdout",
     "output_type": "stream",
     "text": [
      "Task 1: 8622, Task 2: 22037\n"
     ]
    }
   ],
   "source": [
    "from itertools import zip_longest as zipl\n",
    "\n",
    "df = pd.read_csv(\"inputs/5\", header=None, sep=r\",| -> \", names=[\"x1\", \"y1\", \"x2\", \"y2\"], engine=\"python\")\n",
    "\n",
    "M = np.zeros(shape=[2] + [df.max().max() + 1] * 2)\n",
    "\n",
    "for _, (x1,y1,x2,y2) in df.iterrows():\n",
    "    for x,y in zipl(range(x1, x2 + (1 if x2-x1 > 0 else -1), (1 if x2-x1 > 0 else -1)), range(y1, y2 + (1 if y2-y1 > 0 else -1), (1 if y2-y1 > 0 else -1))):\n",
    "        M[:, y if y is not None else y1, x if x is not None else x1] += (x1 == x2 or y1 == y2, 1)\n",
    "\n",
    "print(f\"Task 1: {np.sum(M[0] > 1)}, Task 2: {np.sum(M[1] > 1)}\")"
   ]
  },
  {
   "cell_type": "markdown",
   "metadata": {},
   "source": [
    "## 6. Advent"
   ]
  },
  {
   "cell_type": "code",
   "execution_count": 137,
   "metadata": {},
   "outputs": [
    {
     "name": "stdout",
     "output_type": "stream",
     "text": [
      "Task 1: 390923, Task 2: 1749945484935\n"
     ]
    }
   ],
   "source": [
    "s = np.array([list(pd.read_csv(\"inputs/6\", header=None).to_numpy().reshape(-1)).count(i) for i in range(9)])\n",
    "\n",
    "def f(D, s):\n",
    "    for _ in range(D):\n",
    "        s = np.roll(s, -1)\n",
    "        s[6] += s[8]\n",
    "    return sum(s)\n",
    "\n",
    "print(f\"Task 1: {f(80, s)}, Task 2: {f(256, s)}\")"
   ]
  },
  {
   "cell_type": "code",
   "execution_count": 138,
   "metadata": {},
   "outputs": [
    {
     "name": "stdout",
     "output_type": "stream",
     "text": [
      "Task 1: 390923, Task 2: 1749945484935\n"
     ]
    }
   ],
   "source": [
    "# Source: https://old.reddit.com/r/adventofcode/comments/r9z49j/2021_day_6_solutions/hnfi3nf/\n",
    "\n",
    "TM = np.matrix([\n",
    "    [0,1,0,0,0,0,0,0,0],  # this is a transition matrix, so each row encode the prob of transition\n",
    "    [0,0,1,0,0,0,0,0,0],  # e.g. this row (row 1) has a 1 at col 2, which indicates that there\n",
    "    [0,0,0,1,0,0,0,0,0],  # is a 100% chance (probability 1) to move from age 2 (col 2) to age 1 (row 1)\n",
    "    [0,0,0,0,1,0,0,0,0],  # and a 0% chance for all other transitions.\n",
    "    [0,0,0,0,0,1,0,0,0],\n",
    "    [0,0,0,0,0,0,1,0,0],\n",
    "    [1,0,0,0,0,0,0,1,0],  # Fish being reset move from age 0 (col 0) to age 6 (col 6), but so do also\n",
    "    [0,0,0,0,0,0,0,0,1],  # fish of age 7 (col 7) who move to age 6 (row 6). So two `1`s in this row.\n",
    "    [1,0,0,0,0,0,0,0,0],  # New fish born move from age 0 (col 0) moves to age 8 (row 8)\n",
    "])\n",
    "\n",
    "print(f\"Task 1: {np.sum(np.array(TM ** 80)*s)}, Task 2: {np.sum(np.array(TM ** 256)*s)}\")\n",
    "\n",
    "TMTM = np.matrix([\n",
    "    [0,0,1,0,0,0,0,0,0],  # doing matrix multiplcation, which is the same as power 2, we get the state\n",
    "    [0,0,0,1,0,0,0,0,0],  # of the matrix after 2 timesteps. Again we can read the fish ages\n",
    "    [0,0,0,0,1,0,0,0,0],  # e.g. a fish originally aged 4 years (col 4), has a 100% chance to be\n",
    "    [0,0,0,0,0,1,0,0,0],  # age 2 (row 2) after 2 iterations, which is indeed true\n",
    "    [0,0,0,0,0,0,1,0,0],\n",
    "    [1,0,0,0,0,0,0,1,0],  # there are two fish in this row, meaning that there are now 2 fish that are age 5 (row 5)\n",
    "    [0,1,0,0,0,0,0,0,1],  # after 2 iterations, with one of them starting at age 0 (col 0) (0 -reset-> 6 -> 5)\n",
    "    [1,0,0,0,0,0,0,0,0],  # and the other one being of age 7 (col 7) and simply aging normally (7 -> 6 -> 5)\n",
    "    [0,1,0,0,0,0,0,0,0]\n",
    "])\n",
    "\n",
    "assert(np.all(TMTM == TM @ TM))"
   ]
  },
  {
   "cell_type": "markdown",
   "metadata": {},
   "source": [
    "## 7. Advent"
   ]
  },
  {
   "cell_type": "code",
   "execution_count": 139,
   "metadata": {},
   "outputs": [
    {
     "name": "stdout",
     "output_type": "stream",
     "text": [
      "Task 1: 345197, Task 2: 96361606\n"
     ]
    }
   ],
   "source": [
    "p = pd.read_csv(\"inputs/7\", header=None).to_numpy().reshape(-1)\n",
    "\n",
    "t1 = int(sum(abs(p - np.median(p))))\n",
    "\n",
    "trinum = lambda n: n * (n+1) / 2  # computes the n-th triangular number (0-indexing hence n+1)\n",
    "t2 = int(sum(trinum(abs(p - np.floor(np.mean(p))))))\n",
    "\n",
    "print(f\"Task 1: {t1}, Task 2: {t2}\")"
   ]
  },
  {
   "cell_type": "code",
   "execution_count": 140,
   "metadata": {},
   "outputs": [
    {
     "name": "stdout",
     "output_type": "stream",
     "text": [
      "Task 2 alt: 96361606\n"
     ]
    }
   ],
   "source": [
    "# Note: my t2 above does not work for the example input (if using `np.floor` twice), and when one uses `np.round`\n",
    "# twice, then it does not work for the real input. t2a below works for both verions, but is less efficient.\n",
    "# reason it does not work: https://old.reddit.com/r/adventofcode/comments/rars4g/2021_day_7_why_do_these_values_work_spoilers/hnk7n2z/\n",
    "\n",
    "t2a = int(min([sum(trinum(abs(p - i))) for i in range(min(p), max(p))]))\n",
    "print(f\"Task 2 alt: {t2a}\")"
   ]
  },
  {
   "cell_type": "markdown",
   "metadata": {},
   "source": [
    "## 8. Advent"
   ]
  },
  {
   "cell_type": "code",
   "execution_count": 141,
   "metadata": {},
   "outputs": [
    {
     "name": "stdout",
     "output_type": "stream",
     "text": [
      "Task 1: 397, Task 2: 1027422\n"
     ]
    }
   ],
   "source": [
    "df = pd.read_csv(\"inputs/8\", header=None, sep=r\"|\")\n",
    "\n",
    "t1 = df.loc[:,1].str.split(\" \", expand=True).loc[:,1:].apply(lambda c: c.str.len().isin([2,3,4,7])).sum().sum()\n",
    "\n",
    "def decoder(row):\n",
    "    S = [set(x) for x in row[0].split(\" \")]\n",
    "    N = {}\n",
    "\n",
    "    # first find 1,4,7,8\n",
    "    N[1] = [n for n in S if len(n) == 2][0]\n",
    "    N[7] = [n for n in S if len(n) == 3][0]\n",
    "    N[4] = [n for n in S if len(n) == 4][0]\n",
    "    N[8] = [n for n in S if len(n) == 7][0]\n",
    "\n",
    "    # 2,3,5 have length 5\n",
    "    l235 = [n for n in S if len(n) == 5]\n",
    "\n",
    "    # 2 U 5 = 8, so 3 is the remaining one\n",
    "    if l235[0] | l235[1] == N[8]: N[3] = l235[2]  # | = set intersection\n",
    "    elif l235[0] | l235[2] == N[8]: N[3] = l235[1]\n",
    "    else: N[3] = l235[0]\n",
    "\n",
    "    # 3 U 4 = 9\n",
    "    N[9] = N[3] | N[4]\n",
    "\n",
    "    # 6,9,0 have length 6. we know 9, so can isolate 6 and 0\n",
    "    l60 = [n for n in S if (len(n) == 6) and n != N[9]]\n",
    "\n",
    "    # 6 U 1 = 8\n",
    "    if l60[0] | N[1] == N[8]: N[6], N[0] = l60[0], l60[1]\n",
    "    else: N[6], N[0] = l60[1], l60[0]\n",
    "\n",
    "    # knowing 3 we can isolate 2 and 5\n",
    "    l25 = [n for n in S if (len(n) == 5) and n != N[3]]\n",
    "\n",
    "    # 5 U 1 = 9\n",
    "    if l25[0] | N[1] == N[9]: N[5], N[2] = l25[0], l25[1]\n",
    "    else: N[5], N[2] = l25[1], l25[0]\n",
    "\n",
    "    # now we just find which number the second column digits map to by reversing the dic and construct the output\n",
    "    return int(\"\".join([f\"{k}\" for s in row[1].split(\" \") if s for k,v in N.items() if v == set(s)]))\n",
    "            \n",
    "t2 = df.apply(decoder, axis=1).sum()\n",
    "\n",
    "print(f\"Task 1: {t1}, Task 2: {t2}\")"
   ]
  },
  {
   "cell_type": "markdown",
   "metadata": {},
   "source": [
    "## 9. Advent"
   ]
  },
  {
   "cell_type": "code",
   "execution_count": 142,
   "metadata": {},
   "outputs": [
    {
     "name": "stdout",
     "output_type": "stream",
     "text": [
      "Task 1: 456, Task 2: 1047744\n"
     ]
    }
   ],
   "source": [
    "M = pd.read_csv(\"inputs/9\", header=None, dtype=\"str\")[0].str.split(\"\", expand=True).iloc[:,1:-1].astype(np.float32).to_numpy()\n",
    "\n",
    "M = np.pad(M, 1, 'constant', constant_values=(M.max()))  # padding with large value to handle edge cases\n",
    "# a min value is lower than its left, right, up and down neighbours\n",
    "mins = (M < np.roll(M, 1, axis=0)) & (M < np.roll(M, -1, axis=0)) & (M < np.roll(M, 1, axis=1)) & (M < np.roll(M, -1, axis=1)) \n",
    "\n",
    "t1 = int((M[mins] + 1).sum())\n",
    "\n",
    "E = np.zeros_like(M)\n",
    "\n",
    "def f(i,j,v):  # recursive function to map each basin represented by the coordinate of its min (i,j) to unique value v, stored in E\n",
    "    E[i,j] = v\n",
    "    for ii, jj in zip([i+1,i-1,i,i],[j,j,j+1,j-1]):\n",
    "        if not(E[ii,jj] == v or M[ii,jj] == 9): f(ii,jj,v)\n",
    "\n",
    "g = lambda i,j: f(i, j, 10 + (i * M.shape[0]) + j)\n",
    "\n",
    "for c in np.argwhere(mins): g(*c) # mapping f to each basin\n",
    "\n",
    "_, counts = np.unique(E[E>9], return_counts=True) # counting unique basins with value above 9 and returning their size\n",
    "t2 = np.product(np.sort(counts)[-3:])  # taking the product of the sizes of the 3 largest basins\n",
    "\n",
    "print(f\"Task 1: {t1}, Task 2: {t2}\")"
   ]
  },
  {
   "cell_type": "markdown",
   "metadata": {},
   "source": [
    "## 10. Advent"
   ]
  },
  {
   "cell_type": "code",
   "execution_count": 143,
   "metadata": {},
   "outputs": [
    {
     "name": "stdout",
     "output_type": "stream",
     "text": [
      "Task 1: 319233, Task 2: 1118976874\n"
     ]
    }
   ],
   "source": [
    "df = pd.read_csv(\"inputs/10\", header=None)\n",
    "\n",
    "def f(s):\n",
    "    sn, so = s, \"\"\n",
    "    while sn != so:  # iteratively remove matching brackets. this ends when no more pairs left\n",
    "        so, sn = sn, sn.replace(\"{}\", \"\").replace(\"[]\", \"\").replace(\"()\", \"\").replace(\"<>\", \"\")\n",
    "    return sn\n",
    "\n",
    "def f1(s):\n",
    "    sn, so = f(s), \"\"\n",
    "    while sn != so:  # iteratively remove left brackets. this ends when only right brackets left\n",
    "        so, sn = sn, sn.replace(\"{\", \"\").replace(\"[\", \"\").replace(\"(\", \"\").replace(\"<\", \"\") \n",
    "    return {\")\":3, \"]\":57, \"}\":1197, \">\":25137}[sn[0]] if sn else 0  # return score of first (0) right bracket found else 0\n",
    "\n",
    "def f2(s):\n",
    "    if f1(s) > 0: return 0  # we only care about the lines that did not have an ending, but no syntax error\n",
    "    sr = f(s)[::-1]  # remove all pairs and reverse, now we have the required closing bracket order\n",
    "    sn = [{\"(\":1,\"[\":2,\"{\":3,\"<\":4}[c] for c in sr]  # replace each brackets with the points it gives\n",
    "    return reduce(lambda a, b: (a * 5) + b, sn, 0)  # reduce (like fold in Ocaml) to compute score\n",
    "\n",
    "t1 = df[0].apply(f1).sum()\n",
    "t2 = df[0].apply(f2).replace(0, np.nan).median().astype(int)\n",
    "\n",
    "print(f\"Task 1: {t1}, Task 2: {t2}\")"
   ]
  },
  {
   "cell_type": "markdown",
   "metadata": {},
   "source": [
    "## 11. Advent"
   ]
  },
  {
   "cell_type": "code",
   "execution_count": 144,
   "metadata": {},
   "outputs": [
    {
     "name": "stdout",
     "output_type": "stream",
     "text": [
      "Task 1: 1620, Task 2: 371\n"
     ]
    }
   ],
   "source": [
    "from scipy.ndimage import generic_filter\n",
    "\n",
    "M = pd.read_csv(\"inputs/11\", sep=r\" *\", header=None, engine=\"python\").iloc[:,1:-1].astype(int).to_numpy()\n",
    "F = np.zeros_like(M, dtype=bool)\n",
    "\n",
    "fc = 0\n",
    "for i in range(1000):\n",
    "    if i == 100: t1 = fc\n",
    "    if F.sum() == 100: break\n",
    "    M = M + 1  # increase energy\n",
    "    F = F * False  # reset F\n",
    "    while True:\n",
    "        MO = generic_filter(input=M, function=lambda m: (m > 9).sum() - (m[4] > 9), footprint=np.ones((3,3)), mode=\"constant\")\n",
    "        F += (M > 9)  # count flashes\n",
    "        M[F] = 0  # reset flashed ones\n",
    "        M += MO  # increase takes only into account the recent flashes\n",
    "        if MO.sum() == 0: break  # if no more updates we continue\n",
    "    fc += F.sum()\n",
    "\n",
    "print(f\"Task 1: {t1}, Task 2: {i}\")"
   ]
  },
  {
   "cell_type": "markdown",
   "metadata": {},
   "source": [
    "## 12. Advent"
   ]
  },
  {
   "cell_type": "code",
   "execution_count": 145,
   "metadata": {},
   "outputs": [
    {
     "name": "stdout",
     "output_type": "stream",
     "text": [
      "Task 1: 5457, Task 2: 128506\n"
     ]
    }
   ],
   "source": [
    "df = pd.read_csv(\"inputs/12\", header=None, sep=\"-\")\n",
    "\n",
    "START, END = \"(\", \")\"  # replace start and end by non-lowercase strings\n",
    "df.replace({\"start\":START, \"end\":END}, inplace=True)\n",
    "\n",
    "D = {}  # dictionary to represent graph\n",
    "for _,(k,v) in df.iterrows():\n",
    "    if k != END and v!= START: D[k] = D.get(k, []) + [v]\n",
    "    if k != START and v!= END: D[v] = D.get(v, []) + [k]\n",
    "D[END] = []  # once at the end, we cant leave\n",
    "\n",
    "def more_than_1_lower(walk):\n",
    "    for cave in walk:\n",
    "        if cave.islower() and walk.count(cave) > 1: return True\n",
    "    return False\n",
    "\n",
    "def f(condition):\n",
    "    counter = 0\n",
    "    walks = [[START]]\n",
    "    for walk in walks:\n",
    "        last = walk[-1]\n",
    "        if last == END: counter += 1\n",
    "        else:\n",
    "            for next in D[last]:\n",
    "                if next.islower() and (next in walk) and condition(walk): continue\n",
    "                walks.append(walk + [next])\n",
    "    return counter\n",
    "\n",
    "print(f\"Task 1: {f(lambda x: True)}, Task 2: {f(more_than_1_lower)}\")"
   ]
  },
  {
   "cell_type": "markdown",
   "metadata": {},
   "source": [
    "## 13. Advent"
   ]
  },
  {
   "cell_type": "code",
   "execution_count": 146,
   "metadata": {},
   "outputs": [
    {
     "name": "stdout",
     "output_type": "stream",
     "text": [
      "Task 1: 716, Task 2:\n",
      "░░░░░░    ░░░░░░      ░░░░    ░░    ░░  ░░░░░░░░  ░░░░░░    ░░        ░░░░░░    \n",
      "░░    ░░  ░░    ░░  ░░    ░░  ░░  ░░    ░░        ░░    ░░  ░░        ░░    ░░  \n",
      "░░    ░░  ░░    ░░  ░░        ░░░░      ░░░░░░    ░░░░░░    ░░        ░░    ░░  \n",
      "░░░░░░    ░░░░░░    ░░        ░░  ░░    ░░        ░░    ░░  ░░        ░░░░░░    \n",
      "░░  ░░    ░░        ░░    ░░  ░░  ░░    ░░        ░░    ░░  ░░        ░░  ░░    \n",
      "░░    ░░  ░░          ░░░░    ░░    ░░  ░░        ░░░░░░    ░░░░░░░░  ░░    ░░  \n"
     ]
    }
   ],
   "source": [
    "df = pd.read_csv(\"inputs/13\", header=None)\n",
    "coords = df.loc[~df.loc[:, 0].str.contains(\"fold\")].astype(int).to_numpy()\n",
    "folds = df[df.loc[:, 0].str.contains(\"fold\")][0].str[11:].str.split(\"=\", expand=True).replace({\"x\":1, \"y\":0}).astype(int).to_numpy()\n",
    "M = np.zeros(coords.max(axis=0)[::-1]+1, dtype=bool)\n",
    "\n",
    "for x,y in coords: M[y,x] = True\n",
    "\n",
    "for i, (axis, fold) in enumerate(folds):\n",
    "    M1, _, M2 = np.split(M, (fold, fold+1), axis)\n",
    "    M2 = np.flip(M2, axis)\n",
    "    M = M1 + M2\n",
    "    if i == 0: t1 = np.sum(M)\n",
    "\n",
    "print(f\"Task 1: {t1}, Task 2:\\n\" + \"\\n\".join([\"\".join([\"░░\" if i else \"  \" for i in row]) for row in M]))"
   ]
  },
  {
   "cell_type": "markdown",
   "metadata": {},
   "source": [
    "## 14. Advent"
   ]
  },
  {
   "cell_type": "code",
   "execution_count": 147,
   "metadata": {},
   "outputs": [
    {
     "name": "stdout",
     "output_type": "stream",
     "text": [
      "Task 1: 2703, Task 2: 2984946368465\n"
     ]
    }
   ],
   "source": [
    "from itertools import product\n",
    "from copy import copy\n",
    "\n",
    "series = pd.read_csv(\"inputs/14\", header=0, sep=\" -> \", engine='python', index_col=0, squeeze=True)\n",
    "\n",
    "units = set(series.unique())\n",
    "pairs = set(\"\".join(pair) for pair in product(units, repeat=2))\n",
    "transitions = {pa+ir:(pa+new, new+ir) for (pa, ir), new in series.iteritems()}\n",
    "\n",
    "def f(iterations):\n",
    "    paircount = {pair:series.name.count(pair) for pair in pairs}  # the series.name is the input string\n",
    "    unitcount = {unit:0 for unit in units}\n",
    "    \n",
    "    for _ in range(iterations):\n",
    "        for pair, count in copy(paircount).items():\n",
    "            rightpair, leftpair   = transitions[pair]\n",
    "            paircount[rightpair] += count\n",
    "            paircount[leftpair]  += count\n",
    "            paircount[pair]      -= count\n",
    "\n",
    "    for (pa, ir), count in paircount.items():\n",
    "        unitcount[pa] += count\n",
    "        unitcount[ir] += count\n",
    "\n",
    "    unitdf = np.ceil( pd.DataFrame.from_dict(unitcount, orient=\"index\") / 2).astype(int)\n",
    "    return int(unitdf.max() - unitdf.min())\n",
    "\n",
    "print(f\"Task 1: {f(10)}, Task 2: {f(40)}\")"
   ]
  },
  {
   "cell_type": "markdown",
   "metadata": {},
   "source": [
    "## 15. Advent"
   ]
  },
  {
   "cell_type": "code",
   "execution_count": 148,
   "metadata": {},
   "outputs": [
    {
     "name": "stdout",
     "output_type": "stream",
     "text": [
      "Task 1: 447, Task 2: 2825\n"
     ]
    }
   ],
   "source": [
    "import heapq as hq\n",
    "\n",
    "def f(t2):\n",
    "    M = pd.read_csv(\"inputs/15\", sep=r\" *\", engine=\"python\", header=None).iloc[:,1:-1].to_numpy()\n",
    "    if t2: M = np.vstack([np.hstack([ (((M+i+j-1) % (10-1)) + 1) for i in range(5)]) for j in range(5)])  # stack modulo-to-1 variants on sides\n",
    "\n",
    "    inf, N0, N1 = M.sum(), M.shape[0], M.shape[1]\n",
    "    D = np.full_like(M, inf)\n",
    "\n",
    "    get_neighbours_of = lambda i,j: {(min(i+1, N0-1), j), (max(i-1, 0), j), (i, min(j+1, N1-1)), (i, max(j-1, 0))}\n",
    "\n",
    "    H = []  # the heap is a priority queue --> smallest elements are popped first\n",
    "    hq.heappush(H, (0, (0,0)))  \n",
    "\n",
    "    while H:\n",
    "        value, node = hq.heappop(H)\n",
    "        if D[node] == inf:  # not yet visited\n",
    "            D[node] = value\n",
    "            for neighbour in get_neighbours_of(*node):\n",
    "                if D[neighbour] > (D[node] + M[neighbour]):  # replace current path if shorter path exists\n",
    "                    hq.heappush(H, (D[node] + M[neighbour], neighbour))\n",
    "\n",
    "    return D[-1, -1]  # get length of shortest path\n",
    "        \n",
    "print(f\"Task 1: {f(False)}, Task 2: {f(True)}\")"
   ]
  },
  {
   "cell_type": "markdown",
   "metadata": {},
   "source": [
    "## 16. Advent"
   ]
  },
  {
   "cell_type": "code",
   "execution_count": 427,
   "metadata": {},
   "outputs": [],
   "source": [
    "# def get(s:str,b: int) -> str:\n",
    "#     global s\n",
    "#     x = s[:b]\n",
    "#     s = s[b:]\n",
    "#     return x\n",
    "\n",
    "# def dec(b: int) -> int:\n",
    "#     return int(b, base=2)\n",
    "\n",
    "# def lit() -> int:\n",
    "#     nums = []\n",
    "#     while True:\n",
    "#         first = dec(get(1))\n",
    "#         nums.append(get(4))\n",
    "#         if first == 0: break\n",
    "#     return dec(\"\".join(nums))\n",
    "\n",
    "# hex2bin = {\n",
    "#     \"0\":\"0000\",\n",
    "#     \"1\":\"0001\",\n",
    "#     \"2\":\"0010\",\n",
    "#     \"3\":\"0011\",\n",
    "#     \"4\":\"0100\",\n",
    "#     \"5\":\"0101\",\n",
    "#     \"6\":\"0110\",\n",
    "#     \"7\":\"0111\",\n",
    "#     \"8\":\"1000\",\n",
    "#     \"9\":\"1001\",\n",
    "#     \"A\":\"1010\",\n",
    "#     \"B\":\"1011\",\n",
    "#     \"C\":\"1100\",\n",
    "#     \"D\":\"1101\",\n",
    "#     \"E\":\"1110\",\n",
    "#     \"F\":\"1111\",\n",
    "# }\n",
    "\n",
    "# # i = \"2056FA18025A00A4F52AB13FAB6CDA779E1B2012DB003301006A35C7D882200C43289F07A5A192D200C1BC011969BA4A485E63D8FE4CC80480C00D500010F8991E23A8803104A3C425967260020E551DC01D98B5FEF33D5C044C0928053296CDAFCB8D4BDAA611F256DE7B945220080244BE59EE7D0A5D0E6545C0268A7126564732552F003194400B10031C00C002819C00B50034400A70039C009401A114009201500C00B00100D00354300254008200609000D39BB5868C01E9A649C5D9C4A8CC6016CC9B4229F3399629A0C3005E797A5040C016A00DD40010B8E508615000213112294749B8D67EC45F63A980233D8BCF1DC44FAC017914993D42C9000282CB9D4A776233B4BF361F2F9F6659CE5764EB9A3E9007ED3B7B6896C0159F9D1EE76B3FFEF4B8FCF3B88019316E51DA181802B400A8CFCC127E60935D7B10078C01F8B50B20E1803D1FA21C6F300661AC678946008C918E002A72A0F27D82DB802B239A63BAEEA9C6395D98A001A9234EA620026D1AE5CA60A900A4B335A4F815C01A800021B1AE2E4441006A0A47686AE01449CB5534929FF567B9587C6A214C6212ACBF53F9A8E7D3CFF0B136FD061401091719BC5330E5474000D887B24162013CC7EDDCDD8E5E77E53AF128B1276D0F980292DA0CD004A7798EEEC672A7A6008C953F8BD7F781ED00395317AF0726E3402100625F3D9CB18B546E2FC9C65D1C20020E4C36460392F7683004A77DB3DB00527B5A85E06F253442014A00010A8F9106108002190B61E4750004262BC7587E801674EB0CCF1025716A054AD47080467A00B864AD2D4B193E92B4B52C64F27BFB05200C165A38DDF8D5A009C9C2463030802879EB55AB8010396069C413005FC01098EDD0A63B742852402B74DF7FDFE8368037700043E2FC2C8CA00087C518990C0C015C00542726C13936392A4633D8F1802532E5801E84FDF34FCA1487D367EF9A7E50A43E90\"\n",
    "# i = \"C200B40A82\"\n",
    "# s = reduce(lambda b, h: b + hex2bin[h], i, \"\")\n",
    "\n",
    "# r = []\n",
    "# V = 0\n",
    "# p\n",
    "\n",
    "# def reader(s):\n",
    "#     v = dec(get(3))\n",
    "#     t = dec(get(3))\n",
    "#     if t == 4:\n",
    "#         return lit()\n",
    "#     else:\n",
    "#         l = \n",
    "#     elif t == 0:\n",
    "#         return np.sum(reader())\n",
    "#     elif t\n",
    "    \n",
    "\n",
    "\n",
    "# while True:\n",
    "#     v = dec(get(3))\n",
    "#     V += v\n",
    "#     t = dec(get(3))\n",
    "#     if t == 4:\n",
    "#         r.append(lit())\n",
    "#     else: # operator packet\n",
    "#         l = dec(get(1))  # length id\n",
    "#         if l == 0:\n",
    "#             tl = dec(get(15))\n",
    "#         else:\n",
    "#             nsp = dec(get(11))\n",
    "\n",
    "#     # print(v)\n",
    "\n",
    "\n",
    "# print(r)\n",
    "# print(V)\n"
   ]
  },
  {
   "cell_type": "code",
   "execution_count": 428,
   "metadata": {},
   "outputs": [],
   "source": [
    "# def get(s:str,b: int) -> str:\n",
    "#     global s\n",
    "#     x = s[:b]\n",
    "#     s = s[b:]\n",
    "#     return x\n",
    "\n",
    "# def dec(b: int) -> int:\n",
    "#     return int(b, base=2)\n",
    "\n",
    "# def lit() -> int:\n",
    "#     nums = []\n",
    "#     while True:\n",
    "#         first = dec(get(1))\n",
    "#         nums.append(get(4))\n",
    "#         if first == 0: break\n",
    "#     return dec(\"\".join(nums))\n",
    "\n",
    "# hex2bin = {\n",
    "#     \"0\":\"0000\",\n",
    "#     \"1\":\"0001\",\n",
    "#     \"2\":\"0010\",\n",
    "#     \"3\":\"0011\",\n",
    "#     \"4\":\"0100\",\n",
    "#     \"5\":\"0101\",\n",
    "#     \"6\":\"0110\",\n",
    "#     \"7\":\"0111\",\n",
    "#     \"8\":\"1000\",\n",
    "#     \"9\":\"1001\",\n",
    "#     \"A\":\"1010\",\n",
    "#     \"B\":\"1011\",\n",
    "#     \"C\":\"1100\",\n",
    "#     \"D\":\"1101\",\n",
    "#     \"E\":\"1110\",\n",
    "#     \"F\":\"1111\",\n",
    "# }\n",
    "\n",
    "# # i = \"2056FA18025A00A4F52AB13FAB6CDA779E1B2012DB003301006A35C7D882200C43289F07A5A192D200C1BC011969BA4A485E63D8FE4CC80480C00D500010F8991E23A8803104A3C425967260020E551DC01D98B5FEF33D5C044C0928053296CDAFCB8D4BDAA611F256DE7B945220080244BE59EE7D0A5D0E6545C0268A7126564732552F003194400B10031C00C002819C00B50034400A70039C009401A114009201500C00B00100D00354300254008200609000D39BB5868C01E9A649C5D9C4A8CC6016CC9B4229F3399629A0C3005E797A5040C016A00DD40010B8E508615000213112294749B8D67EC45F63A980233D8BCF1DC44FAC017914993D42C9000282CB9D4A776233B4BF361F2F9F6659CE5764EB9A3E9007ED3B7B6896C0159F9D1EE76B3FFEF4B8FCF3B88019316E51DA181802B400A8CFCC127E60935D7B10078C01F8B50B20E1803D1FA21C6F300661AC678946008C918E002A72A0F27D82DB802B239A63BAEEA9C6395D98A001A9234EA620026D1AE5CA60A900A4B335A4F815C01A800021B1AE2E4441006A0A47686AE01449CB5534929FF567B9587C6A214C6212ACBF53F9A8E7D3CFF0B136FD061401091719BC5330E5474000D887B24162013CC7EDDCDD8E5E77E53AF128B1276D0F980292DA0CD004A7798EEEC672A7A6008C953F8BD7F781ED00395317AF0726E3402100625F3D9CB18B546E2FC9C65D1C20020E4C36460392F7683004A77DB3DB00527B5A85E06F253442014A00010A8F9106108002190B61E4750004262BC7587E801674EB0CCF1025716A054AD47080467A00B864AD2D4B193E92B4B52C64F27BFB05200C165A38DDF8D5A009C9C2463030802879EB55AB8010396069C413005FC01098EDD0A63B742852402B74DF7FDFE8368037700043E2FC2C8CA00087C518990C0C015C00542726C13936392A4633D8F1802532E5801E84FDF34FCA1487D367EF9A7E50A43E90\"\n",
    "# i = \"C200B40A82\"\n",
    "# s = reduce(lambda b, h: b + hex2bin[h], i, \"\")\n",
    "\n",
    "\n",
    "# inside_op = 0\n",
    "\n",
    "# while True:\n",
    "#     v = dec(get(3))\n",
    "#     V += v\n",
    "#     t = dec(get(3))\n",
    "#     if t == 4:\n",
    "#         print(lit())\n",
    "#     else: # operator packet\n",
    "#         if \n",
    "#         l = dec(get(1))  # length id\n",
    "#         if l == 0:\n",
    "#             tl = dec(get(15))\n",
    "#         else:\n",
    "#             nsp = dec(get(11))\n",
    "\n",
    "#     # print(v)\n",
    "\n",
    "\n",
    "# print(r)\n",
    "# print(V)\n"
   ]
  },
  {
   "cell_type": "code",
   "execution_count": 429,
   "metadata": {},
   "outputs": [],
   "source": [
    "# def get(s:str, b: int) -> tuple(str, str):\n",
    "#     x = s[:b]\n",
    "#     s = s[b:]\n",
    "#     return s, x\n",
    "\n",
    "# def dec(s:str, b:int) -> tuple(str, int):\n",
    "#     return s, dec(b)\n",
    "\n",
    "# def dec_(b: int) -> int:\n",
    "#     return int(b, base=2)\n",
    "\n",
    "# def lit(s) -> int:\n",
    "#     nums = []\n",
    "#     while True:\n",
    "#         first = dec(get(1))\n",
    "#         nums.append(get(4))\n",
    "#         if first == 0: break\n",
    "#     return dec(\"\".join(nums))\n",
    "\n",
    "# hex2bin = {\n",
    "#     \"0\":\"0000\",\n",
    "#     \"1\":\"0001\",\n",
    "#     \"2\":\"0010\",\n",
    "#     \"3\":\"0011\",\n",
    "#     \"4\":\"0100\",\n",
    "#     \"5\":\"0101\",\n",
    "#     \"6\":\"0110\",\n",
    "#     \"7\":\"0111\",\n",
    "#     \"8\":\"1000\",\n",
    "#     \"9\":\"1001\",\n",
    "#     \"A\":\"1010\",\n",
    "#     \"B\":\"1011\",\n",
    "#     \"C\":\"1100\",\n",
    "#     \"D\":\"1101\",\n",
    "#     \"E\":\"1110\",\n",
    "#     \"F\":\"1111\",\n",
    "# }\n",
    "\n",
    "# # i = \"2056FA18025A00A4F52AB13FAB6CDA779E1B2012DB003301006A35C7D882200C43289F07A5A192D200C1BC011969BA4A485E63D8FE4CC80480C00D500010F8991E23A8803104A3C425967260020E551DC01D98B5FEF33D5C044C0928053296CDAFCB8D4BDAA611F256DE7B945220080244BE59EE7D0A5D0E6545C0268A7126564732552F003194400B10031C00C002819C00B50034400A70039C009401A114009201500C00B00100D00354300254008200609000D39BB5868C01E9A649C5D9C4A8CC6016CC9B4229F3399629A0C3005E797A5040C016A00DD40010B8E508615000213112294749B8D67EC45F63A980233D8BCF1DC44FAC017914993D42C9000282CB9D4A776233B4BF361F2F9F6659CE5764EB9A3E9007ED3B7B6896C0159F9D1EE76B3FFEF4B8FCF3B88019316E51DA181802B400A8CFCC127E60935D7B10078C01F8B50B20E1803D1FA21C6F300661AC678946008C918E002A72A0F27D82DB802B239A63BAEEA9C6395D98A001A9234EA620026D1AE5CA60A900A4B335A4F815C01A800021B1AE2E4441006A0A47686AE01449CB5534929FF567B9587C6A214C6212ACBF53F9A8E7D3CFF0B136FD061401091719BC5330E5474000D887B24162013CC7EDDCDD8E5E77E53AF128B1276D0F980292DA0CD004A7798EEEC672A7A6008C953F8BD7F781ED00395317AF0726E3402100625F3D9CB18B546E2FC9C65D1C20020E4C36460392F7683004A77DB3DB00527B5A85E06F253442014A00010A8F9106108002190B61E4750004262BC7587E801674EB0CCF1025716A054AD47080467A00B864AD2D4B193E92B4B52C64F27BFB05200C165A38DDF8D5A009C9C2463030802879EB55AB8010396069C413005FC01098EDD0A63B742852402B74DF7FDFE8368037700043E2FC2C8CA00087C518990C0C015C00542726C13936392A4633D8F1802532E5801E84FDF34FCA1487D367EF9A7E50A43E90\"\n",
    "# i = \"C200B40A82\"\n",
    "# s = reduce(lambda b, h: b + hex2bin[h], i, \"\")\n",
    "\n",
    "# r = []\n",
    "# V = 0\n",
    "# p\n",
    "\n",
    "# def reader():\n",
    "#     v = dec(get(3))\n",
    "#     t = dec(get(3))\n",
    "#     if t == 4:\n",
    "#         return lit()\n",
    "#     else:\n",
    "#         l = dec(get(1))\n",
    "#         if l == 0:\n",
    "#             tl = dec(get(15))\n",
    "#             sp = dec(g)\n",
    "\n",
    "\n",
    "\n",
    "#     #     if \n",
    "\n",
    "#     #     l = \n",
    "#     # elif t == 0:\n",
    "#     #     return np.sum(reader())\n",
    "#     # elif t\n",
    "    \n",
    "\n",
    "\n",
    "# while True:\n",
    "#     v = dec(get(3))\n",
    "#     V += v\n",
    "#     t = dec(get(3))\n",
    "#     if t == 4:\n",
    "#         r.append(lit())\n",
    "#     else: # operator packet\n",
    "#         l = dec(get(1))  # length id\n",
    "#         if l == 0:\n",
    "#             tl = dec(get(15))\n",
    "#         else:\n",
    "#             nsp = dec(get(11))\n",
    "\n",
    "#     # print(v)\n",
    "\n",
    "\n",
    "# print(r)\n",
    "# print(V)\n"
   ]
  },
  {
   "cell_type": "markdown",
   "metadata": {},
   "source": [
    "## 17. Advent"
   ]
  },
  {
   "cell_type": "code",
   "execution_count": 249,
   "metadata": {},
   "outputs": [
    {
     "name": "stdout",
     "output_type": "stream",
     "text": [
      "Task 1: 10011, Task 2: 2994\n"
     ]
    }
   ],
   "source": [
    "xmin, xmax, ymax, ymin = pd.read_csv(\"inputs/17\", sep=\"\\.\\.|=|, \", engine=\"python\").columns[[1,2,4,5]].astype(int)\n",
    "\n",
    "# the projectory comes down at same velocity as shot up, so will inevitably be at (x, y=0)\n",
    "# at some point with velocity vy, the next step will be 0-vy. For the projectory to still be\n",
    "# in target, vy must thus be ymax. Hence vy before reaching y=0 was ymax-1, before ymax-2, ...\n",
    "t1 = sum(range(abs(ymax)))\n",
    "\n",
    "sign = lambda i: 1 if (i > 0) else 0 if (i == 0) else -1\n",
    "\n",
    "def lastsummand(V): # returns last summand i where 0 + 1 + 2 + ... + i >= V, but ... + (i-1) < V\n",
    "    c = 0\n",
    "    for i in range(V):\n",
    "        c += i\n",
    "        if c >= V: return i\n",
    "\n",
    "xvmin = lastsummand(xmin)  # xvmin = i where sum(range(i)) > xmin, anything lower never target\n",
    "xvmax = xmax  # anything larger and we shoot too far on first iteration\n",
    "yvmin = ymax  # anyhting lower, and y pos after first shot is below the target\n",
    "yvmax = -ymax  # anything larger and momentum past y=0 overshoots target (see t1 comment)\n",
    "\n",
    "t2 = 0\n",
    "for xvi in range(xvmin, xvmax+1):\n",
    "    for yvi in range(yvmin, yvmax+1):\n",
    "        xv, yv, x, y = xvi, yvi, 0, 0  # get initial values\n",
    "        while (x <= xmax) and (y >= ymax):  # compute trajectory until surpassed max values\n",
    "            x  += xv\n",
    "            y  += yv\n",
    "            xv -= sign(xv)\n",
    "            yv -= 1\n",
    "            if (x >= xmin) and (x <= xmax) and (y <= ymin) and (y >= ymax):  # check if in target\n",
    "                t2 += 1\n",
    "                break\n",
    "\n",
    "print(f\"Task 1: {t1}, Task 2: {t2}\")"
   ]
  },
  {
   "cell_type": "markdown",
   "metadata": {},
   "source": [
    "## 18. Advent"
   ]
  },
  {
   "cell_type": "code",
   "execution_count": 288,
   "metadata": {},
   "outputs": [],
   "source": [
    "# l = [1,2]\n",
    "\n",
    "# class Tree:\n",
    "\n",
    "#     def __init__(self, l: list):\n",
    "\n",
    "#         self.root = None\n",
    "#         self.left, self.right = l\n",
    "#         self.value = None\n",
    "\n",
    "#     # def print(self):\n",
    "#     #     if self.value:\n",
    "\n",
    "#     #     else:\n",
    "#     #         self.left.print()\n",
    "#     #         self.right.print()\n",
    "        \n",
    "# a = Tree(l)\n",
    "\n",
    "\n",
    "# a.print()\n",
    "\n",
    "# # l = [[[[[9,8],1],2],3],4]\n",
    "\n",
    "# l = [[[[4,3],4],4],[7,[[8,4],9]]]\n",
    "\n",
    "\n",
    "\n",
    "# # l[0]"
   ]
  },
  {
   "cell_type": "markdown",
   "metadata": {},
   "source": [
    "## 19. Advent"
   ]
  },
  {
   "cell_type": "markdown",
   "metadata": {},
   "source": [
    "we can measure distances between points, and see if they are the same"
   ]
  },
  {
   "cell_type": "code",
   "execution_count": 430,
   "metadata": {},
   "outputs": [],
   "source": [
    "# df = pd.read_csv(\"inputs/19ttt\", header=None, engine=\"python\", sep=\",|scanner\").reset_index()\n",
    "# coords = []\n",
    "# for _, (c1, c2, c3) in df.iterrows():\n",
    "#     if \"---\" in c1:\n",
    "#         scanner = int(c2[1:-4])\n",
    "#         coords.append([])\n",
    "#     else:\n",
    "#         coords[scanner].append([int(c1), int(c2), int(c3)])\n",
    "\n",
    "# coords = [np.array(c) for c in coords]\n",
    "\n",
    "# s0 =coords[0]\n",
    "# s1 =coords[1]\n",
    "\n",
    "# # s0\n",
    "\n",
    "# # s1\n",
    "\n",
    "# # def get_all_rotations(l):\n",
    "\n",
    "# # R = np.array([\n",
    "# #     [[1,0,0],[0,1,0],[0,0,1]],\n",
    "# #     [[1,0,0],[0,0,-1],[0,1,0]],\n",
    "# #     [[1,0,0],[0,-1,0],[0,0,-1]],\n",
    "# #     [[1,0,0],[0,0,1],[0,-1,0]],\n",
    "\n",
    "# #     [[0,-1,0],[1,0,0],[0,0,1]],\n",
    "# # ])\n",
    "\n",
    "\n",
    "\n",
    "\n",
    "\n",
    "# # s0 @ R[-1]\n",
    "\n",
    "# # s0\n"
   ]
  },
  {
   "cell_type": "markdown",
   "metadata": {},
   "source": [
    "## 20. Advent"
   ]
  },
  {
   "cell_type": "code",
   "execution_count": 177,
   "metadata": {},
   "outputs": [
    {
     "name": "stdout",
     "output_type": "stream",
     "text": [
      "Task 1: 5306, Task 2: 17497\n"
     ]
    }
   ],
   "source": [
    "from scipy.ndimage import generic_filter, convolve\n",
    "\n",
    "df = pd.read_csv(\"inputs/20\")\n",
    "M = df.iloc[:,0].str.split(\"\", expand=True).iloc[:, 1:-1].replace({\"#\":1, \".\":0}).astype(np.uint16).to_numpy()\n",
    "s = np.where(np.array(list(df.columns[0])) == \"#\", True, False).astype(np.uint16)\n",
    "\n",
    "P2 = np.array([256, 128, 64, 32, 16, 8, 4, 2, 1]).astype(np.uint16)\n",
    "P2C = P2[::-1].reshape(3,3) # for convolution, reverse and reshape filter\n",
    "iter = 50\n",
    "sums = []\n",
    "\n",
    "\"SOLUTION 1: using convolve, padding beforehand, takes ~ 0.1s on 50 iterations big input\"\n",
    "M = np.pad(M, iter+1, \"constant\", constant_values=0)\n",
    "for _ in range(iter):\n",
    "    M = convolve(M, P2C, mode=\"nearest\")  # using enough padding + 'nearest' mimics infinite border\n",
    "    M = s[M]  # treat M like an array of indices and get values at those indices from s, in same shape as M\n",
    "    sums.append(M.sum())\n",
    "\n",
    "\"SOLUTION 2: using generic filter, padding beforehand, takes ~ 20s on 50 iterations big input\"\n",
    "# M = np.pad(M, iter+1, \"constant\", constant_values=0)\n",
    "# for _ in range(iter):\n",
    "#     M = generic_filter(input=M, function=lambda m: s[np.sum(m * P2, dtype=np.uint16)], footprint=np.ones((3,3)), mode=\"nearest\")  # use nearest to mimic infinite border\n",
    "#     sums.append(M.sum())\n",
    "\n",
    "\"SOLUTION 3: using generic filter + iterative alternating padding, takes ~ 10s on 50 iterations big input\"\n",
    "# for i in range(iter):\n",
    "#     cval = (i%2) if s[0] == True else 0  # if 3x3 of 0s maps to 1, need to fill with alternating constant\n",
    "#     M = np.pad(M, 1, \"constant\", constant_values=cval)\n",
    "#     M = generic_filter(input=M, function=lambda m: s[np.sum(m * P2, dtype=np.uint16)], footprint=np.ones((3,3)), mode=\"nearest\")  # use nearest to mimic infinite border\n",
    "#     sums.append(M.sum())\n",
    "\n",
    "print(f\"Task 1: {sums[1]}, Task 2: {sums[iter-1]}\")"
   ]
  },
  {
   "cell_type": "markdown",
   "metadata": {},
   "source": [
    "## 21. Advent"
   ]
  },
  {
   "cell_type": "code",
   "execution_count": 203,
   "metadata": {},
   "outputs": [
    {
     "data": {
      "text/plain": [
       "(7, 8, 22, 20, 33)"
      ]
     },
     "execution_count": 203,
     "metadata": {},
     "output_type": "execute_result"
    }
   ],
   "source": [
    "s1p = 1#4\n",
    "s2p = 3#8\n",
    "s1c = 0\n",
    "s2c = 0\n",
    "\n",
    "dice = 0\n",
    "rolls = 0\n",
    "\n",
    "for i in range(300):\n",
    "    roll = ((dice+1-1)%100)+1, ((dice+2-1)%100)+1, ((dice+3-1)%100)+1\n",
    "    # print(roll)\n",
    "    roll = sum(roll)\n",
    "    dice += 3\n",
    "    rolls += 3 \n",
    "    \n",
    "\n",
    "    s1p = (((s1p + roll)-1) % 10)+1\n",
    "    s1c += s1p\n",
    "    if s1c >= 21:\n",
    "        break\n",
    "\n",
    "    roll = ((dice+1-1)%100)+1, ((dice+2-1)%100)+1, ((dice+3-1)%100)+1\n",
    "    # print(roll)\n",
    "    roll = sum(roll)\n",
    "    dice += 3\n",
    "    rolls += 3 \n",
    "\n",
    "    # print(s2p, roll)\n",
    "    s2p = (((s2p + roll)-1) % 10)+1\n",
    "    s2c += s2p\n",
    "    if s2c >= 21:\n",
    "        break\n",
    "    # break\n",
    "\n",
    "\n",
    "s1p, s2p, s1c, s2c, rolls"
   ]
  },
  {
   "cell_type": "code",
   "execution_count": 317,
   "metadata": {},
   "outputs": [
    {
     "data": {
      "text/plain": [
       "{3: 1, 4: 3, 5: 6, 6: 7, 7: 6, 8: 3, 9: 1}"
      ]
     },
     "execution_count": 317,
     "metadata": {},
     "output_type": "execute_result"
    }
   ],
   "source": [
    "# 7 possible dice rolls\n",
    "\n",
    "# 3x3\n",
    "\n",
    "R = {k:0 for k in range(3,10)}\n",
    "\n",
    "for r1 in range(3):\n",
    "    for r2 in range(3):\n",
    "        for r3 in range(3):\n",
    "            R[r1+r2+r3+3] += 1\n",
    "\n",
    "# plt.plot(R, marker=\"o\")\n",
    "\n",
    "R"
   ]
  },
  {
   "cell_type": "code",
   "execution_count": 324,
   "metadata": {},
   "outputs": [
    {
     "name": "stdout",
     "output_type": "stream",
     "text": [
      "player 1 wins\n"
     ]
    },
    {
     "data": {
      "text/plain": [
       "979232859802816"
      ]
     },
     "execution_count": 324,
     "metadata": {},
     "output_type": "execute_result"
    }
   ],
   "source": [
    "U = np.zeros((10,22,10,22), dtype=np.int64)\n",
    "\n",
    "# U[ 4-1, 0, 8-1, 0] = 1\n",
    "U[ 4, 0, 8, 0] = 1\n",
    "\n",
    "for score in range(21):\n",
    "    for rollval, rollcount in R.items():\n",
    "        for pos in range(10):\n",
    "            newpos = (pos + rollval) % 10  # new pos in [0, ..., 9]\n",
    "            newscore = score + newpos + 1  # new score in [1, ..., 10]\n",
    "            if newscore >= 21: # if reaching 21 or higher\n",
    "                # p1 has won. we still need to count how often he has won\n",
    "                # so we can count it as a win (reaching 21). afterwards\n",
    "                # p2 should not play anymore in this particular universe\n",
    "                newscore = 21\n",
    "            oldcount = U[pos, score, :, :]\n",
    "            # U[pos, score, :, :] = 0\n",
    "            newcount = oldcount * rollcount\n",
    "            U[newpos, newscore, :, :] += newcount\n",
    "\n",
    "            # if newscore == 21: continue\n",
    "\n",
    "            newpos = (pos + rollval) % 10  # new pos in [0, ..., 9]\n",
    "            newscore = score + newpos + 1  # new score in [1, ..., 10]\n",
    "            if newscore >= 21: # if reaching 21 or higher\n",
    "                # p1 has won. we still need to count how often he has won\n",
    "                # so we can count it as a win (reaching 21). afterwards\n",
    "                # p2 should not play anymore in this particular universe\n",
    "                newscore = 21\n",
    "            oldcount = U[:, :, pos, score]\n",
    "            # U[pos, score, :, :] = 0\n",
    "            newcount = oldcount * rollcount\n",
    "            U[:, :, newpos, newscore] += newcount\n",
    "\n",
    "            U[pos, score, pos, score] = 0\n",
    "\n",
    "            # if newscore == 21: continue\n",
    "# U.sum()\n",
    "\n",
    "print(\"player 1 wins\")\n",
    "# all pos for p1, score = 21, \n",
    "U[:, -1, :, :-1].sum()\n",
    "# U[:, :-1, :, :-1].sum()"
   ]
  },
  {
   "cell_type": "markdown",
   "metadata": {},
   "source": [
    "## 22. Advent"
   ]
  },
  {
   "cell_type": "code",
   "execution_count": 345,
   "metadata": {},
   "outputs": [
    {
     "name": "stderr",
     "output_type": "stream",
     "text": [
      "/Library/Frameworks/Python.framework/Versions/3.9/lib/python3.9/site-packages/pandas/util/_decorators.py:311: ParserWarning: Falling back to the 'python' engine because the 'c' engine does not support regex separators (separators > 1 char and different from '\\s+' are interpreted as regex); you can avoid this warning by specifying engine='python'.\n",
      "  return func(*args, **kwargs)\n"
     ]
    },
    {
     "data": {
      "text/html": [
       "<div>\n",
       "<style scoped>\n",
       "    .dataframe tbody tr th:only-of-type {\n",
       "        vertical-align: middle;\n",
       "    }\n",
       "\n",
       "    .dataframe tbody tr th {\n",
       "        vertical-align: top;\n",
       "    }\n",
       "\n",
       "    .dataframe thead th {\n",
       "        text-align: right;\n",
       "    }\n",
       "</style>\n",
       "<table border=\"1\" class=\"dataframe\">\n",
       "  <thead>\n",
       "    <tr style=\"text-align: right;\">\n",
       "      <th></th>\n",
       "      <th>0</th>\n",
       "      <th>4</th>\n",
       "      <th>6</th>\n",
       "      <th>10</th>\n",
       "      <th>12</th>\n",
       "      <th>16</th>\n",
       "      <th>18</th>\n",
       "    </tr>\n",
       "  </thead>\n",
       "  <tbody>\n",
       "    <tr>\n",
       "      <th>0</th>\n",
       "      <td>1</td>\n",
       "      <td>10</td>\n",
       "      <td>12</td>\n",
       "      <td>10</td>\n",
       "      <td>12</td>\n",
       "      <td>10</td>\n",
       "      <td>12</td>\n",
       "    </tr>\n",
       "    <tr>\n",
       "      <th>1</th>\n",
       "      <td>1</td>\n",
       "      <td>11</td>\n",
       "      <td>13</td>\n",
       "      <td>11</td>\n",
       "      <td>13</td>\n",
       "      <td>11</td>\n",
       "      <td>13</td>\n",
       "    </tr>\n",
       "    <tr>\n",
       "      <th>2</th>\n",
       "      <td>0</td>\n",
       "      <td>9</td>\n",
       "      <td>11</td>\n",
       "      <td>9</td>\n",
       "      <td>11</td>\n",
       "      <td>9</td>\n",
       "      <td>11</td>\n",
       "    </tr>\n",
       "    <tr>\n",
       "      <th>3</th>\n",
       "      <td>1</td>\n",
       "      <td>10</td>\n",
       "      <td>10</td>\n",
       "      <td>10</td>\n",
       "      <td>10</td>\n",
       "      <td>10</td>\n",
       "      <td>10</td>\n",
       "    </tr>\n",
       "  </tbody>\n",
       "</table>\n",
       "</div>"
      ],
      "text/plain": [
       "   0   4   6   10  12  16  18\n",
       "0   1  10  12  10  12  10  12\n",
       "1   1  11  13  11  13  11  13\n",
       "2   0   9  11   9  11   9  11\n",
       "3   1  10  10  10  10  10  10"
      ]
     },
     "execution_count": 345,
     "metadata": {},
     "output_type": "execute_result"
    }
   ],
   "source": [
    "df = pd.read_csv(\"inputs/22t\", sep=\",| |(x|y|z)=|\\.\\.\", header=None).iloc[:, [0,4,6,10,12,16,18]].replace({\"on\":1, \"off\":0}).astype(int)\n",
    "m = df.min().min()\n",
    "M = df.max().max()\n",
    "R = np.zeros(shape=())\n",
    "\n",
    "cubedict = {}"
   ]
  },
  {
   "cell_type": "code",
   "execution_count": 2,
   "metadata": {},
   "outputs": [
    {
     "data": {
      "text/plain": [
       "1.0"
      ]
     },
     "execution_count": 2,
     "metadata": {},
     "output_type": "execute_result"
    }
   ],
   "source": [
    "x = np.zeros(shape=(100, 100, 100))\n",
    "\n",
    "x[1, 1, 12] = 1\n",
    "\n",
    "np.sum(x)"
   ]
  },
  {
   "cell_type": "code",
   "execution_count": 5,
   "metadata": {},
   "outputs": [],
   "source": [
    "# from scipy.sparse import bsr_matrix\n",
    "\n",
    "# bsr_matrix((10, 10, 10), dtype=np.int8)\n",
    "\n"
   ]
  },
  {
   "cell_type": "code",
   "execution_count": null,
   "metadata": {},
   "outputs": [],
   "source": [
    "# solving it in 1D efficiently: dict that keeps track of "
   ]
  },
  {
   "cell_type": "markdown",
   "metadata": {},
   "source": [
    "## 23. Advent"
   ]
  },
  {
   "cell_type": "code",
   "execution_count": 13,
   "metadata": {},
   "outputs": [
    {
     "data": {
      "text/plain": [
       "19046"
      ]
     },
     "execution_count": 13,
     "metadata": {},
     "output_type": "execute_result"
    }
   ],
   "source": [
    "#############\n",
    "#...........#\n",
    "###D#A#C#C###\n",
    "  #D#A#B#B#\n",
    "  #########\n",
    "\n",
    "# make 2 A go to left side:                     5 + 5\n",
    "# remove C from pos 3 into pos 3.5              200 (up, right) [unoptimisable]\n",
    "# move B to empty pos 2                         60 (into second pos 2 slot) [unoptimisable]\n",
    "# move C back into pos 3                        300 (left, down, down) [unoptimisable]\n",
    "# move C from pos 4 into pos 3                  400 (up left left down) [unoptimisable]\n",
    "# B into correct room                           70 [unoptimisable]\n",
    "# D into correct room                           9000 [unoptimisable]\n",
    "# other D into correct room                     9000 [unoptimisable]\n",
    "# A into correct room                           3\n",
    "# other A into correct room                     3\n",
    "\n",
    "5 + 5 + 200 + 60 + 300 + 400 + 70 + 9000 + 9000 + 3 + 3\n",
    "\n",
    "#############\n",
    "#...........#\n",
    "###D#A#C#C###\n",
    "  #D#C#B#A#\n",
    "  #D#B#A#C#\n",
    "  #D#A#B#B#\n",
    "  #########\n",
    "\n",
    "# for the D's to move, all As need to be in pos 0, 0.5, 4.5, 5 (side corners)\n",
    "# however that does not mean we have to reserve the corners for A.\n",
    "# since the last A is in B's slot, it means we can leave one corner for a B, which can move back once this A is gone\n",
    "\n",
    "# move A to 0                               5 * 1           [MIN]\n",
    "# move C to 0.5                             5 * 100\n",
    "# (C to 5 nogo since A needs niche)\n",
    "# move B to 1.5                             4 * 10          [MIN]\n",
    "# move A to 5                               10 * 1          [MIN]\n",
    "# move B into B slot                        5 * 10          [MIN]\n",
    "\n",
    "#############\n",
    "#AC........A#\n",
    "###D#.#C#C###\n",
    "  #D#.#B#A#\n",
    "  #D#.#A#C#\n",
    "  #D#B#B#B#\n",
    "  #########\n",
    "\n",
    "# move C to 1.5                             4 * 100\n",
    "# (C to 4.5 nogo since A needs niche)\n",
    "# move B into slot                          7 * 10          [MIN]\n",
    "# move A to other A                         6 * 1\n",
    "# move B into slot                          8 * 10          [MIN]\n",
    "\n",
    "#############\n",
    "#AC.C.....AA#\n",
    "###D#.#.#C###\n",
    "  #D#B#.#A#\n",
    "  #D#B#.#C#\n",
    "  #D#B#.#B#\n",
    "  #########\n",
    "\n",
    "# move 3C into slot                         (7 + 8 + 5) * 100\n",
    "# move A to 0.5                             9 * 1\n",
    "# move last C into slot                     6 * 100\n",
    "# move last B into slot                     9 * 10\n",
    "\n",
    "#############\n",
    "#AA.......AA#\n",
    "###D#B#C#.###\n",
    "  #D#B#C#.#\n",
    "  #D#B#C#.#\n",
    "  #D#B#C#.#\n",
    "  #########\n",
    "\n",
    "# move all D's                              (11 * 4) * 1000   [MIN]\n",
    "# move all A's                              (11 + 11 + 3 + 3) * 1   [MIN]"
   ]
  },
  {
   "cell_type": "code",
   "execution_count": null,
   "metadata": {},
   "outputs": [],
   "source": [
    "#############\n",
    "#AC.B......A#\n",
    "###D#.#C#C###\n",
    "  #D#.#B#A#\n",
    "  #D#.#A#C#\n",
    "  #D#.#B#B#\n",
    "  #########\n",
    "\n",
    "#############\n",
    "#AC.C.....CA#\n",
    "###D#.#C#.###\n",
    "  #D#.#B#A#\n",
    "  #D#.#A#C#\n",
    "  #D#B#B#B#\n",
    "  #########"
   ]
  },
  {
   "cell_type": "code",
   "execution_count": 16,
   "metadata": {},
   "outputs": [
    {
     "ename": "SyntaxError",
     "evalue": "invalid syntax (3323127224.py, line 15)",
     "output_type": "error",
     "traceback": [
      "\u001b[0;36m  File \u001b[0;32m\"/var/folders/d9/6_lw279s459fpbps9x1mxd6m0000gn/T/ipykernel_60210/3323127224.py\"\u001b[0;36m, line \u001b[0;32m15\u001b[0m\n\u001b[0;31m    )\u001b[0m\n\u001b[0m    ^\u001b[0m\n\u001b[0;31mSyntaxError\u001b[0m\u001b[0;31m:\u001b[0m invalid syntax\n"
     ]
    }
   ],
   "source": [
    "#############\n",
    "#...........#\n",
    "###D#A#C#C###\n",
    "  #D#C#B#A#\n",
    "  #D#B#A#C#\n",
    "  #D#A#B#B#\n",
    "  #########\n",
    "\n",
    "# theory: clear C hole before B hole since C more costly then B\n",
    "# need to put A into corners, so cant put B or C into 0 or 5\n",
    "A, B, C, D = 1, 10, 100, 1000\n",
    "(\n",
    "+ 5 * A  # move A2 to 0\n",
    "+ 2 * C  # move C3 to 3.5\n",
    "+ 7 * B  # move B3 to 0.5\n",
    "+ 7 * A  # move A to 5\n",
    "+ 7 * B  # move B to 1.5\n",
    "\n",
    "#############\n",
    "#AB.B...C..A#\n",
    "###D#.#.#C###\n",
    "  #D#C#.#A#\n",
    "  #D#B#.#C#\n",
    "  #D#A#.#B#\n",
    "  #########\n",
    "\n",
    ")\n"
   ]
  },
  {
   "cell_type": "code",
   "execution_count": 14,
   "metadata": {},
   "outputs": [
    {
     "data": {
      "text/plain": [
       "47888"
      ]
     },
     "execution_count": 14,
     "metadata": {},
     "output_type": "execute_result"
    }
   ],
   "source": [
    "5 + 500 + 40 + 10 + 50 + 400 + 70 + 6 + 80 + 2000 + 9 + 600 + 90 + 44000 + 11 + 11 + 3 + 3"
   ]
  },
  {
   "cell_type": "code",
   "execution_count": null,
   "metadata": {},
   "outputs": [],
   "source": [
    "47484"
   ]
  }
 ],
 "metadata": {
  "interpreter": {
   "hash": "aee8b7b246df8f9039afb4144a1f6fd8d2ca17a180786b69acc140d282b71a49"
  },
  "kernelspec": {
   "display_name": "Python 3 (ipykernel)",
   "language": "python",
   "name": "python3"
  },
  "language_info": {
   "codemirror_mode": {
    "name": "ipython",
    "version": 3
   },
   "file_extension": ".py",
   "mimetype": "text/x-python",
   "name": "python",
   "nbconvert_exporter": "python",
   "pygments_lexer": "ipython3",
   "version": "3.9.7"
  }
 },
 "nbformat": 4,
 "nbformat_minor": 2
}
