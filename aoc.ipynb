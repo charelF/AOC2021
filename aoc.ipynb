{
 "cells": [
  {
   "cell_type": "markdown",
   "metadata": {},
   "source": [
    "# Advent of Code\n",
    "Charel Felten"
   ]
  },
  {
   "cell_type": "code",
   "execution_count": 173,
   "metadata": {},
   "outputs": [],
   "source": [
    "import pandas as pd\n",
    "import numpy as np\n",
    "import matplotlib.pyplot as plt"
   ]
  },
  {
   "cell_type": "markdown",
   "metadata": {},
   "source": [
    "## 1. Advent"
   ]
  },
  {
   "cell_type": "code",
   "execution_count": 3,
   "metadata": {},
   "outputs": [
    {
     "name": "stdout",
     "output_type": "stream",
     "text": [
      "Task 1: 1266, Task 2: 1217\n"
     ]
    }
   ],
   "source": [
    "df = pd.read_csv(\"inputs/1\", header=None)\n",
    "\n",
    "f = lambda w: (df.rolling(w).sum().dropna().diff().fillna(0) > 0).sum().loc[0]\n",
    "\n",
    "print(f\"Task 1: {f(1)}, Task 2: {f(3)}\")"
   ]
  },
  {
   "cell_type": "markdown",
   "metadata": {},
   "source": [
    "## 2. Advent"
   ]
  },
  {
   "cell_type": "code",
   "execution_count": 4,
   "metadata": {},
   "outputs": [
    {
     "name": "stdout",
     "output_type": "stream",
     "text": [
      "Task 1: 1882980, Task 2: 1971232560\n"
     ]
    }
   ],
   "source": [
    "df = pd.read_csv(\"inputs/2\", header=None, sep=\" \", names=[\"direction\", \"distance\"])\n",
    "\n",
    "t1 = df.groupby(\"direction\").sum().apply(lambda col: (col[\"down\"] - col[\"up\"]) * col[\"forward\"]).loc[\"distance\"]\n",
    "\n",
    "h, d, a = 0,0,0\n",
    "for _, (dir, dis) in df.iterrows():\n",
    "    if dir == \"down\": a += dis\n",
    "    if dir == \"up\": a -= dis\n",
    "    if dir == \"forward\":\n",
    "        h += dis\n",
    "        d += a*dis\n",
    "        \n",
    "print(f\"Task 1: {t1}, Task 2: {h * d}\")"
   ]
  },
  {
   "cell_type": "markdown",
   "metadata": {},
   "source": [
    "## 3. Advent"
   ]
  },
  {
   "cell_type": "code",
   "execution_count": 8,
   "metadata": {},
   "outputs": [
    {
     "name": "stdout",
     "output_type": "stream",
     "text": [
      "Task 1: 4147524, Task 2: 3570354\n"
     ]
    }
   ],
   "source": [
    "df = pd.read_csv(\"inputs/3\", header=None, sep=\" \", dtype=\"str\")\n",
    "\n",
    "t1 = df\\\n",
    "    .apply(lambda r: list(r.iloc[0]), result_type=\"expand\", axis=1)\\\n",
    "    .agg([\"median\", lambda c: int(not(c.median()))])\\\n",
    "    .apply(lambda c: 2**((len(df.iloc[0,0])-1)-c.name) * c)\\\n",
    "    .sum(axis=1).prod().astype(int)\n",
    "\n",
    "t2 = df.apply(lambda r: list(r.iloc[0]), result_type=\"expand\", axis=1).astype(int)\n",
    "\n",
    "def x(t2, b):\n",
    "    for c in t2: t2 = t2[t2[c] == t2.groupby(c).size().sort_index(ascending=b).sort_values(ascending=b).index[0]]\n",
    "    return t2.apply(lambda c: 2**((len(df.iloc[0,0])-1)-c.name) * c).sum(axis=1).iloc[0]\n",
    "\n",
    "t2 = x(t2, False) * x(t2, True)\n",
    "\n",
    "print(f\"Task 1: {t1}, Task 2: {t2}\")"
   ]
  },
  {
   "cell_type": "markdown",
   "metadata": {},
   "source": [
    "## 4. Advent"
   ]
  },
  {
   "cell_type": "code",
   "execution_count": 188,
   "metadata": {},
   "outputs": [
    {
     "name": "stdout",
     "output_type": "stream",
     "text": [
      "Task 1: 34506, Task 2: 7686\n"
     ]
    }
   ],
   "source": [
    "inputs = pd.read_csv(\"inputs/4\", header=None, nrows=1).to_numpy().reshape(-1)\n",
    "boards = pd.read_csv(\"inputs/4\", header=None, skiprows=[0], sep=r\" +\").to_numpy().reshape(-1, 5, 5)\n",
    "bingos = np.zeros_like(boards, dtype=bool)\n",
    "\n",
    "aw = {}\n",
    "for inp in inputs:\n",
    "    for match in np.argwhere(boards == inp):\n",
    "        bingos[tuple(match)] = True\n",
    "    \n",
    "    hs = np.argwhere(bingos.sum(axis=1) == boards.shape[1])\n",
    "    vs = np.argwhere(bingos.sum(axis=2) == boards.shape[1])\n",
    "    \n",
    "    nw = set(list(vs[:,0]) + list(hs[:,0]))\n",
    "\n",
    "    if len(nw) == 1 and len(aw) == 0:\n",
    "        w = nw.difference(aw).pop()\n",
    "        t1 = inp * boards[w, ~bingos[w]].sum()\n",
    "\n",
    "    if len(nw) == boards.shape[0]:\n",
    "        l = nw.difference(aw).pop()\n",
    "        t2 = inp * boards[l, ~bingos[l]].sum()\n",
    "        break\n",
    "\n",
    "    aw = nw\n",
    "\n",
    "print(f\"Task 1: {t1}, Task 2: {t2}\")"
   ]
  },
  {
   "cell_type": "markdown",
   "metadata": {},
   "source": [
    "## 5. Advent"
   ]
  },
  {
   "cell_type": "code",
   "execution_count": 240,
   "metadata": {},
   "outputs": [
    {
     "name": "stdout",
     "output_type": "stream",
     "text": [
      "Task 1: 8622, Task 2: 22037\n"
     ]
    }
   ],
   "source": [
    "df = pd.read_csv(\"inputs/5\", header=None, sep=r\",| -> \", names=[\"x1\", \"y1\", \"x2\", \"y2\"], engine=\"python\")\n",
    "\n",
    "M = np.zeros(shape=[2] + [df.max().max() + 1] * 2)\n",
    "\n",
    "for _, (x1,y1,x2,y2) in df.iterrows():\n",
    "    sx = 1 if x2-x1 > 0 else -1\n",
    "    sy = 1 if y2-y1 > 0 else -1\n",
    "    if x1 == x2 or y1 == y2:\n",
    "        for x in range(x1, x2 + sx, sx):\n",
    "            for y in range(y1, y2 + sy, sy):\n",
    "                M[:,y,x] += 1\n",
    "    else:\n",
    "        for x,y in zip(range(x1, x2 + sx, sx), range(y1, y2 + sy, sy)):\n",
    "            M[1,y,x] += 1\n",
    "\n",
    "print(f\"Task 1: {np.sum(M[0] > 1)}, Task 2: {np.sum(M[1] > 1)}\")"
   ]
  },
  {
   "cell_type": "code",
   "execution_count": 245,
   "metadata": {},
   "outputs": [
    {
     "name": "stdout",
     "output_type": "stream",
     "text": [
      "Task 1: 8622, Task 2: 22037\n"
     ]
    }
   ],
   "source": [
    "from itertools import zip_longest as zipl\n",
    "\n",
    "df = pd.read_csv(\"inputs/5\", header=None, sep=r\",| -> \", names=[\"x1\", \"y1\", \"x2\", \"y2\"], engine=\"python\")\n",
    "\n",
    "M = np.zeros(shape=[2] + [df.max().max() + 1] * 2)\n",
    "\n",
    "for _, (x1,y1,x2,y2) in df.iterrows():\n",
    "    for x,y in zipl(range(x1, x2 + (1 if x2-x1 > 0 else -1), (1 if x2-x1 > 0 else -1)), range(y1, y2 + (1 if y2-y1 > 0 else -1), (1 if y2-y1 > 0 else -1))):\n",
    "        M[:, y if y is not None else y1, x if x is not None else x1] += (x1 == x2 or y1 == y2, 1)\n",
    "\n",
    "print(f\"Task 1: {np.sum(M[0] > 1)}, Task 2: {np.sum(M[1] > 1)}\")"
   ]
  }
 ],
 "metadata": {
  "interpreter": {
   "hash": "aee8b7b246df8f9039afb4144a1f6fd8d2ca17a180786b69acc140d282b71a49"
  },
  "kernelspec": {
   "display_name": "Python 3 (ipykernel)",
   "language": "python",
   "name": "python3"
  },
  "language_info": {
   "codemirror_mode": {
    "name": "ipython",
    "version": 3
   },
   "file_extension": ".py",
   "mimetype": "text/x-python",
   "name": "python",
   "nbconvert_exporter": "python",
   "pygments_lexer": "ipython3",
   "version": "3.9.7"
  }
 },
 "nbformat": 4,
 "nbformat_minor": 2
}
