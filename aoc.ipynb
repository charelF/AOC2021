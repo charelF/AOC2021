{
 "cells": [
  {
   "cell_type": "markdown",
   "metadata": {},
   "source": [
    "# Advent of Code\n",
    "Charel Felten"
   ]
  },
  {
   "cell_type": "code",
   "execution_count": 2,
   "metadata": {},
   "outputs": [],
   "source": [
    "import pandas as pd\n",
    "import numpy as np\n",
    "import matplotlib.pyplot as plt\n",
    "from functools import reduce"
   ]
  },
  {
   "cell_type": "markdown",
   "metadata": {},
   "source": [
    "## 1. Advent"
   ]
  },
  {
   "cell_type": "code",
   "execution_count": 3,
   "metadata": {},
   "outputs": [
    {
     "name": "stdout",
     "output_type": "stream",
     "text": [
      "Task 1: 1266, Task 2: 1217\n"
     ]
    }
   ],
   "source": [
    "df = pd.read_csv(\"inputs/1\", header=None)\n",
    "\n",
    "f = lambda w: (df.rolling(w).sum().dropna().diff().fillna(0) > 0).sum().loc[0]\n",
    "\n",
    "print(f\"Task 1: {f(1)}, Task 2: {f(3)}\")"
   ]
  },
  {
   "cell_type": "markdown",
   "metadata": {},
   "source": [
    "## 2. Advent"
   ]
  },
  {
   "cell_type": "code",
   "execution_count": 4,
   "metadata": {},
   "outputs": [
    {
     "name": "stdout",
     "output_type": "stream",
     "text": [
      "Task 1: 1882980, Task 2: 1971232560\n"
     ]
    }
   ],
   "source": [
    "df = pd.read_csv(\"inputs/2\", header=None, sep=\" \", names=[\"direction\", \"distance\"])\n",
    "\n",
    "t1 = df.groupby(\"direction\").sum().apply(lambda col: (col[\"down\"] - col[\"up\"]) * col[\"forward\"]).loc[\"distance\"]\n",
    "\n",
    "h, d, a = 0,0,0\n",
    "for _, (dir, dis) in df.iterrows():\n",
    "    if dir == \"down\": a += dis\n",
    "    if dir == \"up\": a -= dis\n",
    "    if dir == \"forward\":\n",
    "        h += dis\n",
    "        d += a*dis\n",
    "        \n",
    "print(f\"Task 1: {t1}, Task 2: {h * d}\")"
   ]
  },
  {
   "cell_type": "code",
   "execution_count": 5,
   "metadata": {},
   "outputs": [
    {
     "name": "stdout",
     "output_type": "stream",
     "text": [
      "Task 2 Alt: 1971232560\n"
     ]
    }
   ],
   "source": [
    "def f(hda, dirdis):\n",
    "    h, d, a = hda\n",
    "    _, (dir, dis) = dirdis\n",
    "    if dir == \"down\": a += dis\n",
    "    if dir == \"up\": a -= dis\n",
    "    if dir == \"forward\":\n",
    "        h += dis\n",
    "        d += a*dis\n",
    "    return (h,d,a)\n",
    "\n",
    "h, d, a = reduce(f, df.iterrows(), (0,0,0))\n",
    "\n",
    "print(f\"Task 2 Alt: {h * d}\")"
   ]
  },
  {
   "cell_type": "markdown",
   "metadata": {},
   "source": [
    "## 3. Advent"
   ]
  },
  {
   "cell_type": "code",
   "execution_count": 6,
   "metadata": {},
   "outputs": [
    {
     "name": "stdout",
     "output_type": "stream",
     "text": [
      "Task 1: 4147524, Task 2: 3570354\n"
     ]
    }
   ],
   "source": [
    "df = pd.read_csv(\"inputs/3\", header=None, sep=\" \", dtype=\"str\")\n",
    "\n",
    "t1 = df\\\n",
    "    .apply(lambda r: list(r.iloc[0]), result_type=\"expand\", axis=1)\\\n",
    "    .agg([\"median\", lambda c: int(not(c.median()))])\\\n",
    "    .apply(lambda c: 2**((len(df.iloc[0,0])-1)-c.name) * c)\\\n",
    "    .sum(axis=1).prod().astype(int)\n",
    "\n",
    "t2 = df.apply(lambda r: list(r.iloc[0]), result_type=\"expand\", axis=1).astype(int)\n",
    "\n",
    "def x(t2, b):\n",
    "    for c in t2: t2 = t2[t2[c] == t2.groupby(c).size().sort_index(ascending=b).sort_values(ascending=b).index[0]]\n",
    "    return t2.apply(lambda c: 2**((len(df.iloc[0,0])-1)-c.name) * c).sum(axis=1).iloc[0]\n",
    "\n",
    "t2 = x(t2, False) * x(t2, True)\n",
    "\n",
    "print(f\"Task 1: {t1}, Task 2: {t2}\")"
   ]
  },
  {
   "cell_type": "markdown",
   "metadata": {},
   "source": [
    "## 4. Advent"
   ]
  },
  {
   "cell_type": "code",
   "execution_count": 7,
   "metadata": {},
   "outputs": [
    {
     "name": "stdout",
     "output_type": "stream",
     "text": [
      "Task 1: 34506, Task 2: 7686\n"
     ]
    }
   ],
   "source": [
    "inputs = pd.read_csv(\"inputs/4\", header=None, nrows=1, engine=\"python\").to_numpy().reshape(-1)\n",
    "boards = pd.read_csv(\"inputs/4\", header=None, skiprows=[0], sep=r\" +\", engine=\"python\").to_numpy().reshape(-1, 5, 5)\n",
    "bingos = np.zeros_like(boards, dtype=bool)\n",
    "\n",
    "aw = {}\n",
    "for inp in inputs:\n",
    "    for match in np.argwhere(boards == inp):\n",
    "        bingos[tuple(match)] = True\n",
    "    \n",
    "    hs = np.argwhere(bingos.sum(axis=1) == boards.shape[1])\n",
    "    vs = np.argwhere(bingos.sum(axis=2) == boards.shape[1])\n",
    "    \n",
    "    nw = set(list(vs[:,0]) + list(hs[:,0]))\n",
    "\n",
    "    if len(nw) == 1 and len(aw) == 0:\n",
    "        w = (nw - aw).pop()\n",
    "        t1 = inp * boards[w, ~bingos[w]].sum()\n",
    "\n",
    "    if len(nw) == boards.shape[0]:\n",
    "        l = (nw - aw).pop()\n",
    "        t2 = inp * boards[l, ~bingos[l]].sum()\n",
    "        break\n",
    "\n",
    "    aw = nw\n",
    "\n",
    "print(f\"Task 1: {t1}, Task 2: {t2}\")"
   ]
  },
  {
   "cell_type": "markdown",
   "metadata": {},
   "source": [
    "## 5. Advent"
   ]
  },
  {
   "cell_type": "code",
   "execution_count": 8,
   "metadata": {},
   "outputs": [
    {
     "name": "stdout",
     "output_type": "stream",
     "text": [
      "Task 1: 8622, Task 2: 22037\n"
     ]
    }
   ],
   "source": [
    "df = pd.read_csv(\"inputs/5\", header=None, sep=r\",| -> \", names=[\"x1\", \"y1\", \"x2\", \"y2\"], engine=\"python\")\n",
    "\n",
    "M = np.zeros(shape=[2] + [df.max().max() + 1] * 2)\n",
    "\n",
    "for _, (x1,y1,x2,y2) in df.iterrows():\n",
    "    sx = 1 if x2-x1 > 0 else -1\n",
    "    sy = 1 if y2-y1 > 0 else -1\n",
    "    if x1 == x2 or y1 == y2:\n",
    "        for x in range(x1, x2 + sx, sx):\n",
    "            for y in range(y1, y2 + sy, sy):\n",
    "                M[:,y,x] += 1\n",
    "    else:\n",
    "        for x,y in zip(range(x1, x2 + sx, sx), range(y1, y2 + sy, sy)):\n",
    "            M[1,y,x] += 1\n",
    "\n",
    "print(f\"Task 1: {np.sum(M[0] > 1)}, Task 2: {np.sum(M[1] > 1)}\")"
   ]
  },
  {
   "cell_type": "code",
   "execution_count": 9,
   "metadata": {},
   "outputs": [
    {
     "name": "stdout",
     "output_type": "stream",
     "text": [
      "Task 1: 8622, Task 2: 22037\n"
     ]
    }
   ],
   "source": [
    "from itertools import zip_longest as zipl\n",
    "\n",
    "df = pd.read_csv(\"inputs/5\", header=None, sep=r\",| -> \", names=[\"x1\", \"y1\", \"x2\", \"y2\"], engine=\"python\")\n",
    "\n",
    "M = np.zeros(shape=[2] + [df.max().max() + 1] * 2)\n",
    "\n",
    "for _, (x1,y1,x2,y2) in df.iterrows():\n",
    "    for x,y in zipl(range(x1, x2 + (1 if x2-x1 > 0 else -1), (1 if x2-x1 > 0 else -1)), range(y1, y2 + (1 if y2-y1 > 0 else -1), (1 if y2-y1 > 0 else -1))):\n",
    "        M[:, y if y is not None else y1, x if x is not None else x1] += (x1 == x2 or y1 == y2, 1)\n",
    "\n",
    "print(f\"Task 1: {np.sum(M[0] > 1)}, Task 2: {np.sum(M[1] > 1)}\")"
   ]
  },
  {
   "cell_type": "markdown",
   "metadata": {},
   "source": [
    "## 6. Advent"
   ]
  },
  {
   "cell_type": "code",
   "execution_count": 10,
   "metadata": {},
   "outputs": [
    {
     "name": "stdout",
     "output_type": "stream",
     "text": [
      "Task 1: 390923, Task 2: 1749945484935\n"
     ]
    }
   ],
   "source": [
    "s = np.array([list(pd.read_csv(\"inputs/6\", header=None).to_numpy().reshape(-1)).count(i) for i in range(9)])\n",
    "\n",
    "def f(D, s):\n",
    "    for _ in range(D):\n",
    "        s = np.roll(s, -1)\n",
    "        s[6] += s[8]\n",
    "    return sum(s)\n",
    "\n",
    "print(f\"Task 1: {f(80, s)}, Task 2: {f(256, s)}\")"
   ]
  },
  {
   "cell_type": "code",
   "execution_count": 11,
   "metadata": {},
   "outputs": [
    {
     "name": "stdout",
     "output_type": "stream",
     "text": [
      "Task 1: 390923, Task 2: 1749945484935\n"
     ]
    }
   ],
   "source": [
    "# Source: https://old.reddit.com/r/adventofcode/comments/r9z49j/2021_day_6_solutions/hnfi3nf/\n",
    "\n",
    "TM = np.matrix([\n",
    "    [0,1,0,0,0,0,0,0,0],  # this is a transition matrix, so each row encode the prob of transition\n",
    "    [0,0,1,0,0,0,0,0,0],  # e.g. this row (row 1) has a 1 at col 2, which indicates that there\n",
    "    [0,0,0,1,0,0,0,0,0],  # is a 100% chance (probability 1) to move from age 2 (col 2) to age 1 (row 1)\n",
    "    [0,0,0,0,1,0,0,0,0],  # and a 0% chance for all other transitions.\n",
    "    [0,0,0,0,0,1,0,0,0],\n",
    "    [0,0,0,0,0,0,1,0,0],\n",
    "    [1,0,0,0,0,0,0,1,0],  # Fish being reset move from age 0 (col 0) to age 6 (col 6), but so do also\n",
    "    [0,0,0,0,0,0,0,0,1],  # fish of age 7 (col 7) who move to age 6 (row 6). So two `1`s in this row.\n",
    "    [1,0,0,0,0,0,0,0,0],  # New fish born move from age 0 (col 0) moves to age 8 (row 8)\n",
    "])\n",
    "\n",
    "print(f\"Task 1: {np.sum(np.array(TM ** 80)*s)}, Task 2: {np.sum(np.array(TM ** 256)*s)}\")\n",
    "\n",
    "TMTM = np.matrix([\n",
    "    [0,0,1,0,0,0,0,0,0],  # doing matrix multiplcation, which is the same as power 2, we get the state\n",
    "    [0,0,0,1,0,0,0,0,0],  # of the matrix after 2 timesteps. Again we can read the fish ages\n",
    "    [0,0,0,0,1,0,0,0,0],  # e.g. a fish originally aged 4 years (col 4), has a 100% chance to be\n",
    "    [0,0,0,0,0,1,0,0,0],  # age 2 (row 2) after 2 iterations, which is indeed true\n",
    "    [0,0,0,0,0,0,1,0,0],\n",
    "    [1,0,0,0,0,0,0,1,0],  # there are two fish in this row, meaning that there are now 2 fish that are age 5 (row 5)\n",
    "    [0,1,0,0,0,0,0,0,1],  # after 2 iterations, with one of them starting at age 0 (col 0) (0 -reset-> 6 -> 5)\n",
    "    [1,0,0,0,0,0,0,0,0],  # and the other one being of age 7 (col 7) and simply aging normally (7 -> 6 -> 5)\n",
    "    [0,1,0,0,0,0,0,0,0]\n",
    "])\n",
    "\n",
    "assert(np.all(TMTM == TM @ TM))"
   ]
  },
  {
   "cell_type": "markdown",
   "metadata": {},
   "source": [
    "## 7. Advent"
   ]
  },
  {
   "cell_type": "code",
   "execution_count": 12,
   "metadata": {},
   "outputs": [
    {
     "name": "stdout",
     "output_type": "stream",
     "text": [
      "Task 1: 345197, Task 2: 96361606\n"
     ]
    }
   ],
   "source": [
    "p = pd.read_csv(\"inputs/7\", header=None).to_numpy().reshape(-1)\n",
    "\n",
    "t1 = int(sum(abs(p - np.median(p))))\n",
    "\n",
    "trinum = lambda n: n * (n+1) / 2  # computes the n-th triangular number (0-indexing hence n+1)\n",
    "t2 = int(sum(trinum(abs(p - np.floor(np.mean(p))))))\n",
    "\n",
    "print(f\"Task 1: {t1}, Task 2: {t2}\")"
   ]
  },
  {
   "cell_type": "code",
   "execution_count": 13,
   "metadata": {},
   "outputs": [
    {
     "name": "stdout",
     "output_type": "stream",
     "text": [
      "Task 2 alt: 96361606\n"
     ]
    }
   ],
   "source": [
    "# Note: my t2 above does not work for the example input (if using `np.floor` twice), and when one uses `np.round`\n",
    "# twice, then it does not work for the real input. t2a below works for both verions, but is less efficient.\n",
    "# reason it does not work: https://old.reddit.com/r/adventofcode/comments/rars4g/2021_day_7_why_do_these_values_work_spoilers/hnk7n2z/\n",
    "\n",
    "t2a = int(min([sum(trinum(abs(p - i))) for i in range(min(p), max(p))]))\n",
    "print(f\"Task 2 alt: {t2a}\")"
   ]
  },
  {
   "cell_type": "markdown",
   "metadata": {},
   "source": [
    "## 8. Advent"
   ]
  },
  {
   "cell_type": "code",
   "execution_count": 14,
   "metadata": {},
   "outputs": [
    {
     "name": "stdout",
     "output_type": "stream",
     "text": [
      "Task 1: 397, Task 2: 1027422\n"
     ]
    }
   ],
   "source": [
    "df = pd.read_csv(\"inputs/8\", header=None, sep=r\"|\")\n",
    "\n",
    "t1 = df.loc[:,1].str.split(\" \", expand=True).loc[:,1:].apply(lambda c: c.str.len().isin([2,3,4,7])).sum().sum()\n",
    "\n",
    "def decoder(row):\n",
    "    S = [set(x) for x in row[0].split(\" \")]\n",
    "    N = {}\n",
    "\n",
    "    # first find 1,4,7,8\n",
    "    N[1] = [n for n in S if len(n) == 2][0]\n",
    "    N[7] = [n for n in S if len(n) == 3][0]\n",
    "    N[4] = [n for n in S if len(n) == 4][0]\n",
    "    N[8] = [n for n in S if len(n) == 7][0]\n",
    "\n",
    "    # 2,3,5 have length 5\n",
    "    l235 = [n for n in S if len(n) == 5]\n",
    "\n",
    "    # 2 U 5 = 8, so 3 is the remaining one\n",
    "    if l235[0] | l235[1] == N[8]: N[3] = l235[2]  # | = set intersection\n",
    "    elif l235[0] | l235[2] == N[8]: N[3] = l235[1]\n",
    "    else: N[3] = l235[0]\n",
    "\n",
    "    # 3 U 4 = 9\n",
    "    N[9] = N[3] | N[4]\n",
    "\n",
    "    # 6,9,0 have length 6. we know 9, so can isolate 6 and 0\n",
    "    l60 = [n for n in S if (len(n) == 6) and n != N[9]]\n",
    "\n",
    "    # 6 U 1 = 8\n",
    "    if l60[0] | N[1] == N[8]: N[6], N[0] = l60[0], l60[1]\n",
    "    else: N[6], N[0] = l60[1], l60[0]\n",
    "\n",
    "    # knowing 3 we can isolate 2 and 5\n",
    "    l25 = [n for n in S if (len(n) == 5) and n != N[3]]\n",
    "\n",
    "    # 5 U 1 = 9\n",
    "    if l25[0] | N[1] == N[9]: N[5], N[2] = l25[0], l25[1]\n",
    "    else: N[5], N[2] = l25[1], l25[0]\n",
    "\n",
    "    # now we just find which number the second column digits map to by reversing the dic and construct the output\n",
    "    return int(\"\".join([f\"{k}\" for s in row[1].split(\" \") if s for k,v in N.items() if v == set(s)]))\n",
    "            \n",
    "t2 = df.apply(decoder, axis=1).sum()\n",
    "\n",
    "print(f\"Task 1: {t1}, Task 2: {t2}\")"
   ]
  },
  {
   "cell_type": "markdown",
   "metadata": {},
   "source": [
    "## 9. Advent"
   ]
  },
  {
   "cell_type": "code",
   "execution_count": 15,
   "metadata": {},
   "outputs": [
    {
     "name": "stdout",
     "output_type": "stream",
     "text": [
      "Task 1: 456, Task 2: 1047744\n"
     ]
    }
   ],
   "source": [
    "M = pd.read_csv(\"inputs/9\", header=None, dtype=\"str\")[0].str.split(\"\", expand=True).iloc[:,1:-1].astype(np.float32).to_numpy()\n",
    "\n",
    "M = np.pad(M, 1, 'constant', constant_values=(M.max()))  # padding with large value to handle edge cases\n",
    "# a min value is lower than its left, right, up and down neighbours\n",
    "mins = (M < np.roll(M, 1, axis=0)) & (M < np.roll(M, -1, axis=0)) & (M < np.roll(M, 1, axis=1)) & (M < np.roll(M, -1, axis=1)) \n",
    "\n",
    "t1 = int((M[mins] + 1).sum())\n",
    "\n",
    "E = np.zeros_like(M)\n",
    "\n",
    "def f(i,j,v):  # recursive function to map each basin represented by the coordinate of its min (i,j) to unique value v, stored in E\n",
    "    E[i,j] = v\n",
    "    for ii, jj in zip([i+1,i-1,i,i],[j,j,j+1,j-1]):\n",
    "        if not(E[ii,jj] == v or M[ii,jj] == 9): f(ii,jj,v)\n",
    "\n",
    "g = lambda i,j: f(i, j, 10 + (i * M.shape[0]) + j)\n",
    "\n",
    "for c in np.argwhere(mins): g(*c) # mapping f to each basin\n",
    "\n",
    "_, counts = np.unique(E[E>9], return_counts=True) # counting unique basins with value above 9 and returning their size\n",
    "t2 = np.product(np.sort(counts)[-3:])  # taking the product of the sizes of the 3 largest basins\n",
    "\n",
    "print(f\"Task 1: {t1}, Task 2: {t2}\")"
   ]
  },
  {
   "cell_type": "markdown",
   "metadata": {},
   "source": [
    "## 10. Advent"
   ]
  },
  {
   "cell_type": "code",
   "execution_count": 16,
   "metadata": {},
   "outputs": [
    {
     "name": "stdout",
     "output_type": "stream",
     "text": [
      "Task 1: 319233, Task 2: 1118976874\n"
     ]
    }
   ],
   "source": [
    "df = pd.read_csv(\"inputs/10\", header=None)\n",
    "\n",
    "def f(s):\n",
    "    sn, so = s, \"\"\n",
    "    while sn != so:  # iteratively remove matching brackets. this ends when no more pairs left\n",
    "        so, sn = sn, sn.replace(\"{}\", \"\").replace(\"[]\", \"\").replace(\"()\", \"\").replace(\"<>\", \"\")\n",
    "    return sn\n",
    "\n",
    "def f1(s):\n",
    "    sn, so = f(s), \"\"\n",
    "    while sn != so:  # iteratively remove left brackets. this ends when only right brackets left\n",
    "        so, sn = sn, sn.replace(\"{\", \"\").replace(\"[\", \"\").replace(\"(\", \"\").replace(\"<\", \"\") \n",
    "    return {\")\":3, \"]\":57, \"}\":1197, \">\":25137}[sn[0]] if sn else 0  # return score of first (0) right bracket found else 0\n",
    "\n",
    "def f2(s):\n",
    "    if f1(s) > 0: return 0  # we only care about the lines that did not have an ending, but no syntax error\n",
    "    sr = f(s)[::-1]  # remove all pairs and reverse, now we have the required closing bracket order\n",
    "    sn = [{\"(\":1,\"[\":2,\"{\":3,\"<\":4}[c] for c in sr]  # replace each brackets with the points it gives\n",
    "    return reduce(lambda a, b: (a * 5) + b, sn, 0)  # reduce (like fold in Ocaml) to compute score\n",
    "\n",
    "t1 = df[0].apply(f1).sum()\n",
    "t2 = df[0].apply(f2).replace(0, np.nan).median().astype(int)\n",
    "\n",
    "print(f\"Task 1: {t1}, Task 2: {t2}\")"
   ]
  },
  {
   "cell_type": "markdown",
   "metadata": {},
   "source": [
    "## 11. Advent"
   ]
  },
  {
   "cell_type": "code",
   "execution_count": 17,
   "metadata": {},
   "outputs": [
    {
     "name": "stdout",
     "output_type": "stream",
     "text": [
      "Task 1: 1620, Task 2: 371\n"
     ]
    }
   ],
   "source": [
    "from scipy.ndimage import generic_filter\n",
    "\n",
    "M = pd.read_csv(\"inputs/11\", sep=r\" *\", header=None, engine=\"python\").iloc[:,1:-1].astype(int).to_numpy()\n",
    "F = np.zeros_like(M, dtype=bool)\n",
    "\n",
    "fc = 0\n",
    "for i in range(1000):\n",
    "    if i == 100: t1 = fc\n",
    "    if F.sum() == 100: break\n",
    "    M = M + 1  # increase energy\n",
    "    F = F * False  # reset F\n",
    "    while True:\n",
    "        MO = generic_filter(input=M, function=lambda m: (m > 9).sum() - (m[4] > 9), footprint=np.ones((3,3)), mode=\"constant\")\n",
    "        F += (M > 9)  # count flashes\n",
    "        M[F] = 0  # reset flashed ones\n",
    "        M += MO  # increase takes only into account the recent flashes\n",
    "        if MO.sum() == 0: break  # if no more updates we continue\n",
    "    fc += F.sum()\n",
    "\n",
    "print(f\"Task 1: {t1}, Task 2: {i}\")"
   ]
  },
  {
   "cell_type": "markdown",
   "metadata": {},
   "source": [
    "## 12. Advent"
   ]
  },
  {
   "cell_type": "code",
   "execution_count": 18,
   "metadata": {},
   "outputs": [
    {
     "name": "stdout",
     "output_type": "stream",
     "text": [
      "Task 1: 5457, Task 2: 128506\n"
     ]
    }
   ],
   "source": [
    "df = pd.read_csv(\"inputs/12\", header=None, sep=\"-\")\n",
    "\n",
    "START, END = \"(\", \")\"  # replace start and end by non-lowercase strings\n",
    "df.replace({\"start\":START, \"end\":END}, inplace=True)\n",
    "\n",
    "D = {}  # dictionary to represent graph\n",
    "for _,(k,v) in df.iterrows():\n",
    "    if k != END and v!= START: D[k] = D.get(k, []) + [v]\n",
    "    if k != START and v!= END: D[v] = D.get(v, []) + [k]\n",
    "D[END] = []  # once at the end, we cant leave\n",
    "\n",
    "def more_than_1_lower(walk):\n",
    "    for cave in walk:\n",
    "        if cave.islower() and walk.count(cave) > 1: return True\n",
    "    return False\n",
    "\n",
    "def f(condition):\n",
    "    counter = 0\n",
    "    walks = [[START]]\n",
    "    for walk in walks:\n",
    "        last = walk[-1]\n",
    "        if last == END: counter += 1\n",
    "        else:\n",
    "            for next in D[last]:\n",
    "                if next.islower() and (next in walk) and condition(walk): continue\n",
    "                walks.append(walk + [next])\n",
    "    return counter\n",
    "\n",
    "print(f\"Task 1: {f(lambda x: True)}, Task 2: {f(more_than_1_lower)}\")"
   ]
  },
  {
   "cell_type": "markdown",
   "metadata": {},
   "source": [
    "## 13. Advent"
   ]
  },
  {
   "cell_type": "code",
   "execution_count": 19,
   "metadata": {},
   "outputs": [
    {
     "name": "stdout",
     "output_type": "stream",
     "text": [
      "Task 1: 716, Task 2:\n",
      "░░░░░░    ░░░░░░      ░░░░    ░░    ░░  ░░░░░░░░  ░░░░░░    ░░        ░░░░░░    \n",
      "░░    ░░  ░░    ░░  ░░    ░░  ░░  ░░    ░░        ░░    ░░  ░░        ░░    ░░  \n",
      "░░    ░░  ░░    ░░  ░░        ░░░░      ░░░░░░    ░░░░░░    ░░        ░░    ░░  \n",
      "░░░░░░    ░░░░░░    ░░        ░░  ░░    ░░        ░░    ░░  ░░        ░░░░░░    \n",
      "░░  ░░    ░░        ░░    ░░  ░░  ░░    ░░        ░░    ░░  ░░        ░░  ░░    \n",
      "░░    ░░  ░░          ░░░░    ░░    ░░  ░░        ░░░░░░    ░░░░░░░░  ░░    ░░  \n"
     ]
    }
   ],
   "source": [
    "df = pd.read_csv(\"inputs/13\", header=None)\n",
    "coords = df.loc[~df.loc[:, 0].str.contains(\"fold\")].astype(int).to_numpy()\n",
    "folds = df[df.loc[:, 0].str.contains(\"fold\")][0].str[11:].str.split(\"=\", expand=True).replace({\"x\":1, \"y\":0}).astype(int).to_numpy()\n",
    "M = np.zeros(coords.max(axis=0)[::-1]+1, dtype=bool)\n",
    "\n",
    "for x,y in coords: M[y,x] = True\n",
    "\n",
    "for i, (axis, fold) in enumerate(folds):\n",
    "    M1, _, M2 = np.split(M, (fold, fold+1), axis)\n",
    "    M2 = np.flip(M2, axis)\n",
    "    M = M1 + M2\n",
    "    if i == 0: t1 = np.sum(M)\n",
    "\n",
    "print(f\"Task 1: {t1}, Task 2:\\n\" + \"\\n\".join([\"\".join([\"░░\" if i else \"  \" for i in row]) for row in M]))"
   ]
  },
  {
   "cell_type": "markdown",
   "metadata": {},
   "source": [
    "## 14. Advent"
   ]
  },
  {
   "cell_type": "code",
   "execution_count": 249,
   "metadata": {},
   "outputs": [
    {
     "name": "stdout",
     "output_type": "stream",
     "text": [
      "Task 1: 2703, Task 2: 2984946368465\n"
     ]
    }
   ],
   "source": [
    "from itertools import product\n",
    "from copy import copy\n",
    "\n",
    "series = pd.read_csv(\"inputs/14\", header=0, sep=\" -> \", engine='python', index_col=0, squeeze=True)\n",
    "\n",
    "units = set(series.unique())\n",
    "pairs = set(\"\".join(pair) for pair in product(units, repeat=2))\n",
    "transitions = {pa+ir:(pa+new, new+ir) for (pa, ir), new in series.iteritems()}\n",
    "\n",
    "def f(iterations):\n",
    "    paircount = {pair:series.name.count(pair) for pair in pairs}  # the series.name is the input string\n",
    "    unitcount = {unit:0 for unit in units}\n",
    "    \n",
    "    for i in range(iterations):\n",
    "        for pair, count in copy(paircount).items():\n",
    "            rightpair, leftpair = transitions[pair]\n",
    "            paircount[rightpair] += count\n",
    "            paircount[leftpair] += count\n",
    "            paircount[pair] -= count\n",
    "\n",
    "    for (pa, ir), count in paircount.items():\n",
    "        unitcount[pa] += count\n",
    "        unitcount[ir] += count\n",
    "\n",
    "    unitdf = np.ceil( pd.DataFrame.from_dict(unitcount, orient=\"index\") / 2).astype(int)\n",
    "    return int(unitdf.max() - unitdf.min())\n",
    "\n",
    "print(f\"Task 1: {f(10)}, Task 2: {f(40)}\")"
   ]
  }
 ],
 "metadata": {
  "interpreter": {
   "hash": "aee8b7b246df8f9039afb4144a1f6fd8d2ca17a180786b69acc140d282b71a49"
  },
  "kernelspec": {
   "display_name": "Python 3 (ipykernel)",
   "language": "python",
   "name": "python3"
  },
  "language_info": {
   "codemirror_mode": {
    "name": "ipython",
    "version": 3
   },
   "file_extension": ".py",
   "mimetype": "text/x-python",
   "name": "python",
   "nbconvert_exporter": "python",
   "pygments_lexer": "ipython3",
   "version": "3.9.7"
  }
 },
 "nbformat": 4,
 "nbformat_minor": 2
}
