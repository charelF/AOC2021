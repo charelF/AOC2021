{
 "cells": [
  {
   "cell_type": "markdown",
   "metadata": {},
   "source": [
    "# **Advent of Code 2022**"
   ]
  },
  {
   "cell_type": "code",
   "execution_count": 51,
   "metadata": {},
   "outputs": [],
   "source": [
    "import numpy as np\n",
    "import pandas as pd\n",
    "from functools import reduce\n",
    "\n",
    "import warnings\n",
    "warnings.filterwarnings(\"ignore\")"
   ]
  },
  {
   "cell_type": "markdown",
   "metadata": {},
   "source": [
    "## **1. Advent**"
   ]
  },
  {
   "cell_type": "code",
   "execution_count": 2,
   "metadata": {},
   "outputs": [
    {
     "name": "stdout",
     "output_type": "stream",
     "text": [
      "Task 1: 69795, Task 2: 208437\n"
     ]
    }
   ],
   "source": [
    "l = [i.split(\"\\n\") for i in open(\"inputs22/1\").read().split(\"\\n\\n\")]\n",
    "s = [sum([int(i) for i in sl]) for sl in l]\n",
    "print(f\"Task 1: {max(s)}, Task 2: {sum(sorted(s)[-3:])}\")"
   ]
  },
  {
   "cell_type": "markdown",
   "metadata": {},
   "source": [
    "## **2. Advent**"
   ]
  },
  {
   "cell_type": "code",
   "execution_count": 3,
   "metadata": {},
   "outputs": [
    {
     "name": "stdout",
     "output_type": "stream",
     "text": [
      "Task 1: 8392, Task 2: 10116\n"
     ]
    }
   ],
   "source": [
    "df = pd.read_csv(\"inputs22/2\", header=None, sep=\" \")\n",
    "t = lambda i: df.apply(lambda row: f(row[0], row[1])[i], axis=1).sum()\n",
    "def f(opp, you):\n",
    "    match (opp, you):\n",
    "        case (\"A\", \"X\"): return (3 + 1), (0 + 3)\n",
    "        case (\"B\", \"X\"): return (0 + 1), (0 + 1)\n",
    "        case (\"C\", \"X\"): return (6 + 1), (0 + 2)\n",
    "        case (\"A\", \"Y\"): return (6 + 2), (3 + 1)\n",
    "        case (\"B\", \"Y\"): return (3 + 2), (3 + 2)\n",
    "        case (\"C\", \"Y\"): return (0 + 2), (3 + 3)\n",
    "        case (\"A\", \"Z\"): return (0 + 3), (6 + 2)\n",
    "        case (\"B\", \"Z\"): return (6 + 3), (6 + 3)\n",
    "        case (\"C\", \"Z\"): return (3 + 3), (6 + 1)\n",
    "print(f\"Task 1: {t(0)}, Task 2: {t(1)}\")"
   ]
  },
  {
   "cell_type": "markdown",
   "metadata": {},
   "source": [
    "## **3. Advent**"
   ]
  },
  {
   "cell_type": "code",
   "execution_count": 4,
   "metadata": {},
   "outputs": [
    {
     "name": "stdout",
     "output_type": "stream",
     "text": [
      "Task 1: 8123, Task 2: 2620\n"
     ]
    }
   ],
   "source": [
    "l = open(\"inputs22/3\").read().split(\"\\n\")\n",
    "t = [(s[:len(s)//2], s[len(s)//2:]) for s in l]\n",
    "t2 = [l[i:i+3] for i in range(0, len(l), 3)]\n",
    "scorer = lambda s: [ord(x) - (96 if x.islower() else 38) for x in s]\n",
    "intersector = lambda t: [set.intersection(*[set(i) for i in p]).pop() for p in t]\n",
    "f = lambda t: sum(scorer(intersector(t)))\n",
    "print(f\"Task 1: {f(t)}, Task 2: {f(t2)}\")"
   ]
  },
  {
   "cell_type": "markdown",
   "metadata": {},
   "source": [
    "## **4. Advent**"
   ]
  },
  {
   "cell_type": "code",
   "execution_count": 5,
   "metadata": {},
   "outputs": [
    {
     "name": "stdout",
     "output_type": "stream",
     "text": [
      "Task 1: 466, Task 2: 865\n"
     ]
    }
   ],
   "source": [
    "l = [[[int(k) for k in j.split(\"-\")] for j in i.split(\",\")] for i in open(\"inputs22/4\").read().split(\"\\n\")]\n",
    "splitter = lambda p: (set(range(p[0][0], p[0][1]+1)), set(range(p[1][0], p[1][1]+1)))\n",
    "f1 = lambda s1, s2: s1.issubset(s2) or s2.issubset(s1)\n",
    "f2 = lambda s1, s2: (s1 & s2) != set()\n",
    "r = lambda f: reduce(lambda b, p: f(*splitter(p)) + b, l, 0)\n",
    "print(f\"Task 1: {r(f1)}, Task 2: {r(f2)}\")"
   ]
  },
  {
   "cell_type": "markdown",
   "metadata": {},
   "source": [
    "## **5. Advent**"
   ]
  },
  {
   "cell_type": "code",
   "execution_count": 73,
   "metadata": {},
   "outputs": [
    {
     "name": "stdout",
     "output_type": "stream",
     "text": [
      "[['W', 'B', 'D', 'N', 'C', 'F', 'J'], ['P', 'Z', 'V', 'Q', 'L', 'S', 'T'], ['P', 'Z', 'B', 'G', 'J', 'T'], ['D', 'T', 'L', 'J', 'Z', 'B', 'H', 'C'], ['G', 'V', 'B', 'J', 'S'], ['P', 'S', 'Q'], ['B', 'V', 'D', 'F', 'L', 'M', 'P', 'N'], ['P', 'S', 'M', 'F', 'B', 'D', 'L', 'R'], ['V', 'D', 'T', 'R']]\n",
      "[['D', 'S', 'P', 'P', 'L', 'M', 'H', 'T'], ['P', 'P'], ['B', 'L', 'Q', 'C', 'S', 'N', 'F'], ['F'], ['M', 'V', 'T', 'D', 'B', 'S', 'D', 'R', 'Z', 'V', 'C', 'L', 'B'], ['B', 'T', 'J', 'P', 'G', 'F', 'S', 'B', 'W', 'D'], ['Z', 'V', 'L', 'N', 'R'], ['Q', 'T', 'J', 'B', 'Z', 'J', 'J'], ['V', 'G', 'D']]\n",
      "TPFFBDRJD\n"
     ]
    }
   ],
   "source": [
    "crates_s, insts_s = open(\"inputs22/5\").read().split(\"\\n\\n\")\n",
    "\n",
    "# parse crates into C\n",
    "N = int(crates_s.split(\" \")[-2])\n",
    "C = [[] for _ in range(N)]\n",
    "for line in crates_s.split(\"\\n\")[:-1]:\n",
    "    for i, ci in enumerate(range(1, 4*N, 4)):\n",
    "        c = line[ci]\n",
    "        if c != \" \": C[i].insert(0, c)\n",
    "\n",
    "# parse instructions\n",
    "l = [i.split(\" \") for i in insts_s.split(\"\\n\")]\n",
    "I = [[int(sl[i]) for i in [1,3,5]] for sl in l]\n",
    "\n",
    "\n",
    "def mover9000(inst):\n",
    "    num_crates, orig, dest = inst[0], inst[1]-1, inst[2]-1\n",
    "    for _ in range(num_crates):\n",
    "        c = C[orig].pop()\n",
    "        C[dest].append(c)\n",
    "\n",
    "def mover9001(inst):\n",
    "    num_crates, orig, dest = inst[0], inst[1]-1, inst[2]-1\n",
    "    c, C[orig] = C[orig][-num_crates:], C[orig][:-num_crates]\n",
    "    C[dest] += c\n",
    "\n",
    "print(C)\n",
    "\n",
    "for inst in I:\n",
    "    mover9001(inst)\n",
    "\n",
    "print(C)\n",
    "\n",
    "print(\"\".join([c[-1] for c in C]))\n"
   ]
  },
  {
   "cell_type": "code",
   "execution_count": 72,
   "metadata": {},
   "outputs": [
    {
     "ename": "AttributeError",
     "evalue": "'list' object has no attribute 'split'",
     "output_type": "error",
     "traceback": [
      "\u001b[0;31m---------------------------------------------------------------------------\u001b[0m",
      "\u001b[0;31mAttributeError\u001b[0m                            Traceback (most recent call last)",
      "Cell \u001b[0;32mIn[72], line 1\u001b[0m\n\u001b[0;32m----> 1\u001b[0m [\u001b[39m1\u001b[39;49m,\u001b[39m2\u001b[39;49m,\u001b[39m3\u001b[39;49m]\u001b[39m.\u001b[39;49msplit(\u001b[39m2\u001b[39m)\n",
      "\u001b[0;31mAttributeError\u001b[0m: 'list' object has no attribute 'split'"
     ]
    }
   ],
   "source": [
    "[1,2,3].split(2)"
   ]
  },
  {
   "cell_type": "code",
   "execution_count": 6,
   "metadata": {},
   "outputs": [
    {
     "data": {
      "text/plain": [
       "'    [D]    \\n[N] [C]    \\n[Z] [M] [P]\\n 1   2   3 '"
      ]
     },
     "execution_count": 6,
     "metadata": {},
     "output_type": "execute_result"
    }
   ],
   "source": [
    "crate_s"
   ]
  },
  {
   "cell_type": "markdown",
   "metadata": {},
   "source": []
  }
 ],
 "metadata": {
  "kernelspec": {
   "display_name": "Python 3.10.4 64-bit",
   "language": "python",
   "name": "python3"
  },
  "language_info": {
   "codemirror_mode": {
    "name": "ipython",
    "version": 3
   },
   "file_extension": ".py",
   "mimetype": "text/x-python",
   "name": "python",
   "nbconvert_exporter": "python",
   "pygments_lexer": "ipython3",
   "version": "3.10.4"
  },
  "orig_nbformat": 4,
  "vscode": {
   "interpreter": {
    "hash": "3ad933181bd8a04b432d3370b9dc3b0662ad032c4dfaa4e4f1596c548f763858"
   }
  }
 },
 "nbformat": 4,
 "nbformat_minor": 2
}
