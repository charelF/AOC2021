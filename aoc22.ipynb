{
 "cells": [
  {
   "cell_type": "markdown",
   "metadata": {},
   "source": [
    "# **Advent of Code 2022**"
   ]
  },
  {
   "cell_type": "code",
   "execution_count": 2,
   "metadata": {},
   "outputs": [],
   "source": [
    "import numpy as np\n",
    "import pandas as pd\n",
    "from functools import reduce\n",
    "\n",
    "import warnings\n",
    "warnings.filterwarnings(\"ignore\")"
   ]
  },
  {
   "cell_type": "markdown",
   "metadata": {},
   "source": [
    "## **1. Advent**"
   ]
  },
  {
   "cell_type": "code",
   "execution_count": 3,
   "metadata": {},
   "outputs": [
    {
     "name": "stdout",
     "output_type": "stream",
     "text": [
      "Task 1: 69795, Task 2: 208437\n"
     ]
    }
   ],
   "source": [
    "l = [i.split(\"\\n\") for i in open(\"inputs22/1\").read().split(\"\\n\\n\")]\n",
    "s = [sum([int(i) for i in sl]) for sl in l]\n",
    "print(f\"Task 1: {max(s)}, Task 2: {sum(sorted(s)[-3:])}\")"
   ]
  },
  {
   "cell_type": "markdown",
   "metadata": {},
   "source": [
    "## **2. Advent**"
   ]
  },
  {
   "cell_type": "code",
   "execution_count": 10,
   "metadata": {},
   "outputs": [
    {
     "name": "stdout",
     "output_type": "stream",
     "text": [
      "Task 1: 8392, Task 2: 10116\n"
     ]
    }
   ],
   "source": [
    "df = pd.read_csv(\"inputs22/2\", header=None, sep=\" \")\n",
    "t = lambda i: df.apply(lambda row: f(row[0], row[1])[i], axis=1).sum()\n",
    "\n",
    "def f(opp, you):\n",
    "    match (opp, you):\n",
    "        #     OPP, YOU    -->   OUT+MOV, OUT+MOV   \n",
    "        case (\"A\", \"X\"): return (3 + 1), (0 + 3)\n",
    "        case (\"B\", \"X\"): return (0 + 1), (0 + 1)\n",
    "        case (\"C\", \"X\"): return (6 + 1), (0 + 2)\n",
    "        case (\"A\", \"Y\"): return (6 + 2), (3 + 1)\n",
    "        case (\"B\", \"Y\"): return (3 + 2), (3 + 2)\n",
    "        case (\"C\", \"Y\"): return (0 + 2), (3 + 3)\n",
    "        case (\"A\", \"Z\"): return (0 + 3), (6 + 2)\n",
    "        case (\"B\", \"Z\"): return (6 + 3), (6 + 3)\n",
    "        case (\"C\", \"Z\"): return (3 + 3), (6 + 1)\n",
    "\n",
    "print(f\"Task 1: {t(0)}, Task 2: {t(1)}\")"
   ]
  },
  {
   "cell_type": "markdown",
   "metadata": {},
   "source": [
    "## **3. Advent**"
   ]
  },
  {
   "cell_type": "code",
   "execution_count": 113,
   "metadata": {},
   "outputs": [
    {
     "name": "stdout",
     "output_type": "stream",
     "text": [
      "Task 1: 8123, Task 2: 2620\n"
     ]
    }
   ],
   "source": [
    "l = open(\"inputs22/3\").read().split(\"\\n\")\n",
    "t = [(s[:len(s)//2], s[len(s)//2:]) for s in l]\n",
    "t2 = [l[i:i+3] for i in range(0, len(l), 3)]\n",
    "scorer = lambda s: [ord(x) - (96 if x.islower() else 38) for x in s]\n",
    "intersector = lambda t: [set.intersection(*[set(ttt) for ttt in tt]).pop() for tt in t]\n",
    "f = lambda t: sum(scorer(intersector(t)))\n",
    "print(f\"Task 1: {f(t)}, Task 2: {f(t2)}\")"
   ]
  }
 ],
 "metadata": {
  "kernelspec": {
   "display_name": "Python 3.10.4 64-bit",
   "language": "python",
   "name": "python3"
  },
  "language_info": {
   "codemirror_mode": {
    "name": "ipython",
    "version": 3
   },
   "file_extension": ".py",
   "mimetype": "text/x-python",
   "name": "python",
   "nbconvert_exporter": "python",
   "pygments_lexer": "ipython3",
   "version": "3.10.4"
  },
  "orig_nbformat": 4,
  "vscode": {
   "interpreter": {
    "hash": "3ad933181bd8a04b432d3370b9dc3b0662ad032c4dfaa4e4f1596c548f763858"
   }
  }
 },
 "nbformat": 4,
 "nbformat_minor": 2
}
