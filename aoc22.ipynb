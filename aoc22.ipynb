{
 "cells": [
  {
   "cell_type": "markdown",
   "metadata": {},
   "source": [
    "# **Advent of Code 2022**"
   ]
  },
  {
   "cell_type": "code",
   "execution_count": 2,
   "metadata": {},
   "outputs": [],
   "source": [
    "import numpy as np\n",
    "import pandas as pd\n",
    "from functools import reduce\n",
    "\n",
    "import warnings\n",
    "warnings.filterwarnings(\"ignore\")"
   ]
  },
  {
   "cell_type": "markdown",
   "metadata": {},
   "source": [
    "## **1. Advent**"
   ]
  },
  {
   "cell_type": "code",
   "execution_count": 3,
   "metadata": {},
   "outputs": [
    {
     "name": "stdout",
     "output_type": "stream",
     "text": [
      "Task 1: 69795, Task 2: 208437\n"
     ]
    }
   ],
   "source": [
    "l = [i.split(\"\\n\") for i in open(\"inputs22/1\").read().split(\"\\n\\n\")]\n",
    "s = [sum([int(i) for i in sl]) for sl in l]\n",
    "print(f\"Task 1: {max(s)}, Task 2: {sum(sorted(s)[-3:])}\")"
   ]
  },
  {
   "cell_type": "code",
   "execution_count": 23,
   "metadata": {},
   "outputs": [
    {
     "data": {
      "text/plain": [
       "10116"
      ]
     },
     "execution_count": 23,
     "metadata": {},
     "output_type": "execute_result"
    }
   ],
   "source": [
    "d = pd.read_csv(\"inputs22/2\", header=None, sep=\" \")\n",
    "\n",
    "def f1(opp, you):\n",
    "    match (opp, you):\n",
    "        case (\"A\", \"X\"): return 3 + 1\n",
    "        case (\"B\", \"X\"): return 0 + 1\n",
    "        case (\"C\", \"X\"): return 6 + 1\n",
    "        case (\"A\", \"Y\"): return 6 + 2\n",
    "        case (\"B\", \"Y\"): return 3 + 2\n",
    "        case (\"C\", \"Y\"): return 0 + 2\n",
    "        case (\"A\", \"Z\"): return 0 + 3\n",
    "        case (\"B\", \"Z\"): return 6 + 3\n",
    "        case (\"C\", \"Z\"): return 3 + 3\n",
    "\n",
    "def f2(opp, you):\n",
    "    match (opp, you):\n",
    "        case (\"A\", \"X\"): return 0 + 3\n",
    "        case (\"B\", \"X\"): return 0 + 1\n",
    "        case (\"C\", \"X\"): return 0 + 2\n",
    "        case (\"A\", \"Y\"): return 3 + 1\n",
    "        case (\"B\", \"Y\"): return 3 + 2\n",
    "        case (\"C\", \"Y\"): return 3 + 3\n",
    "        case (\"A\", \"Z\"): return 6 + 2\n",
    "        case (\"B\", \"Z\"): return 6 + 3\n",
    "        case (\"C\", \"Z\"): return 6 + 1\n",
    "\n",
    "d.apply(lambda row: f2(row[0], row[1]), axis=1).sum()xw"
   ]
  },
  {
   "cell_type": "code",
   "execution_count": 19,
   "metadata": {},
   "outputs": [
    {
     "data": {
      "text/html": [
       "<div>\n",
       "<style scoped>\n",
       "    .dataframe tbody tr th:only-of-type {\n",
       "        vertical-align: middle;\n",
       "    }\n",
       "\n",
       "    .dataframe tbody tr th {\n",
       "        vertical-align: top;\n",
       "    }\n",
       "\n",
       "    .dataframe thead th {\n",
       "        text-align: right;\n",
       "    }\n",
       "</style>\n",
       "<table border=\"1\" class=\"dataframe\">\n",
       "  <thead>\n",
       "    <tr style=\"text-align: right;\">\n",
       "      <th></th>\n",
       "      <th>0</th>\n",
       "      <th>1</th>\n",
       "    </tr>\n",
       "  </thead>\n",
       "  <tbody>\n",
       "    <tr>\n",
       "      <th>0</th>\n",
       "      <td>A</td>\n",
       "      <td>Y</td>\n",
       "    </tr>\n",
       "    <tr>\n",
       "      <th>1</th>\n",
       "      <td>B</td>\n",
       "      <td>X</td>\n",
       "    </tr>\n",
       "    <tr>\n",
       "      <th>2</th>\n",
       "      <td>C</td>\n",
       "      <td>Z</td>\n",
       "    </tr>\n",
       "  </tbody>\n",
       "</table>\n",
       "</div>"
      ],
      "text/plain": [
       "   0  1\n",
       "0  A  Y\n",
       "1  B  X\n",
       "2  C  Z"
      ]
     },
     "execution_count": 19,
     "metadata": {},
     "output_type": "execute_result"
    }
   ],
   "source": [
    "d"
   ]
  },
  {
   "cell_type": "code",
   "execution_count": null,
   "metadata": {},
   "outputs": [],
   "source": []
  }
 ],
 "metadata": {
  "kernelspec": {
   "display_name": "Python 3.10.4 64-bit",
   "language": "python",
   "name": "python3"
  },
  "language_info": {
   "codemirror_mode": {
    "name": "ipython",
    "version": 3
   },
   "file_extension": ".py",
   "mimetype": "text/x-python",
   "name": "python",
   "nbconvert_exporter": "python",
   "pygments_lexer": "ipython3",
   "version": "3.10.4"
  },
  "orig_nbformat": 4,
  "vscode": {
   "interpreter": {
    "hash": "3ad933181bd8a04b432d3370b9dc3b0662ad032c4dfaa4e4f1596c548f763858"
   }
  }
 },
 "nbformat": 4,
 "nbformat_minor": 2
}
