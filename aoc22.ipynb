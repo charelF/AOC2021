{
 "cells": [
  {
   "cell_type": "markdown",
   "metadata": {},
   "source": [
    "# **Advent of Code 2022**"
   ]
  },
  {
   "cell_type": "code",
   "execution_count": 144,
   "metadata": {},
   "outputs": [],
   "source": [
    "from __future__ import annotations\n",
    "import numpy as np\n",
    "import pandas as pd\n",
    "from functools import reduce\n",
    "import copy\n",
    "from dataclasses import dataclass, field\n",
    "\n",
    "import warnings\n",
    "warnings.filterwarnings(\"ignore\")\n",
    "import matplotlib.pyplot as plt\n",
    "import numpy as np\n"
   ]
  },
  {
   "cell_type": "markdown",
   "metadata": {},
   "source": [
    "## **1. Advent**"
   ]
  },
  {
   "cell_type": "code",
   "execution_count": 2,
   "metadata": {},
   "outputs": [
    {
     "name": "stdout",
     "output_type": "stream",
     "text": [
      "Task 1: 69795, Task 2: 208437\n"
     ]
    }
   ],
   "source": [
    "l = [i.split(\"\\n\") for i in open(\"inputs22/1\").read().split(\"\\n\\n\")]\n",
    "s = [sum([int(i) for i in sl]) for sl in l]\n",
    "print(f\"Task 1: {max(s)}, Task 2: {sum(sorted(s)[-3:])}\")"
   ]
  },
  {
   "cell_type": "markdown",
   "metadata": {},
   "source": [
    "## **2. Advent**"
   ]
  },
  {
   "cell_type": "code",
   "execution_count": 3,
   "metadata": {},
   "outputs": [],
   "source": [
    "# df = pd.read_csv(\"inputs22/2\", header=None, sep=\" \")\n",
    "# t = lambda i: df.apply(lambda row: f(row[0], row[1])[i], axis=1).sum()\n",
    "# def f(opp, you):\n",
    "#     match (opp, you):\n",
    "#         case (\"A\", \"A\"): return (3 + 1), (0 + 3)\n",
    "#         case (\"B\", \"X\"): return (0 + 1), (0 + 1)\n",
    "#         case (\"C\", \"X\"): return (6 + 1), (0 + 2)\n",
    "#         case (\"A\", \"Y\"): return (6 + 2), (3 + 1)\n",
    "#         case (\"B\", \"Y\"): return (3 + 2), (3 + 2)\n",
    "#         case (\"C\", \"Y\"): return (0 + 2), (3 + 3)\n",
    "#         case (\"A\", \"Z\"): return (0 + 3), (6 + 2)\n",
    "#         case (\"B\", \"Z\"): return (6 + 3), (6 + 3)\n",
    "#         case (\"C\", \"Z\"): return (3 + 3), (6 + 1)\n",
    "# print(f\"Task 1: {t(0)}, Task 2: {t(1)}\")"
   ]
  },
  {
   "cell_type": "markdown",
   "metadata": {},
   "source": [
    "## **3. Advent**"
   ]
  },
  {
   "cell_type": "code",
   "execution_count": 4,
   "metadata": {},
   "outputs": [
    {
     "name": "stdout",
     "output_type": "stream",
     "text": [
      "Task 1: 8123, Task 2: 2620\n"
     ]
    }
   ],
   "source": [
    "l = open(\"inputs22/3\").read().split(\"\\n\")\n",
    "t = [(s[:len(s)//2], s[len(s)//2:]) for s in l]\n",
    "t2 = [l[i:i+3] for i in range(0, len(l), 3)]\n",
    "scorer = lambda s: [ord(x) - (96 if x.islower() else 38) for x in s]\n",
    "intersector = lambda t: [set.intersection(*[set(i) for i in p]).pop() for p in t]\n",
    "f = lambda t: sum(scorer(intersector(t)))\n",
    "print(f\"Task 1: {f(t)}, Task 2: {f(t2)}\")"
   ]
  },
  {
   "cell_type": "markdown",
   "metadata": {},
   "source": [
    "## **4. Advent**"
   ]
  },
  {
   "cell_type": "code",
   "execution_count": 5,
   "metadata": {},
   "outputs": [
    {
     "name": "stdout",
     "output_type": "stream",
     "text": [
      "Task 1: 466, Task 2: 865\n"
     ]
    }
   ],
   "source": [
    "l = [[[int(k) for k in j.split(\"-\")] for j in i.split(\",\")] for i in open(\"inputs22/4\").read().split(\"\\n\")]\n",
    "splitter = lambda p: (set(range(p[0][0], p[0][1]+1)), set(range(p[1][0], p[1][1]+1)))\n",
    "f1 = lambda s1, s2: s1.issubset(s2) or s2.issubset(s1)\n",
    "f2 = lambda s1, s2: (s1 & s2) != set()\n",
    "r = lambda f: reduce(lambda b, p: f(*splitter(p)) + b, l, 0)\n",
    "print(f\"Task 1: {r(f1)}, Task 2: {r(f2)}\")"
   ]
  },
  {
   "cell_type": "markdown",
   "metadata": {},
   "source": [
    "## **5. Advent**"
   ]
  },
  {
   "cell_type": "code",
   "execution_count": 6,
   "metadata": {},
   "outputs": [
    {
     "name": "stdout",
     "output_type": "stream",
     "text": [
      "Task 1: LBLVVTVLP, Task 2: TPFFBDRJD\n"
     ]
    }
   ],
   "source": [
    "crates_s, insts_s = open(\"inputs22/5\").read().split(\"\\n\\n\")\n",
    "\n",
    "N = int(crates_s.split(\" \")[-2])\n",
    "C = [[] for _ in range(N)]\n",
    "for line in crates_s.split(\"\\n\")[:-1]:\n",
    "    for i, ci in enumerate(range(1, 4*N, 4)):\n",
    "        c = line[ci]\n",
    "        if c != \" \": C[i].insert(0, c)\n",
    "\n",
    "l = [i.split(\" \") for i in insts_s.split(\"\\n\")]\n",
    "I = [[int(sl[i]) for i in [1,3,5]] for sl in l]\n",
    "\n",
    "split = lambda l, i: (l[:i], l[i:])\n",
    "\n",
    "def mover(C, inst, mn):\n",
    "    num_crates, orig, dest = inst[0], inst[1]-1, inst[2]-1\n",
    "    C[orig], c = split(C[orig], -num_crates)\n",
    "    C[dest] += reversed(c) if mn == 9000 else c\n",
    "    return C\n",
    "\n",
    "mover_reduce = lambda mn: reduce(lambda c, inst: mover(c, inst, mn), I, copy.deepcopy(C))\n",
    "f = lambda mn: \"\".join([c[-1] for c in mover_reduce(mn)])\n",
    "print(f\"Task 1: {f(9000)}, Task 2: {f(9001)}\")"
   ]
  },
  {
   "cell_type": "markdown",
   "metadata": {},
   "source": [
    "## **6. Advent**"
   ]
  },
  {
   "cell_type": "code",
   "execution_count": 7,
   "metadata": {},
   "outputs": [
    {
     "name": "stdout",
     "output_type": "stream",
     "text": [
      "Task 1: 1198, Task 2: 3120\n"
     ]
    }
   ],
   "source": [
    "s = open(\"inputs22/6\").read()\n",
    "f = lambda n: [i+n for i in range(len(s)-n) if len(set(s[i:i+n])) == n][0]\n",
    "print(f\"Task 1: {f(4)}, Task 2: {f(14)}\")"
   ]
  },
  {
   "cell_type": "code",
   "execution_count": 8,
   "metadata": {},
   "outputs": [
    {
     "data": {
      "text/plain": [
       "0"
      ]
     },
     "execution_count": 8,
     "metadata": {},
     "output_type": "execute_result"
    }
   ],
   "source": [
    "s = open(\"inputs22/7t\").read().split(\"$ \")\n",
    "ss = [i.split(\"\\n\") for i in s]\n",
    "ss[-1].append(\"hack\")\n",
    "sss = [j[:-1] for j in ss[1:]]\n",
    "\n",
    "class Node:\n",
    "    parent: 'Dir' | None\n",
    "    name: str\n",
    "    level: int\n",
    "\n",
    "    def __init__(self, parent, name, level):\n",
    "        self.parent = parent\n",
    "        self.name = name\n",
    "        self.level = level\n",
    "\n",
    "class File(Node):\n",
    "    size: int\n",
    "\n",
    "    def __init__(self, parent, name, size, level):\n",
    "        self.size = size\n",
    "        super().__init__(parent, name, level)\n",
    "\n",
    "    def __repr__(self):\n",
    "        return f\"{self.name} (file, size={self.size})\"\n",
    "\n",
    "class Dir(Node):\n",
    "    children: dict[str, Node]\n",
    "    def __init__(self, parent, name, children, level):\n",
    "        self.children = children\n",
    "        super().__init__(parent, name, level)\n",
    "\n",
    "    def add_dir(self, Dir):\n",
    "        if Dir.name not in self.children:\n",
    "            self.children[Dir.name] = Dir\n",
    "\n",
    "    def add_file(self, File):\n",
    "        if File.name not in self.children:\n",
    "            self.children[File.name] = File\n",
    "\n",
    "    def get_subdir(self, name):\n",
    "        if name in self.children:\n",
    "            return self.children[name]\n",
    "        else:\n",
    "            print(\"does this happen?\")\n",
    "\n",
    "    def get_size(self):\n",
    "        total = 0\n",
    "        for c in self.children:\n",
    "            if isinstance(c, File): total += File.size\n",
    "            if isinstance(c, Dir): total += Dir.get_size()\n",
    "        return total\n",
    "\n",
    "    def __repr__(self):\n",
    "        string = f\"{self.name} (dir)\"\n",
    "        for c in self.children:\n",
    "            string += \"\\n- \" + \" \" * (self.level)\n",
    "            string += c.__repr__()\n",
    "        return string\n",
    "        \n",
    "\n",
    "ROOT = Dir(name='', parent=None, level=0, children={})\n",
    "FS = ROOT\n",
    "\n",
    "for i, line in enumerate(sss):\n",
    "    comargs, *outs = line\n",
    "    com, *args = comargs.split(\" \")\n",
    "    match com:\n",
    "        case \"cd\":\n",
    "            match args[0]:\n",
    "                case \"..\": FS = FS.parent\n",
    "                case \"/\": FS = ROOT\n",
    "                case x: FS = FS.get_subdir(x)\n",
    "\n",
    "        case \"ls\":\n",
    "            for out in outs:\n",
    "                match out.split(\" \"):\n",
    "                    case (\"dir\", name):\n",
    "                        nd = Dir(name=name, parent=FS, level=FS.level+1, children={})\n",
    "                        # print(\"123\", nd.children)\n",
    "                        FS.add_dir(nd)\n",
    "                        # print(\"456\", FS.children[nd.name].children)\n",
    "\n",
    "                    case (size, name):\n",
    "                        FS.add_dir(File(name=name, size=size, parent=FS, level=FS.level+1))\n",
    "\n",
    "\n",
    "ROOT.get_size()"
   ]
  },
  {
   "cell_type": "code",
   "execution_count": null,
   "metadata": {},
   "outputs": [],
   "source": []
  },
  {
   "cell_type": "code",
   "execution_count": 9,
   "metadata": {},
   "outputs": [
    {
     "data": {
      "text/plain": [
       "['123', '']"
      ]
     },
     "execution_count": 9,
     "metadata": {},
     "output_type": "execute_result"
    }
   ],
   "source": [
    "\"123/\".split(\"/\")"
   ]
  },
  {
   "cell_type": "code",
   "execution_count": 10,
   "metadata": {},
   "outputs": [
    {
     "data": {
      "text/plain": [
       "array([<l.H: 1>, <l.H: 1>, <l.T: 2>, <l.H: 1>, <l.T: 2>, <l.H: 1>,\n",
       "       <l.H: 1>, <l.T: 2>, <l.T: 2>, <l.T: 2>], dtype=object)"
      ]
     },
     "execution_count": 10,
     "metadata": {},
     "output_type": "execute_result"
    }
   ],
   "source": [
    "from enum import Enum\n",
    "\n",
    "\n",
    "class l(Enum):\n",
    "    H = 1\n",
    "    T = 2\n",
    "    HT = 3\n",
    "\n",
    "l.H\n",
    "l.T\n",
    "\n",
    "import numpy as np\n",
    "\n",
    "np.random.choice([l.H, l.T], size=10)"
   ]
  },
  {
   "cell_type": "code",
   "execution_count": 11,
   "metadata": {},
   "outputs": [],
   "source": [
    "# s = [i.split(\" \") for i in open(\"inputs22/8t\").read().split(\"\\n\")]\n",
    "# ss = [[x, int(y)] for x, y in s]\n",
    "\n",
    "# G = np.zeros((1000,1000,3), dtype=bool)\n",
    "\n",
    "# # G[500,500] = 1\n",
    "# # i, j = \n",
    "# Hi, Hj = 0,0\n",
    "# Ti, Tj = 0,0\n",
    "\n",
    "# def compute_consequence(H, T):\n",
    "    \n",
    "\n",
    "\n",
    "# for step in ss:\n",
    "#     match step:\n",
    "#         case \"R\", i:\n",
    "#             Hj += 1\n",
    "\n"
   ]
  },
  {
   "cell_type": "code",
   "execution_count": 12,
   "metadata": {},
   "outputs": [
    {
     "name": "stdout",
     "output_type": "stream",
     "text": [
      "138\n",
      "138\n",
      "[17, 17, 7, 21, 21, 17]\n",
      "12520\n"
     ]
    }
   ],
   "source": [
    "I = [i.split(\" \") for i in open(\"inputs22/9\").read().split(\"\\n\")]\n",
    "\n",
    "X = 1\n",
    "c = 0\n",
    "C = [X]\n",
    "\n",
    "print(len(I))\n",
    "print(len(I) )\n",
    "\n",
    "\n",
    "for inst in I:\n",
    "    match inst:\n",
    "        case [\"noop\"]:\n",
    "            C += [X]\n",
    "        case \"addx\", i:\n",
    "            C += [X]\n",
    "            C += [X]\n",
    "            X += int(i)\n",
    "        case _: print(\"problem\")\n",
    "C += [X]\n",
    "\n",
    "# print(len(C))\n",
    "# print(C[20], C[:20])\n",
    "l = [C[20], C[60], C[100], C[140], C[180], C[220]]\n",
    "print(l)\n",
    "l = [C[20]*20, C[60]*60, C[100]*100, C[140]*140, C[180]*180, C[220]*220]\n",
    "\n",
    "# C[219:]\n",
    "print(sum(l))"
   ]
  },
  {
   "cell_type": "code",
   "execution_count": 13,
   "metadata": {},
   "outputs": [
    {
     "name": "stdout",
     "output_type": "stream",
     "text": [
      "████ █  █ ███  ████ ███    ██  ██  █    \n",
      "█    █  █ █  █    █ █  █    █ █  █ █    \n",
      "███  ████ █  █   █  █  █    █ █    █    \n",
      "█    █  █ ███   █   ███     █ █ ██ █    \n",
      "█    █  █ █    █    █    █  █ █  █ █    \n",
      "████ █  █ █    ████ █     ██   ███ ████ \n"
     ]
    }
   ],
   "source": [
    "A = np.array(C[1:-1]).reshape(-1, 40)\n",
    "IDX = np.vstack(list(np.arange(40))*6).reshape(-1,40)\n",
    "\n",
    "R = np.abs(A - IDX) <= 1\n",
    "\n",
    "for row in R:\n",
    "    for el in row:\n",
    "        if el: \n",
    "            print(\"█\", end=\"\")\n",
    "        else:\n",
    "            print(\" \", end=\"\")\n",
    "    print()\n",
    "\n",
    "\n"
   ]
  },
  {
   "cell_type": "code",
   "execution_count": 14,
   "metadata": {},
   "outputs": [
    {
     "data": {
      "text/plain": [
       "<bound method Kernel.raw_input of <ipykernel.ipkernel.IPythonKernel object at 0x7f757ea3cd90>>"
      ]
     },
     "execution_count": 14,
     "metadata": {},
     "output_type": "execute_result"
    }
   ],
   "source": [
    "\n",
    "\n",
    "input\n"
   ]
  },
  {
   "cell_type": "code",
   "execution_count": 15,
   "metadata": {},
   "outputs": [
    {
     "data": {
      "text/plain": [
       "[2]"
      ]
     },
     "execution_count": 15,
     "metadata": {},
     "output_type": "execute_result"
    }
   ],
   "source": [
    "a = slice(1,2)\n",
    "\n",
    "[1,2,3,4,5][a]"
   ]
  },
  {
   "cell_type": "code",
   "execution_count": 16,
   "metadata": {},
   "outputs": [
    {
     "name": "stdout",
     "output_type": "stream",
     "text": [
      "3083\n"
     ]
    }
   ],
   "source": [
    "jets = open(\"inputs22/17\").read()\n",
    "\n",
    "dash = np.array([[i for i in j] for j in \"0000.0000.0000.1111\".split(\".\")], dtype=int)\n",
    "plus = np.array([[i for i in j] for j in \"0000.0100.1110.0100\".split(\".\")], dtype=int)\n",
    "invl = np.array([[i for i in j] for j in \"0000.0010.0010.1110\".split(\".\")], dtype=int)\n",
    "pipe = np.array([[i for i in j] for j in \"1000.1000.1000.1000\".split(\".\")], dtype=int)\n",
    "rect = np.array([[i for i in j] for j in \"0000.0000.1100.1100\".split(\".\")], dtype=int)\n",
    "test = np.array([[i for i in j] for j in \"1111.1111.1111.1111\".split(\".\")], dtype=int)\n",
    "\n",
    "rocks = [dash, plus, invl, pipe, rect]\n",
    "\n",
    "H = 4000\n",
    "w = 4\n",
    "rs = 4\n",
    "\n",
    "C = np.zeros((H, 7 + (2*w)), dtype=int)\n",
    "C[:, :w] = 1\n",
    "C[:, -w:] = 1\n",
    "C[-w:, :] = 1\n",
    "\n",
    "# print(C[-10:])\n",
    "\n",
    "\n",
    "def get_start_idx(C):\n",
    "    for i, line in enumerate(C):\n",
    "        if sum(line) > (2*w):\n",
    "            return [i-(3+rs), i-3, w+2, w+2+rs]\n",
    "\n",
    "def p2s(pos):\n",
    "    return (slice(pos[0], pos[1]), slice(pos[2], pos[3]))\n",
    "\n",
    "def jetmove(pos, jet):\n",
    "    match jet:\n",
    "        case \">\":\n",
    "            return [pos[0], pos[1], pos[2]+1, pos[3]+1]\n",
    "        case \"<\":\n",
    "            return [pos[0], pos[1], pos[2]-1, pos[3]-1]\n",
    "\n",
    "def downmove(pos):\n",
    "    return [pos[0]+1, pos[1]+1, pos[2], pos[3]]\n",
    "\n",
    "def get_next_jet():\n",
    "    for i in range(100_000_000):\n",
    "        yield jets[i % len(jets)]\n",
    "jetgen = get_next_jet()\n",
    "\n",
    "def print_fucking_tower(T):\n",
    "    lastpos = get_start_idx(T)\n",
    "    print()\n",
    "    for line in T[lastpos[0]:-w, w:-w]:\n",
    "        for i in line:\n",
    "            if i == 0: print(\".\", end=\"\")\n",
    "            if i == 1: print(\"#\", end=\"\")\n",
    "        print()\n",
    "    print()\n",
    "\n",
    "for i in range(2022):\n",
    "    rock = rocks[i%len(rocks)]\n",
    "    pos = get_start_idx(C)\n",
    "    # if (i%100) == 0:\n",
    "    #     print(f\"Rock {i}, start {pos}\", end=\" | \")\n",
    "    assert(np.sum(C[p2s(pos)]) == 0) # verify we can place it\n",
    "\n",
    "    # print(\"starting pos\")\n",
    "    # D = C.copy()\n",
    "    # D[p2s(pos)] = rock\n",
    "    # print_fucking_tower(D)\n",
    "\n",
    "    for j in range(100_000_000_000):\n",
    "        if j%2 == 0:\n",
    "            jet = next(jetgen)\n",
    "            # print(jet)\n",
    "            nextpos = jetmove(pos, jet)\n",
    "            if np.any(C[p2s(nextpos)] + rock >= 2):\n",
    "                continue\n",
    "            else:\n",
    "                pos = nextpos\n",
    "        else:\n",
    "            nextpos = downmove(pos)\n",
    "            if np.any(C[p2s(nextpos)] + rock >= 2):\n",
    "                C[p2s(pos)] += rock\n",
    "                break\n",
    "            else:\n",
    "                pos = nextpos\n",
    "\n",
    "    # print_fucking_tower(C)\n",
    "\n",
    "\n",
    "for i, line in enumerate(C):\n",
    "    if sum(line) > (2*w):\n",
    "        break\n",
    "\n",
    "print(H - i - w)"
   ]
  },
  {
   "cell_type": "code",
   "execution_count": 17,
   "metadata": {},
   "outputs": [
    {
     "name": "stdout",
     "output_type": "stream",
     "text": [
      "3522.0\n",
      "2074.0\n"
     ]
    }
   ],
   "source": [
    "l = open(\"inputs22/18\").read().split(\"\\n\")\n",
    "l = [[int(i) for i in x.split(\",\")] for x in l]\n",
    "\n",
    "D = 20\n",
    "X = np.zeros((D,D,D))\n",
    "\n",
    "for x,y,z in l:\n",
    "    X[x,y,z] = 1\n",
    "\n",
    "def get_neighbours(A, x,y,z):\n",
    "    total = 0\n",
    "    if x < D-1: total += A[x+1,y,z]\n",
    "    if x > 0  : total += A[x-1,y,z]\n",
    "    if y < D-1: total += A[x,y+1,z]\n",
    "    if y > 0  : total += A[x,y-1,z]\n",
    "    if z < D-1: total += A[x,y,z+1]\n",
    "    if z > 0  : total += A[x,y,z-1]\n",
    "    return total\n",
    "\n",
    "total = 0\n",
    "for i in range(D):\n",
    "    for j in range(D):\n",
    "        for k in range(D):\n",
    "            if X[i,j,k] == 0:\n",
    "                continue\n",
    "            else:\n",
    "                n = get_neighbours(X, i,j,k)\n",
    "                shown_sides = 6 - n\n",
    "                total += shown_sides\n",
    "\n",
    "print(total)\n",
    "\n",
    "\n",
    "def get_neighbour_coords(x,y,z):\n",
    "    total = []\n",
    "    if x < D-1: total.append((x+1,y,z))\n",
    "    if x > 0: total.append((x-1,y,z))\n",
    "    if y < D-1: total.append((x,y+1,z))\n",
    "    if y > 0: total.append((x,y-1,z))\n",
    "    if z < D-1: total.append((x,y,z+1))\n",
    "    if z > 0: total.append((x,y,z-1))\n",
    "    return total\n",
    "\n",
    "\n",
    "L = [(0,0,0)]\n",
    "V = []\n",
    "C = np.zeros_like(X)\n",
    "\n",
    "while True:\n",
    "    if L == []:\n",
    "        break\n",
    "    x,y,z = L.pop()\n",
    "\n",
    "    # check if already checked:\n",
    "    if C[x,y,z] == 1:\n",
    "        continue\n",
    "\n",
    "    # check if air or lava\n",
    "    if X[x,y,z] == 0:\n",
    "        # its air, and we check its neighbours\n",
    "        C[x,y,z] = 1\n",
    "        neighbours = get_neighbour_coords(x,y,z)\n",
    "        L += neighbours\n",
    "    else:\n",
    "        # its lava, so we move on\n",
    "        continue\n",
    "\n",
    "\n",
    "# C.sum()\n",
    "T = 1 - (C + X)\n",
    "\n",
    "# print(T.sum())\n",
    "\n",
    "total2 = 0\n",
    "for i in range(D):\n",
    "    for j in range(D):\n",
    "        for k in range(D):\n",
    "            if T[i,j,k] == 0:\n",
    "                continue\n",
    "            else:\n",
    "                n = get_neighbours(T, i,j,k)\n",
    "                shown_sides = 6 - n\n",
    "                total2 += shown_sides\n",
    "\n",
    "print(total - total2)"
   ]
  },
  {
   "cell_type": "code",
   "execution_count": 30,
   "metadata": {},
   "outputs": [
    {
     "data": {
      "text/plain": [
       "array([[ 4,  0,  0,  0],\n",
       "       [ 2,  0,  0,  0],\n",
       "       [ 3, 14,  0,  0],\n",
       "       [ 2,  0,  7,  0]])"
      ]
     },
     "execution_count": 30,
     "metadata": {},
     "output_type": "execute_result"
    }
   ],
   "source": [
    "D[1]"
   ]
  },
  {
   "cell_type": "code",
   "execution_count": null,
   "metadata": {},
   "outputs": [
    {
     "name": "stdout",
     "output_type": "stream",
     "text": [
      "------ [Min 1] -----\n",
      "1\n",
      "------ [Min 2] -----\n",
      "1\n",
      "------ [Min 3] -----\n",
      "1\n",
      "------ [Min 4] -----\n",
      "2\n",
      "------ [Min 5] -----\n",
      "3\n",
      "------ [Min 6] -----\n",
      "6\n",
      "------ [Min 7] -----\n",
      "8\n",
      "------ [Min 8] -----\n",
      "17\n",
      "------ [Min 9] -----\n",
      "25\n",
      "------ [Min 10] -----\n",
      "49\n",
      "------ [Min 11] -----\n",
      "64\n",
      "------ [Min 12] -----\n",
      "111\n",
      "------ [Min 13] -----\n",
      "163\n",
      "------ [Min 14] -----\n",
      "323\n",
      "------ [Min 15] -----\n",
      "401\n",
      "------ [Min 16] -----\n",
      "738\n"
     ]
    },
    {
     "ename": "KeyboardInterrupt",
     "evalue": "",
     "output_type": "error",
     "traceback": [
      "\u001b[0;31m---------------------------------------------------------------------------\u001b[0m",
      "\u001b[0;31mKeyboardInterrupt\u001b[0m                         Traceback (most recent call last)",
      "Cell \u001b[0;32mIn[17], line 122\u001b[0m\n\u001b[1;32m    119\u001b[0m     new_combinations \u001b[39m+\u001b[39m\u001b[39m=\u001b[39m real_paths\n\u001b[1;32m    121\u001b[0m \u001b[39m# print(f\"new_combinations {new_combinations}\")\u001b[39;00m\n\u001b[0;32m--> 122\u001b[0m new_combinations \u001b[39m=\u001b[39m optimize(new_combinations)\n\u001b[1;32m    123\u001b[0m \u001b[39m# print(f\"new_combinations after {new_combinations}\")\u001b[39;00m\n\u001b[1;32m    124\u001b[0m     \n\u001b[1;32m    125\u001b[0m \u001b[39m# print(\"OUTCOME\")\u001b[39;00m\n\u001b[1;32m    126\u001b[0m \u001b[39m# print(\"\\n\".join([f\"ores: {x}, robots: {y}\" for x,y in new_combinations]))\u001b[39;00m\n\u001b[1;32m    127\u001b[0m combinations \u001b[39m=\u001b[39m new_combinations\n",
      "Cell \u001b[0;32mIn[17], line 61\u001b[0m, in \u001b[0;36moptimize\u001b[0;34m(combinations)\u001b[0m\n\u001b[1;32m     59\u001b[0m dont_add \u001b[39m=\u001b[39m \u001b[39mFalse\u001b[39;00m\n\u001b[1;32m     60\u001b[0m \u001b[39mfor\u001b[39;00m j, comb2 \u001b[39min\u001b[39;00m \u001b[39menumerate\u001b[39m(optimised_combinations):\n\u001b[0;32m---> 61\u001b[0m     \u001b[39mif\u001b[39;00m np\u001b[39m.\u001b[39;49mall(comb1[\u001b[39m0\u001b[39;49m] \u001b[39m==\u001b[39;49m comb2[\u001b[39m0\u001b[39;49m]) \u001b[39mand\u001b[39;00m np\u001b[39m.\u001b[39mall(comb1[\u001b[39m1\u001b[39m] \u001b[39m==\u001b[39m comb2[\u001b[39m1\u001b[39m]):\n\u001b[1;32m     62\u001b[0m         dont_add \u001b[39m=\u001b[39m \u001b[39mTrue\u001b[39;00m  \u001b[39m# if exact combinatio in there, continue\u001b[39;00m\n\u001b[1;32m     64\u001b[0m \u001b[39mif\u001b[39;00m dont_add:\n",
      "File \u001b[0;32m<__array_function__ internals>:177\u001b[0m, in \u001b[0;36mall\u001b[0;34m(*args, **kwargs)\u001b[0m\n",
      "\u001b[0;31mKeyboardInterrupt\u001b[0m: "
     ]
    },
    {
     "name": "stderr",
     "output_type": "stream",
     "text": [
      "Bad pipe message: %s [b'K\\xef\\x1ase\\xd7\\xc2\\x86O\\xc2UeW\\x82\\xb1N\\xc5\\xb8 \\x14\\x19\\xc6)8\\xa5V*9\\xc6\\xefbP$\\xa1\\xdb\\x8a\\\\!\\xd7\\xc68@\\xcbQ\\xe2\\xb7c%e\\xf0\\xc4\\x00\\x08\\x13\\x02\\x13\\x03\\x13\\x01\\x00\\xff\\x01\\x00\\x00\\x8f\\x00\\x00\\x00\\x0e\\x00\\x0c\\x00\\x00\\t127.0.0.1\\x00\\x0b\\x00\\x04\\x03\\x00\\x01\\x02\\x00\\n\\x00\\x0c\\x00\\n\\x00\\x1d\\x00\\x17\\x00\\x1e\\x00\\x19\\x00\\x18\\x00#\\x00\\x00\\x00\\x16\\x00\\x00\\x00\\x17\\x00\\x00\\x00\\r\\x00\\x1e\\x00\\x1c\\x04\\x03\\x05\\x03']\n",
      "Bad pipe message: %s [b'\\x08\\x07\\x08\\x08\\x08', b'\\n\\x08\\x0b\\x08\\x04\\x08\\x05\\x08']\n",
      "Bad pipe message: %s [b'\\x01\\x05\\x01\\x06\\x01']\n",
      "Bad pipe message: %s [b'\\xbc(\\xaeL\\xf2<R\\x83']\n",
      "Bad pipe message: %s [b\".\\x84\\x1eQf\\x92(\\xcf6'\\xf2;2\\xef\\x89\\xa29a\\x00\\x00|\\xc0,\\xc00\\x00\\xa3\\x00\\x9f\\xcc\\xa9\\xcc\\xa8\\xcc\\xaa\\xc0\\xaf\\xc0\\xad\\xc0\\xa3\\xc0\\x9f\\xc0]\\xc0a\\xc0W\\xc0S\\xc0+\\xc0/\\x00\\xa2\\x00\\x9e\\xc0\\xae\\xc0\\xac\\xc0\\xa2\\xc0\\x9e\\xc0\\\\\\xc0`\\xc0V\\xc0R\\xc0$\\xc0(\\x00k\\x00j\\xc0#\\xc0'\\x00g\\x00@\\xc0\\n\\xc0\\x14\\x009\\x008\\xc0\\t\\xc0\\x13\\x003\\x002\\x00\\x9d\\xc0\\xa1\\xc0\\x9d\\xc0Q\\x00\\x9c\\xc0\\xa0\\xc0\\x9c\\xc0\"]\n",
      "Bad pipe message: %s [b'=\\x00<\\x005\\x00/\\x00\\x9a\\x00\\x99\\xc0\\x07\\xc0\\x11\\x00\\x96\\x00\\x05\\x00\\xff\\x01\\x00\\x00j\\x00\\x00\\x00\\x0e\\x00\\x0c\\x00\\x00\\t127.0.0.1\\x00\\x0b\\x00\\x04\\x03\\x00\\x01\\x02\\x00\\n\\x00\\x0c\\x00\\n\\x00\\x1d\\x00\\x17\\x00\\x1e\\x00\\x19\\x00\\x18\\x00#\\x00\\x00\\x00\\x16\\x00\\x00\\x00\\x17\\x00\\x00']\n",
      "Bad pipe message: %s [b'O0\\xc2\\x12\\xf0\\xe8\\xbe\\xcc\\xeb\\x84\\xe6ud\\x87\\x88\\x8b\\xa3\\xd5\\x00\\x00>\\xc0\\x14\\xc0\\n\\x009\\x008\\x007\\x006\\xc0\\x0f\\xc0\\x05\\x005\\xc0\\x13\\xc0\\t\\x003\\x002\\x001\\x000\\xc0\\x0e\\xc0\\x04\\x00/\\x00\\x9a\\x00\\x99\\x00\\x98\\x00\\x97\\x00\\x96\\x00\\x07\\xc0\\x11\\xc0\\x07\\xc0\\x0c\\xc0\\x02\\x00\\x05\\x00\\x04\\x00\\xff\\x02\\x01\\x00\\x00C\\x00\\x00\\x00\\x0e\\x00\\x0c\\x00\\x00\\t127.0.0.1\\x00\\x0b\\x00\\x04\\x03\\x00\\x01\\x02']\n",
      "Bad pipe message: %s [b'\\x9a3\\x13\\xa6\\x99{]\\x9a}\\xf8p\\x9fY\\x1e\\x1a\\x0c\\xfbU\\x00\\x00>\\xc0\\x14\\xc0\\n\\x009\\x008\\x007\\x006\\xc0\\x0f\\xc0\\x05\\x005\\xc0\\x13\\xc0\\t\\x003\\x002\\x001\\x000\\xc0\\x0e\\xc0\\x04\\x00/\\x00\\x9a\\x00\\x99\\x00\\x98\\x00\\x97\\x00\\x96\\x00\\x07\\xc0\\x11\\xc0\\x07\\xc0\\x0c\\xc0\\x02\\x00\\x05\\x00\\x04\\x00\\xff\\x02\\x01\\x00\\x00C\\x00\\x00\\x00\\x0e\\x00\\x0c\\x00\\x00\\t127.0.0.1\\x00\\x0b\\x00\\x04\\x03\\x00\\x01\\x02\\x00', b'\\x1c\\x00\\x1a\\x00\\x17\\x00\\x19\\x00\\x1c']\n",
      "Bad pipe message: %s [b'\\xed\\xd5\\xc4T\\xd2\\x85Y\\xb5\\xb2A&%>\\xea\\xf0\\xe8\\xc5\\xb0\\x00\\x00\\xa2\\xc0\\x14\\xc0\\n\\x009\\x008\\x007\\x006\\x00\\x88\\x00\\x87\\x00\\x86\\x00\\x85\\xc0\\x19\\x00:\\x00\\x89\\xc0\\x0f\\xc0\\x05\\x005\\x00\\x84\\xc0\\x13\\xc0\\t\\x003\\x002\\x001\\x000\\x00\\x9a\\x00\\x99\\x00\\x98\\x00\\x97\\x00E\\x00D\\x00C\\x00B\\xc0\\x18\\x004\\x00\\x9b\\x00F\\xc0\\x0e\\xc0\\x04\\x00/\\x00\\x96\\x00A\\x00\\x07\\xc0\\x11\\xc0\\x07\\xc0\\x16\\x00\\x18\\xc0\\x0c\\xc0\\x02\\x00\\x05\\x00\\x04\\xc0\\x12\\xc0\\x08\\x00\\x16\\x00\\x13\\x00\\x10\\x00\\r\\xc0\\x17\\x00\\x1b\\xc0\\r\\xc0\\x03\\x00\\n\\x00\\x15\\x00\\x12\\x00\\x0f\\x00\\x0c\\x00\\x1a\\x00\\t\\x00\\x14\\x00\\x11\\x00\\x19\\x00\\x08\\x00\\x06\\x00\\x17\\x00\\x03\\xc0\\x10\\xc0\\x06\\xc0\\x15\\xc0\\x0b\\xc0\\x01\\x00\\x02\\x00\\x01\\x00\\xff\\x02\\x01\\x00\\x15']\n",
      "Bad pipe message: %s [b'\\x00\\x02']\n",
      "Bad pipe message: %s [b\"\\x9f*\\xf9\\xdd'\\x83\\x80\\x96G\\x82g=P[@\\xd5$\\xab\\x00\\x00\\xf4\\xc00\\xc0,\\xc0(\\xc0$\\xc0\\x14\\xc0\\n\\x00\\xa5\\x00\\xa3\\x00\\xa1\\x00\\x9f\\x00k\\x00j\\x00i\\x00h\\x009\\x00\", b\"7\\x006\\x00\\x88\\x00\\x87\\x00\\x86\\x00\\x85\\xc0\\x19\\x00\\xa7\\x00m\\x00:\\x00\\x89\\xc02\\xc0.\\xc0*\\xc0&\\xc0\\x0f\\xc0\\x05\\x00\\x9d\\x00=\\x005\\x00\\x84\\xc0/\\xc0+\\xc0'\\xc0#\\xc0\\x13\\xc0\\t\\x00\\xa4\"]\n"
     ]
    }
   ],
   "source": [
    "# I = [s.split(\" \") for s in open(\"inputs22/19t\").read().split(\"\\n\")]\n",
    "\n",
    "# D = {}\n",
    "# for r in I:\n",
    "#     arr = np.zeros((4,4), dtype=int)\n",
    "#     arr[0,0] = int(r[6])\n",
    "#     arr[1,0] = int(r[12])\n",
    "#     arr[2,0] = int(r[18])\n",
    "#     arr[2,1] = int(r[21])\n",
    "#     arr[3,0] = int(r[27])\n",
    "#     arr[3,2] = int(r[30])\n",
    "#     D[int(r[1].split(\":\")[0])] = arr\n",
    "\n",
    "# # def get_production_output(combination):\n",
    "# #     oi, ri = combination\n",
    "# #     new_ores = tuple([o+r for o, r in zip(oi, ri)])\n",
    "# #     return (new_ores, ri)\n",
    "\n",
    "# def get_possible_paths(M, combination):\n",
    "#     oi, ri = combination\n",
    "#     # oi = np.array(oi)\n",
    "#     # ri = np.array(ri)\n",
    "#     # pp = set()\n",
    "#     pp = []\n",
    "#     for i in range(4):\n",
    "#         if np.all(oi >= M[i]):\n",
    "#             new_oi = oi - M[i]\n",
    "#             new_ri = ri.copy()\n",
    "#             new_ri[i] += 1\n",
    "#             # new_oi = tuple(new_oi)\n",
    "#             # new_ri = tuple(new_ri)\n",
    "#             new_comb = (new_oi, new_ri)\n",
    "#             # pp |= {new_comb} | get_possible_paths(M, new_comb)\n",
    "#             pp += [new_comb] + get_possible_paths(M, new_comb)\n",
    "#     return pp\n",
    "\n",
    "# # def get_possible_paths(M, combination):\n",
    "# #     oi, ri = combination\n",
    "# #     pp = set()\n",
    "# #     for i in range(4):\n",
    "# #         if all([o>=m for o,m in zip(oi, M[i])]):\n",
    "# #             new_oi = tuple([o-m for o,m in zip(oi, M[i])])\n",
    "# #             new_ri = tuple([x+1 if j == i else x for j,x in enumerate(ri)])\n",
    "# #             new_comb = (new_oi, new_ri)\n",
    "# #             pp |= {new_comb} | get_possible_paths(M, new_comb)\n",
    "# #     return pp\n",
    "\n",
    "\n",
    "\n",
    "\n",
    "\n",
    "# def optimize(combinations):\n",
    "#     optimised_combinations = []\n",
    "\n",
    "#     # first remove duplicates\n",
    "#     for i, comb1 in enumerate(combinations):\n",
    "#         # check if this robot combination is already in there\n",
    "#         # if (oi, ri) in optimised_combinations:\n",
    "#         dont_add = False\n",
    "#         for j, comb2 in enumerate(optimised_combinations):\n",
    "#             if np.all(comb1[0] == comb2[0]) and np.all(comb1[1] == comb2[1]):\n",
    "#                 dont_add = True  # if exact combinatio in there, continue\n",
    "\n",
    "#         if dont_add:\n",
    "#             continue\n",
    "#         else:\n",
    "#             optimised_combinations.append(comb1)\n",
    "\n",
    "#     # then optimise\n",
    "#     optimised_combinations2 = []\n",
    "#     for i, (_, ri) in enumerate(optimised_combinations):\n",
    "#         same_ri_ois = []\n",
    "#         for j, (oi2, ri2) in enumerate(optimised_combinations):\n",
    "#             if np.all(ri == ri2):\n",
    "#                 same_ri_ois.append(oi2)\n",
    "\n",
    "#         # now decide which one to keep\n",
    "#         same_ri_ois2 = []\n",
    "#         for oi3 in same_ri_ois:\n",
    "#             isout = False\n",
    "#             for oi4 in same_ri_ois:\n",
    "#                 if np.all(oi3 <= oi4) and not np.all(oi3 == oi4):\n",
    "#                     # if this happens once, its out\n",
    "#                     isout = True\n",
    "#                     break\n",
    "#             if isout: break\n",
    "#             else:\n",
    "#                 same_ri_ois2.append(oi3)\n",
    "\n",
    "#         # we keep same_ri_ois2\n",
    "#         for oi in same_ri_ois2:\n",
    "#             optimised_combinations2.append((oi, ri))\n",
    "    \n",
    "#     return optimised_combinations2   \n",
    "          \n",
    "\n",
    "# # combinations = {((0,0,0,0), (1,0,0,0))}\n",
    "# combinations = [(np.array([0,0,0,0]), np.array([1,0,0,0]))]\n",
    "# RD = D[1]\n",
    "\n",
    "# T = 24\n",
    "# for t in range(T):\n",
    "#     # new_combinations = set()\n",
    "#     new_combinations = []\n",
    "#     print(f\"------ [Min {t+1}] -----\")\n",
    "#     print(len(combinations))\n",
    "#     for comb in combinations:\n",
    "#         ores, robots = comb\n",
    "#         # paths = get_possible_paths(RD, comb) | {comb}\n",
    "#         paths = get_possible_paths(RD, comb) + [comb]\n",
    "#         # real_paths = set()\n",
    "#         real_paths = []\n",
    "#         for o,r in paths:\n",
    "#             # no = tuple([x+y for x,y in zip(o, robots)])\n",
    "#             newo = o + robots\n",
    "#             # real_paths |= {(no,r)}\n",
    "#             real_paths += [(newo,r)]\n",
    "#         # new_combinations |= real_paths\n",
    "#         new_combinations += real_paths\n",
    "\n",
    "#     # print(f\"new_combinations {new_combinations}\")\n",
    "#     new_combinations = optimize(new_combinations)\n",
    "#     # print(f\"new_combinations after {new_combinations}\")\n",
    "        \n",
    "#     # print(\"OUTCOME\")\n",
    "#     # print(\"\\n\".join([f\"ores: {x}, robots: {y}\" for x,y in new_combinations]))\n",
    "#     combinations = new_combinations\n",
    "    \n",
    "\n",
    "# # combinations\n"
   ]
  },
  {
   "cell_type": "code",
   "execution_count": null,
   "metadata": {},
   "outputs": [],
   "source": [
    "\n",
    "\n",
    "    # if oi > M[0]\n",
    "\n",
    "\n",
    "\n",
    "    # ri_changes = \n",
    "\n",
    "\n",
    "\n",
    "    # ri_changes = [\n",
    "    #     []\n",
    "    # ]\n",
    "\n",
    "\n",
    "\n",
    "    # for i in [0,1]:\n",
    "    #     ri_change = [0,0,0,0]\n",
    "    #     oi_change = [0,0,0,0]\n",
    "    #     ore_count = oi[i]\n",
    "    #     ore_req = dic[i]\n",
    "    #     if ore_count >= ore_req:\n",
    "    #         ri_change[i] += 1\n",
    "    #         oi_change[i] -= ore_req\n",
    "    #         new_ri = tuple([ri[j] + ri_change[j] for j in range(4)])\n",
    "    #         new_oi = tuple([oi[j] + oi_change[j] for j in range(4)])\n",
    "    #         new_comb = (new_oi, new_ri)\n",
    "    #         pp |= {new_comb} | get_possible_paths(dic, new_comb)\n",
    "\n",
    "    # for i in [2,3]:\n",
    "    #     ri_change = [0,0,0,0]\n",
    "    #     oi_change = [0,0,0,0]\n",
    "    #     # different --\n",
    "    #     ore_count = (oi[0], oi[i])\n",
    "    #     ore_req = dic[i]\n",
    "    #     if ore_count[0] >= ore_req[0] and ore_count[1] >= ore_req[1]:\n",
    "    #         ri_change[i] += 1\n",
    "    #         oi_change[i] -= ore_req[1]\n",
    "    #         oi_change[0] -= ore_req[0]\n",
    "    #         # -- same from here on\n",
    "    #         new_ri = (ri[j] + ri_change[j] for j in range(4))\n",
    "    #         new_oi = (oi[j] + oi_change[j] for j in range(4))\n",
    "    #         new_comb = (new_oi, new_ri)\n",
    "    #         pp |= {new_comb} | get_possible_paths(dic, new_comb)\n",
    "    # return pp\n",
    "\n",
    "# for robot_dic in D:\n",
    "#     print(robot_dic)\n",
    "robot_dic = D[0]\n",
    "# robot_dic = {0:1, 1:1, 2:(1,1), 3:(1,1)}\n",
    "# while len(combinations) != 0:\n",
    "#     print(\"------------------\")\n",
    "#     print(combinations)\n",
    "#     i += 1\n",
    "#     comb = combinations.pop()\n",
    "#     new_comb = get_production_output(comb)\n",
    "#     # add the new comb (doing nothing) to the possible paths\n",
    "#     paths = {new_comb} | get_possible_paths(robot_dic, new_comb)\n",
    "#     mod_paths = {(oi,ri,tt-1) for oi,ri,tt in paths}\n",
    "#     combinations |= mod_paths\n",
    "#     if i == 10:\n",
    "#         print(\"break\")\n",
    "#         break\n"
   ]
  },
  {
   "cell_type": "code",
   "execution_count": null,
   "metadata": {},
   "outputs": [],
   "source": [
    "\n",
    "        # best_oi\n",
    "\n",
    "            \n",
    "        #         if np.all(oi >= oi2):\n",
    "        #             optimised_combinations2.append((oi, ri))\n",
    "        #         else: # they are uncomparably different\n",
    "        #             optimised_combinations2.append((oi, ri))\n",
    "\n",
    "\n",
    "\n",
    "\n",
    "\n",
    "        # else:\n",
    "        #     noc = []\n",
    "        #     add_to_oc = True\n",
    "        #     for j, (ooi, ori) in optimised_combinations:\n",
    "        #         if ri == ori:\n",
    "                    \n",
    "        #                 noc += [(oi, ri)]\n",
    "        #             else:\n",
    "        #                 noc += [(oi, ri), (ooi, ori)]\n",
    "                     "
   ]
  },
  {
   "cell_type": "code",
   "execution_count": 8,
   "metadata": {},
   "outputs": [],
   "source": [
    "# def remove_worst(oi_list):\n",
    "#     # remove those that are trumped in each index\n",
    "#     new_list = []\n",
    "#     for oi in oi_list:\n",
    "#         isout = False\n",
    "#         for oi2 in oi_list:\n",
    "#             # if oi is strictly worse than other ois\n",
    "#             if isworse(oi, oi2):\n",
    "#                 isout = True\n",
    "#                 break\n",
    "#         if not isout:\n",
    "#             new_list.append(oi)\n",
    "#     return new_list\n",
    "\n",
    "# def isworse(x, y):\n",
    "#     # if worse or equal in all categories and not the same (hence at least strictly worse in one of them)\n",
    "#     return x[0] <= y[0] and x[1] <= y[1] and x[2] <= y[2] and x[3] <= y[3] and x != y\n",
    "\n",
    "\n",
    "# def optimize(combinations):\n",
    "#     optimised_combinations = {ri:[] for _, ri in combinations}\n",
    "\n",
    "#     for oi,ri in combinations:\n",
    "#         optimised_combinations[ri].append(oi)\n",
    "\n",
    "#     optimised_combinations[ri] = remove_worst(optimised_combinations[ri])\n",
    "\n",
    "#     returnset = set()\n",
    "#     for ri, oi_list in optimised_combinations.items():\n",
    "#         returnset |= {(oi,ri) for oi in oi_list}\n",
    "\n",
    "#     return returnset"
   ]
  },
  {
   "cell_type": "code",
   "execution_count": 4,
   "metadata": {},
   "outputs": [
    {
     "name": "stdout",
     "output_type": "stream",
     "text": [
      "1\n",
      "------ [Min 1] ----- ==> 1\n",
      "------ [Min 2] ----- ==> 1\n",
      "------ [Min 3] ----- ==> 1\n",
      "------ [Min 4] ----- ==> 2\n",
      "------ [Min 5] ----- ==> 3\n",
      "------ [Min 6] ----- ==> 7\n",
      "------ [Min 7] ----- ==> 11\n",
      "------ [Min 8] ----- ==> 25\n",
      "------ [Min 9] ----- ==> 44\n",
      "------ [Min 10] ----- ==> 101\n",
      "------ [Min 11] ----- ==> 202\n",
      "------ [Min 12] ----- ==> 446\n",
      "------ [Min 13] ----- ==> 906\n",
      "------ [Min 14] ----- ==> 1877\n",
      "------ [Min 15] ----- ==> 3902\n",
      "------ [Min 16] ----- ==> 8316\n",
      "------ [Min 17] ----- ==> 18180\n",
      "------ [Min 18] ----- ==> 40433\n",
      "------ [Min 19] ----- ==> 89829\n",
      "------ [Min 20] ----- ==> 196130\n",
      "------ [Min 21] ----- ==> 2302\n",
      "------ [Min 22] ----- ==> 6823\n",
      "------ [Min 23] ----- ==> 21932\n",
      "------ [Min 24] ----- ==> 78195\n",
      "quality level:  9\n",
      "2\n",
      "------ [Min 1] ----- ==> 1\n",
      "------ [Min 2] ----- ==> 1\n",
      "------ [Min 3] ----- ==> 1\n",
      "------ [Min 4] ----- ==> 2\n",
      "------ [Min 5] ----- ==> 4\n",
      "------ [Min 6] ----- ==> 9\n",
      "------ [Min 7] ----- ==> 22\n",
      "------ [Min 8] ----- ==> 57\n",
      "------ [Min 9] ----- ==> 146\n",
      "------ [Min 10] ----- ==> 367\n",
      "------ [Min 11] ----- ==> 843\n",
      "------ [Min 12] ----- ==> 1839\n",
      "------ [Min 13] ----- ==> 4130\n",
      "------ [Min 14] ----- ==> 9676\n",
      "------ [Min 15] ----- ==> 23441\n",
      "------ [Min 16] ----- ==> 57115\n",
      "------ [Min 17] ----- ==> 136000\n",
      "------ [Min 18] ----- ==> 308332\n",
      "------ [Min 19] ----- ==> 663160\n",
      "------ [Min 20] ----- ==> 1394520\n"
     ]
    },
    {
     "ename": "",
     "evalue": "",
     "output_type": "error",
     "traceback": [
      "\u001b[1;31mCanceled future for execute_request message before replies were done"
     ]
    },
    {
     "ename": "",
     "evalue": "",
     "output_type": "error",
     "traceback": [
      "\u001b[1;31mThe Kernel crashed while executing code in the the current cell or a previous cell. Please review the code in the cell(s) to identify a possible cause of the failure. Click <a href='https://aka.ms/vscodeJupyterKernelCrash'>here</a> for more info. View Jupyter <a href='command:jupyter.viewOutput'>log</a> for further details."
     ]
    }
   ],
   "source": [
    "I = [s.split(\" \") for s in open(\"inputs22/19t\").read().split(\"\\n\")]\n",
    "D = {}\n",
    "for r in I:\n",
    "    arr = np.zeros((4,4), dtype=int)\n",
    "    arr[0,0] = int(r[6])\n",
    "    arr[1,0] = int(r[12])\n",
    "    arr[2,0] = int(r[18])\n",
    "    arr[2,1] = int(r[21])\n",
    "    arr[3,0] = int(r[27])\n",
    "    arr[3,2] = int(r[30])\n",
    "    D[int(r[1].split(\":\")[0])] = arr\n",
    "\n",
    "def optim(paths, N):\n",
    "    new_paths = set()\n",
    "    for comb in paths:\n",
    "        (*_, geodes), _ = comb\n",
    "        if geodes >= N:\n",
    "            new_paths.add(comb)\n",
    "    return new_paths\n",
    "\n",
    "\n",
    "def get_possible_paths(M, combination):\n",
    "    oi, ri = combination\n",
    "    pp = set()\n",
    "    for i in range(4):\n",
    "        if oi[0] >= M[i,0] and oi[1] >= M[i,1] and oi[2] >= M[i,2] and oi[3] >= M[i,3]:\n",
    "            new_oi = (oi[0] - M[i,0], oi[1] - M[i,1], oi[2] - M[i,2], oi[3] - M[i,3])\n",
    "            new_ri = tuple([x+1 if j == i else x for j,x in enumerate(ri)])\n",
    "            new_comb = (new_oi, new_ri)\n",
    "            pp.add(new_comb) #| get_possible_paths(M, new_comb)\n",
    "    return pp\n",
    "\n",
    "RD = D[1]\n",
    "\n",
    "total = 0\n",
    "\n",
    "T = 24\n",
    "for id, RD in D.items():\n",
    "    print(id)\n",
    "    combinations = {((0,0,0,0), (1,0,0,0))}\n",
    "    for t in range(T):\n",
    "        new_combinations = set()\n",
    "        print(f\"------ [Min {t+1}] -----\", end=\" ==> \")\n",
    "        print(len(combinations))\n",
    "        for comb in combinations:\n",
    "            ores, robots = comb\n",
    "            paths = get_possible_paths(RD, comb) | {comb}\n",
    "            real_paths = set()\n",
    "            for o,r in paths:\n",
    "                no = tuple([x+y for x,y in zip(o, robots)])\n",
    "                real_paths |= {(no,r)}\n",
    "            new_combinations |= real_paths\n",
    "        if t >= 19:\n",
    "            new_combinations = optim(new_combinations, 1)\n",
    "        combinations = new_combinations\n",
    "    maxgeodes = 0\n",
    "    for (_,_,_,geodes), _ in combinations:\n",
    "        maxgeodes = max(maxgeodes, geodes)\n",
    "    print(\"quality level: \", id * maxgeodes)\n",
    "    total += id * maxgeodes\n",
    "    \n",
    "\n",
    "# combinations\n"
   ]
  },
  {
   "cell_type": "code",
   "execution_count": null,
   "metadata": {},
   "outputs": [],
   "source": [
    "total"
   ]
  },
  {
   "attachments": {},
   "cell_type": "markdown",
   "metadata": {},
   "source": [
    "# 20"
   ]
  },
  {
   "cell_type": "code",
   "execution_count": 25,
   "metadata": {},
   "outputs": [
    {
     "name": "stdout",
     "output_type": "stream",
     "text": [
      "IN [1, 2, -3, 3, -2, 0, 4]\n",
      "OUT [-2, 1, 2, -3, 4, 0, 3]\n",
      "3\n"
     ]
    }
   ],
   "source": [
    "l = [[int(i),j] for j,i in enumerate(open(\"inputs22/20t\").read().split(\"\\n\"))]\n",
    "\n",
    "key = 811589153\n",
    "\n",
    "init = copy.copy(l)\n",
    "print(f\"IN {[x for x, _ in l]}\")\n",
    "n = len(l)\n",
    "\n",
    "for item in init:\n",
    "    value, _ = item\n",
    "    current_pos = l.index(item)\n",
    "    new_pos = (current_pos + value) % (n-1)\n",
    "    val = l.pop(current_pos)\n",
    "    l.insert(new_pos, val)\n",
    "\n",
    "print(f\"OUT {[x for x, _ in l]}\")\n",
    "\n",
    "for i, (v,_) in enumerate(l):\n",
    "    if v == 0:\n",
    "        break\n",
    "\n",
    "print(l[(i+1000)%n][0] + l[(i+2000)%n][0] + l[(i+3000)%n][0])"
   ]
  },
  {
   "cell_type": "code",
   "execution_count": 32,
   "metadata": {},
   "outputs": [
    {
     "name": "stdout",
     "output_type": "stream",
     "text": [
      "3338877775442\n"
     ]
    }
   ],
   "source": [
    "# part 2\n",
    "\n",
    "key = 811589153\n",
    "l = [[int(i)*key,j] for j,i in enumerate(open(\"inputs22/20\").read().split(\"\\n\"))]\n",
    "\n",
    "\n",
    "init = copy.copy(l)\n",
    "\n",
    "# print(f\"IN {[x for x, _ in l]}\")\n",
    "n = len(l)\n",
    "\n",
    "for round in range(10):\n",
    "    for item in init:\n",
    "        value, _ = item\n",
    "        current_pos = l.index(item)\n",
    "        new_pos = (current_pos + value) % (n-1)\n",
    "        val = l.pop(current_pos)\n",
    "        l.insert(new_pos, val)\n",
    "\n",
    "    # print(f\"OUT {[x for x, _ in l]}\")\n",
    "\n",
    "for i, (v,_) in enumerate(l):\n",
    "    if v == 0:\n",
    "        break\n",
    "\n",
    "print(l[(i+1000)%n][0] + l[(i+2000)%n][0] + l[(i+3000)%n][0])"
   ]
  },
  {
   "attachments": {},
   "cell_type": "markdown",
   "metadata": {},
   "source": [
    "# 21"
   ]
  },
  {
   "cell_type": "code",
   "execution_count": 13,
   "metadata": {},
   "outputs": [
    {
     "data": {
      "text/plain": [
       "70674280581468.0"
      ]
     },
     "execution_count": 13,
     "metadata": {},
     "output_type": "execute_result"
    }
   ],
   "source": [
    "monkeys = open(\"inputs22/21t\").read().split(\"\\n\")\n",
    "M = []\n",
    "D = {}\n",
    "for m in monkeys:\n",
    "    name, op = m.split(\": \")\n",
    "    \n",
    "    ops = op.split(\" \")\n",
    "    if len(ops) == 1:\n",
    "        D[name] = int(ops[0])\n",
    "    else:\n",
    "        match ops[1]:\n",
    "            case \"+\": f = lambda a, b: a + b\n",
    "            case \"-\": f = lambda a, b: a - b\n",
    "            case \"*\": f = lambda a, b: a * b\n",
    "            case \"/\": f = lambda a, b: a / b\n",
    "        M.append((name, ops[0], ops[2], f))\n",
    "\n",
    "while M:\n",
    "    m = M.pop(0)\n",
    "    name, m1, m2, mf = m\n",
    "    if m1 in D:\n",
    "        if m2 in D:\n",
    "            D[name] = mf(D[m1],D[m2])\n",
    "            continue\n",
    "    M.append(m)\n",
    "\n",
    "D[\"root\"]\n",
    "\n",
    "\n"
   ]
  },
  {
   "cell_type": "code",
   "execution_count": 31,
   "metadata": {},
   "outputs": [],
   "source": []
  },
  {
   "cell_type": "code",
   "execution_count": 60,
   "metadata": {},
   "outputs": [
    {
     "data": {
      "text/plain": [
       "[3243420789721.00]"
      ]
     },
     "execution_count": 60,
     "metadata": {},
     "output_type": "execute_result"
    }
   ],
   "source": [
    "import sympy\n",
    "\n",
    "x = sympy.Symbol(\"x\")\n",
    "\n",
    "monkeys = open(\"inputs22/21\").read().split(\"\\n\")\n",
    "M = []\n",
    "D = {}\n",
    "for m in monkeys:\n",
    "    name, op = m.split(\": \")\n",
    "    ops = op.split(\" \")\n",
    "\n",
    "    if len(ops) == 1:\n",
    "        num = int(ops[0])\n",
    "\n",
    "    match name:\n",
    "        case \"root\":\n",
    "            ops[1] = \"==\"\n",
    "        case \"humn\":\n",
    "            num = x\n",
    "    \n",
    "    if len(ops) == 1:\n",
    "        D[name] = num\n",
    "    else:\n",
    "        match ops[1]:\n",
    "            case \"+\": f = lambda a, b: a + b\n",
    "            case \"-\": f = lambda a, b: a - b\n",
    "            case \"*\": f = lambda a, b: a * b\n",
    "            case \"/\": f = lambda a, b: a / b  # needs to be float div\n",
    "            case \"==\": f = lambda a, b: a == b\n",
    "        M.append((name, ops[0], ops[2], f))\n",
    "\n",
    "while len(M) > 1:\n",
    "    m = M.pop(0)\n",
    "    if m[0] == \"root\": M.append(m); continue\n",
    "    name, m1, m2, mf = m\n",
    "    if m1 in D:\n",
    "        if m2 in D:\n",
    "            D[name] = mf(D[m1],D[m2])\n",
    "            continue\n",
    "    M.append(m)\n",
    "\n",
    "name, m1, m2, _ = M[0]\n",
    "\n",
    "\n",
    "sympy.solve(D[m1] - D[m2], x)"
   ]
  },
  {
   "cell_type": "code",
   "execution_count": 86,
   "metadata": {},
   "outputs": [
    {
     "name": "stdout",
     "output_type": "stream",
     "text": [
      "150\n",
      "(202, 152) 200 150\n",
      "189140\n"
     ]
    }
   ],
   "source": [
    "A = open(\"inputs22/22\").read().split(\"\\n\")\n",
    "*L, _, s = A\n",
    "\n",
    "maxlen = 0\n",
    "for l in L:\n",
    "    maxlen = max(maxlen, len(l))\n",
    "\n",
    "print(maxlen)\n",
    "for i,l in enumerate(L):\n",
    "    # print(len(l))\n",
    "    while len(l) != maxlen:\n",
    "        l = l + \" \"\n",
    "    L[i] = l\n",
    "\n",
    "M = np.zeros((len(L)+2, maxlen+2))\n",
    "print(M.shape, len(L), len(L[70]))\n",
    "for i, l in enumerate(L):\n",
    "    for j, item in enumerate(l):\n",
    "        ii = i + 1\n",
    "        jj = j + 1\n",
    "        match item:\n",
    "            case \" \": filler = 0\n",
    "            case \".\": filler = 1\n",
    "            case \"#\": filler = 2\n",
    "        M[ii,jj] = filler\n",
    "\n",
    "def printM(A, pos):\n",
    "    for i, line in enumerate(M):\n",
    "        for j, it in enumerate(line):\n",
    "            if i == pos[0] and j == pos[1]:\n",
    "                    # print(\"X\", end=\"\")\n",
    "                    continue\n",
    "            match it:\n",
    "                case 0: print(\".\", end=\"\")\n",
    "                case 1: print(\"░\", end=\"\")\n",
    "                case 2: print(\"█\", end=\"\")\n",
    "        print()\n",
    "\n",
    "def move(M, direction, steps, pos, cubemap={}):\n",
    "    prev_pos = pos.copy()\n",
    "    for step in range(steps):\n",
    "        new_pos = prev_pos + direction\n",
    "        while True:\n",
    "            if new_pos[0] >= M.shape[0]: new_pos[0] = 0\n",
    "            if new_pos[1] >= M.shape[1]: new_pos[1] = 0\n",
    "            if new_pos[0] < 0: new_pos[0] = M.shape[0] - 1\n",
    "            if new_pos[1] < 0: new_pos[1] = M.shape[1] - 1\n",
    "            match M[tuple(new_pos)]:\n",
    "                case 0:  # in limbo\n",
    "                    new_pos += direction\n",
    "                    continue\n",
    "                case 1:  # safe position\n",
    "                    prev_pos = new_pos\n",
    "                    break\n",
    "                case 2:  # need to go back\n",
    "                    prev_pos = prev_pos\n",
    "                    break\n",
    "    # the real new pos is the prev pos\n",
    "    return prev_pos\n",
    "\n",
    "def get_direction(current, turn):\n",
    "    match tuple(current), turn:\n",
    "        case [0, 1], \"R\": return np.array([ 1,0])\n",
    "        case [0, 1], \"L\": return np.array([-1,0])\n",
    "        case [0,-1], \"R\": return np.array([-1,0])\n",
    "        case [0,-1], \"L\": return np.array([ 1,0])\n",
    "        case [1, 0], \"R\": return np.array([0,-1])\n",
    "        case [1, 0], \"L\": return np.array([0, 1])\n",
    "        case [-1,0], \"R\": return np.array([0, 1])\n",
    "        case [-1,0], \"L\": return np.array([0,-1])\n",
    "\n",
    "try:\n",
    "    for i in range(M.shape[0]):\n",
    "        for j in range(M.shape[1]):\n",
    "            if M[i,j] == 1:\n",
    "                start_pos = np.array([i,j])\n",
    "                1/0\n",
    "except:\n",
    "    pass\n",
    "# print(start_pos)\n",
    "\n",
    "l = list(s)\n",
    "nl = [\"\"]\n",
    "while l:\n",
    "    nxt = l.pop(0)\n",
    "    if nxt in [\"R\", \"L\"]:\n",
    "        nl += [nxt, \"\"]\n",
    "    else:\n",
    "        nl[-1] += nxt\n",
    "nnl = []\n",
    "for x in nl:\n",
    "    try:\n",
    "        nnl.append(int(x))\n",
    "    except:\n",
    "        nnl.append(x)\n",
    "# print(nnl)\n",
    "\n",
    "# printM(M, start_pos)\n",
    "# print(\"----\")\n",
    "\n",
    "dire = np.array([0,1])\n",
    "pos = start_pos.copy()\n",
    "\n",
    "for op in nnl:\n",
    "    match op:\n",
    "        case \"R\" | \"L\":\n",
    "            dire = get_direction(dire, op)\n",
    "        case num:\n",
    "            pos = move(M, dire, num, pos)\n",
    "    # print(op)\n",
    "    # printM(M, pos)\n",
    "    # print(\"\\n\\n\")\n",
    "    \n",
    "row, col = pos\n",
    "match tuple(dire):\n",
    "    case (0,1): facing = 0\n",
    "    case (1,0): facing = 1\n",
    "    case (0,-1): facing = 2\n",
    "    case (-1,0): facing = 3\n",
    "\n",
    "print(sum((1000*row, 4*col, facing)))\n"
   ]
  },
  {
   "cell_type": "code",
   "execution_count": 193,
   "metadata": {},
   "outputs": [
    {
     "name": "stdout",
     "output_type": "stream",
     "text": [
      "end: (5, 6)\n",
      "18\n"
     ]
    }
   ],
   "source": [
    "def next_state(N):\n",
    "    N[0, 1:-1, 1:-1] = np.roll(N[0, 1:-1, 1:-1],  1, axis=1)  # right\n",
    "    N[1, 1:-1, 1:-1] = np.roll(N[1, 1:-1, 1:-1],  1, axis=0)  # down\n",
    "    N[2, 1:-1, 1:-1] = np.roll(N[2, 1:-1, 1:-1], -1, axis=1)  # left\n",
    "    N[3, 1:-1, 1:-1] = np.roll(N[3, 1:-1, 1:-1], -1, axis=0)  # up\n",
    "    return N\n",
    "\n",
    "def get_possible_paths(pos,N):\n",
    "    i,j = pos\n",
    "    ps = set()\n",
    "    if N[:, i,   j].max() == 0: ps.add((i,j))\n",
    "    if N[:, i+1, j].max() == 0: ps.add((i+1,j))\n",
    "    if N[:, i-1, j].max() == 0: ps.add((i-1,j))\n",
    "    if N[:, i, j+1].max() == 0: ps.add((i,j+1))\n",
    "    if N[:, i, j-1].max() == 0: ps.add((i,j-1))\n",
    "    return ps\n",
    "\n",
    "L = open(\"inputs22/24t\").read().split(\"\\n\")\n",
    "M = np.zeros((4, len(L), len(L[0]))).astype(int)\n",
    "for i, l in enumerate(L):\n",
    "    for j, itm in enumerate(l):\n",
    "        fw = 0\n",
    "        match itm:\n",
    "            case \"#\": M[:,i,j] = 1\n",
    "            case \">\": M[0,i,j] = 1\n",
    "            case \"v\": M[1,i,j] = 1\n",
    "            case \"<\": M[2,i,j] = 1\n",
    "            case \"^\": M[3,i,j] = 1\n",
    "\n",
    "start = (0,1)\n",
    "# end = (2,1)\n",
    "end = (M.shape[1]-1, M.shape[2]-2)\n",
    "print(f\"end: {end}\")\n",
    "P = {start}\n",
    "print\n",
    "\n",
    "# while True:\n",
    "for i in range(10000):\n",
    "    # print(f\"{i}: {P}\")\n",
    "    Pnew = set()\n",
    "    for (pi,pj) in P:\n",
    "        if M[:, pi, pj].max() == 0:\n",
    "            Pnew.add((pi,pj))\n",
    "    P = Pnew\n",
    "    nP = set()\n",
    "\n",
    "    M2 = next_state(M)\n",
    "    \n",
    "    D = M2.copy()\n",
    "    # plt.imshow(D.max(axis=0)); plt.show()\n",
    "\n",
    "    for p in P:\n",
    "        # print(f\"in {p}\")\n",
    "        nnP = get_possible_paths(p, M2)\n",
    "        # print(f\"possible moves {nnP}\")\n",
    "        nP |= nnP\n",
    "    if end in nP:\n",
    "        P = nP\n",
    "        M = M2\n",
    "        break\n",
    "    else:\n",
    "        P = nP\n",
    "        M = M2\n",
    "\n",
    "to_end_1 = i+1\n",
    "print(to_end_1)"
   ]
  },
  {
   "cell_type": "code",
   "execution_count": 115,
   "metadata": {},
   "outputs": [
    {
     "data": {
      "text/plain": [
       "<matplotlib.image.AxesImage at 0x14ef7ae60>"
      ]
     },
     "execution_count": 115,
     "metadata": {},
     "output_type": "execute_result"
    },
    {
     "data": {
      "image/png": "[encoded data removed]",
      "text/plain": [
       "<Figure size 640x480 with 1 Axes>"
      ]
     },
     "metadata": {},
     "output_type": "display_data"
    }
   ],
   "source": [
    "\n",
    "\n",
    "\n"
   ]
  },
  {
   "cell_type": "code",
   "execution_count": null,
   "metadata": {},
   "outputs": [],
   "source": []
  }
 ],
 "metadata": {
  "kernelspec": {
   "display_name": "Python 3",
   "language": "python",
   "name": "python3"
  },
  "language_info": {
   "codemirror_mode": {
    "name": "ipython",
    "version": 3
   },
   "file_extension": ".py",
   "mimetype": "text/x-python",
   "name": "python",
   "nbconvert_exporter": "python",
   "pygments_lexer": "ipython3",
   "version": "3.10.9"
  },
  "orig_nbformat": 4,
  "vscode": {
   "interpreter": {
    "hash": "aee8b7b246df8f9039afb4144a1f6fd8d2ca17a180786b69acc140d282b71a49"
   }
  }
 },
 "nbformat": 4,
 "nbformat_minor": 2
}
