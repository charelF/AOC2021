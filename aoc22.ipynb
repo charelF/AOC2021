{
 "cells": [
  {
   "cell_type": "markdown",
   "metadata": {},
   "source": [
    "# **Advent of Code 2022**"
   ]
  },
  {
   "cell_type": "code",
   "execution_count": 1,
   "metadata": {},
   "outputs": [
    {
     "ename": "",
     "evalue": "",
     "output_type": "error",
     "traceback": [
      "\u001b[1;31mJupyter cannot be started. Error attempting to locate Jupyter: Running cells with 'Python 3.10.9 64-bit' requires notebook and jupyter package.\n",
      "\u001b[1;31mRun the following command to install 'jupyter and notebook' into the Python environment. \n",
      "\u001b[1;31mCommand: 'python -m pip install jupyter notebook -U\n",
      "\u001b[1;31mor\n",
      "\u001b[1;31mconda install jupyter notebook -U'\n",
      "\u001b[1;31mClick <a href='https://aka.ms/installJupyterForVSCode'>here</a> for more info."
     ]
    }
   ],
   "source": [
    "from __future__ import annotations\n",
    "import numpy as np\n",
    "import pandas as pd\n",
    "from functools import reduce\n",
    "import copy\n",
    "from dataclasses import dataclass, field\n",
    "\n",
    "import warnings\n",
    "warnings.filterwarnings(\"ignore\")"
   ]
  },
  {
   "cell_type": "markdown",
   "metadata": {},
   "source": [
    "## **1. Advent**"
   ]
  },
  {
   "cell_type": "code",
   "execution_count": 2,
   "metadata": {},
   "outputs": [
    {
     "name": "stdout",
     "output_type": "stream",
     "text": [
      "Task 1: 69795, Task 2: 208437\n"
     ]
    }
   ],
   "source": [
    "l = [i.split(\"\\n\") for i in open(\"inputs22/1\").read().split(\"\\n\\n\")]\n",
    "s = [sum([int(i) for i in sl]) for sl in l]\n",
    "print(f\"Task 1: {max(s)}, Task 2: {sum(sorted(s)[-3:])}\")"
   ]
  },
  {
   "cell_type": "markdown",
   "metadata": {},
   "source": [
    "## **2. Advent**"
   ]
  },
  {
   "cell_type": "code",
   "execution_count": 3,
   "metadata": {},
   "outputs": [
    {
     "name": "stdout",
     "output_type": "stream",
     "text": [
      "Task 1: 8392, Task 2: 10116\n"
     ]
    }
   ],
   "source": [
    "df = pd.read_csv(\"inputs22/2\", header=None, sep=\" \")\n",
    "t = lambda i: df.apply(lambda row: f(row[0], row[1])[i], axis=1).sum()\n",
    "def f(opp, you):\n",
    "    match (opp, you):\n",
    "        case (\"A\", \"X\"): return (3 + 1), (0 + 3)\n",
    "        case (\"B\", \"X\"): return (0 + 1), (0 + 1)\n",
    "        case (\"C\", \"X\"): return (6 + 1), (0 + 2)\n",
    "        case (\"A\", \"Y\"): return (6 + 2), (3 + 1)\n",
    "        case (\"B\", \"Y\"): return (3 + 2), (3 + 2)\n",
    "        case (\"C\", \"Y\"): return (0 + 2), (3 + 3)\n",
    "        case (\"A\", \"Z\"): return (0 + 3), (6 + 2)\n",
    "        case (\"B\", \"Z\"): return (6 + 3), (6 + 3)\n",
    "        case (\"C\", \"Z\"): return (3 + 3), (6 + 1)\n",
    "print(f\"Task 1: {t(0)}, Task 2: {t(1)}\")"
   ]
  },
  {
   "cell_type": "markdown",
   "metadata": {},
   "source": [
    "## **3. Advent**"
   ]
  },
  {
   "cell_type": "code",
   "execution_count": 4,
   "metadata": {},
   "outputs": [
    {
     "name": "stdout",
     "output_type": "stream",
     "text": [
      "Task 1: 8123, Task 2: 2620\n"
     ]
    }
   ],
   "source": [
    "l = open(\"inputs22/3\").read().split(\"\\n\")\n",
    "t = [(s[:len(s)//2], s[len(s)//2:]) for s in l]\n",
    "t2 = [l[i:i+3] for i in range(0, len(l), 3)]\n",
    "scorer = lambda s: [ord(x) - (96 if x.islower() else 38) for x in s]\n",
    "intersector = lambda t: [set.intersection(*[set(i) for i in p]).pop() for p in t]\n",
    "f = lambda t: sum(scorer(intersector(t)))\n",
    "print(f\"Task 1: {f(t)}, Task 2: {f(t2)}\")"
   ]
  },
  {
   "cell_type": "markdown",
   "metadata": {},
   "source": [
    "## **4. Advent**"
   ]
  },
  {
   "cell_type": "code",
   "execution_count": 5,
   "metadata": {},
   "outputs": [
    {
     "name": "stdout",
     "output_type": "stream",
     "text": [
      "Task 1: 466, Task 2: 865\n"
     ]
    }
   ],
   "source": [
    "l = [[[int(k) for k in j.split(\"-\")] for j in i.split(\",\")] for i in open(\"inputs22/4\").read().split(\"\\n\")]\n",
    "splitter = lambda p: (set(range(p[0][0], p[0][1]+1)), set(range(p[1][0], p[1][1]+1)))\n",
    "f1 = lambda s1, s2: s1.issubset(s2) or s2.issubset(s1)\n",
    "f2 = lambda s1, s2: (s1 & s2) != set()\n",
    "r = lambda f: reduce(lambda b, p: f(*splitter(p)) + b, l, 0)\n",
    "print(f\"Task 1: {r(f1)}, Task 2: {r(f2)}\")"
   ]
  },
  {
   "cell_type": "markdown",
   "metadata": {},
   "source": [
    "## **5. Advent**"
   ]
  },
  {
   "cell_type": "code",
   "execution_count": 6,
   "metadata": {},
   "outputs": [
    {
     "name": "stdout",
     "output_type": "stream",
     "text": [
      "Task 1: LBLVVTVLP, Task 2: TPFFBDRJD\n"
     ]
    }
   ],
   "source": [
    "crates_s, insts_s = open(\"inputs22/5\").read().split(\"\\n\\n\")\n",
    "\n",
    "N = int(crates_s.split(\" \")[-2])\n",
    "C = [[] for _ in range(N)]\n",
    "for line in crates_s.split(\"\\n\")[:-1]:\n",
    "    for i, ci in enumerate(range(1, 4*N, 4)):\n",
    "        c = line[ci]\n",
    "        if c != \" \": C[i].insert(0, c)\n",
    "\n",
    "l = [i.split(\" \") for i in insts_s.split(\"\\n\")]\n",
    "I = [[int(sl[i]) for i in [1,3,5]] for sl in l]\n",
    "\n",
    "split = lambda l, i: (l[:i], l[i:])\n",
    "\n",
    "def mover(C, inst, mn):\n",
    "    num_crates, orig, dest = inst[0], inst[1]-1, inst[2]-1\n",
    "    C[orig], c = split(C[orig], -num_crates)\n",
    "    C[dest] += reversed(c) if mn == 9000 else c\n",
    "    return C\n",
    "\n",
    "mover_reduce = lambda mn: reduce(lambda c, inst: mover(c, inst, mn), I, copy.deepcopy(C))\n",
    "f = lambda mn: \"\".join([c[-1] for c in mover_reduce(mn)])\n",
    "print(f\"Task 1: {f(9000)}, Task 2: {f(9001)}\")"
   ]
  },
  {
   "cell_type": "markdown",
   "metadata": {},
   "source": [
    "## **6. Advent**"
   ]
  },
  {
   "cell_type": "code",
   "execution_count": 7,
   "metadata": {},
   "outputs": [
    {
     "name": "stdout",
     "output_type": "stream",
     "text": [
      "Task 1: 1198, Task 2: 3120\n"
     ]
    }
   ],
   "source": [
    "s = open(\"inputs22/6\").read()\n",
    "f = lambda n: [i+n for i in range(len(s)-n) if len(set(s[i:i+n])) == n][0]\n",
    "print(f\"Task 1: {f(4)}, Task 2: {f(14)}\")"
   ]
  },
  {
   "cell_type": "code",
   "execution_count": 8,
   "metadata": {},
   "outputs": [
    {
     "name": "stdout",
     "output_type": "stream",
     "text": [
      "===============\n",
      "===============\n",
      "===============\n",
      "===============\n",
      "===============\n",
      "===============\n",
      "===============\n",
      "===============\n",
      "===============\n",
      "===============\n"
     ]
    },
    {
     "data": {
      "text/plain": [
       "0"
      ]
     },
     "execution_count": 8,
     "metadata": {},
     "output_type": "execute_result"
    }
   ],
   "source": [
    "s = open(\"inputs22/7t\").read().split(\"$ \")\n",
    "ss = [i.split(\"\\n\") for i in s]\n",
    "ss[-1].append(\"hack\")\n",
    "sss = [j[:-1] for j in ss[1:]]\n",
    "\n",
    "class Node:\n",
    "    parent: 'Dir' | None\n",
    "    name: str\n",
    "    level: int\n",
    "\n",
    "    def __init__(self, parent, name, level):\n",
    "        self.parent = parent\n",
    "        self.name = name\n",
    "        self.level = level\n",
    "\n",
    "class File(Node):\n",
    "    size: int\n",
    "\n",
    "    def __init__(self, parent, name, size, level):\n",
    "        self.size = size\n",
    "        super().__init__(parent, name, level)\n",
    "\n",
    "    def __repr__(self):\n",
    "        return f\"{self.name} (file, size={self.size})\"\n",
    "\n",
    "class Dir(Node):\n",
    "    children: dict[str, Node]\n",
    "    def __init__(self, parent, name, children, level):\n",
    "        self.children = children\n",
    "        super().__init__(parent, name, level)\n",
    "\n",
    "    def add_dir(self, Dir):\n",
    "        if Dir.name not in self.children:\n",
    "            self.children[Dir.name] = Dir\n",
    "\n",
    "    def add_file(self, File):\n",
    "        if File.name not in self.children:\n",
    "            self.children[File.name] = File\n",
    "\n",
    "    def get_subdir(self, name):\n",
    "        if name in self.children:\n",
    "            return self.children[name]\n",
    "        else:\n",
    "            print(\"does this happen?\")\n",
    "\n",
    "    def get_size(self):\n",
    "        total = 0\n",
    "        for c in self.children:\n",
    "            if isinstance(c, File): total += File.size\n",
    "            if isinstance(c, Dir): total += Dir.get_size()\n",
    "        return total\n",
    "\n",
    "    def __repr__(self):\n",
    "        string = f\"{self.name} (dir)\"\n",
    "        for c in self.children:\n",
    "            string += \"\\n- \" + \" \" * (self.level)\n",
    "            string += c.__repr__()\n",
    "        return string\n",
    "        \n",
    "\n",
    "ROOT = Dir(name='', parent=None, level=0, children={})\n",
    "FS = ROOT\n",
    "\n",
    "for i, line in enumerate(sss):\n",
    "    comargs, *outs = line\n",
    "    com, *args = comargs.split(\" \")\n",
    "    match com:\n",
    "        case \"cd\":\n",
    "            match args[0]:\n",
    "                case \"..\": FS = FS.parent\n",
    "                case \"/\": FS = ROOT\n",
    "                case x: FS = FS.get_subdir(x)\n",
    "\n",
    "        case \"ls\":\n",
    "            for out in outs:\n",
    "                match out.split(\" \"):\n",
    "                    case (\"dir\", name):\n",
    "                        nd = Dir(name=name, parent=FS, level=FS.level+1, children={})\n",
    "                        # print(\"123\", nd.children)\n",
    "                        FS.add_dir(nd)\n",
    "                        # print(\"456\", FS.children[nd.name].children)\n",
    "\n",
    "                    case (size, name):\n",
    "                        FS.add_dir(File(name=name, size=size, parent=FS, level=FS.level+1))\n",
    "\n",
    "\n",
    "ROOT.get_size()"
   ]
  },
  {
   "cell_type": "code",
   "execution_count": null,
   "metadata": {},
   "outputs": [],
   "source": []
  },
  {
   "cell_type": "code",
   "execution_count": 9,
   "metadata": {},
   "outputs": [
    {
     "data": {
      "text/plain": [
       "['123', '']"
      ]
     },
     "execution_count": 9,
     "metadata": {},
     "output_type": "execute_result"
    }
   ],
   "source": [
    "\"123/\".split(\"/\")"
   ]
  },
  {
   "cell_type": "code",
   "execution_count": 10,
   "metadata": {},
   "outputs": [
    {
     "data": {
      "text/plain": [
       "array([<l.H: 1>, <l.H: 1>, <l.H: 1>, <l.H: 1>, <l.H: 1>, <l.T: 2>,\n",
       "       <l.H: 1>, <l.H: 1>, <l.T: 2>, <l.H: 1>], dtype=object)"
      ]
     },
     "execution_count": 10,
     "metadata": {},
     "output_type": "execute_result"
    }
   ],
   "source": [
    "from enum import Enum\n",
    "\n",
    "\n",
    "class l(Enum):\n",
    "    H = 1\n",
    "    T = 2\n",
    "    HT = 3\n",
    "\n",
    "l.H\n",
    "l.T\n",
    "\n",
    "import numpy as np\n",
    "\n",
    "np.random.choice([l.H, l.T], size=10)"
   ]
  },
  {
   "cell_type": "code",
   "execution_count": 11,
   "metadata": {},
   "outputs": [],
   "source": [
    "# s = [i.split(\" \") for i in open(\"inputs22/8t\").read().split(\"\\n\")]\n",
    "# ss = [[x, int(y)] for x, y in s]\n",
    "\n",
    "# G = np.zeros((1000,1000,3), dtype=bool)\n",
    "\n",
    "# # G[500,500] = 1\n",
    "# # i, j = \n",
    "# Hi, Hj = 0,0\n",
    "# Ti, Tj = 0,0\n",
    "\n",
    "# def compute_consequence(H, T):\n",
    "    \n",
    "\n",
    "\n",
    "# for step in ss:\n",
    "#     match step:\n",
    "#         case \"R\", i:\n",
    "#             Hj += 1\n",
    "\n"
   ]
  },
  {
   "cell_type": "code",
   "execution_count": 12,
   "metadata": {},
   "outputs": [
    {
     "name": "stdout",
     "output_type": "stream",
     "text": [
      "138\n",
      "138\n",
      "[17, 17, 7, 21, 21, 17]\n",
      "12520\n"
     ]
    }
   ],
   "source": [
    "I = [i.split(\" \") for i in open(\"inputs22/9\").read().split(\"\\n\")]\n",
    "\n",
    "X = 1\n",
    "c = 0\n",
    "C = [X]\n",
    "\n",
    "print(len(I))\n",
    "print(len(I) )\n",
    "\n",
    "\n",
    "for inst in I:\n",
    "    match inst:\n",
    "        case [\"noop\"]:\n",
    "            C += [X]\n",
    "        case \"addx\", i:\n",
    "            C += [X]\n",
    "            C += [X]\n",
    "            X += int(i)\n",
    "        case _: print(\"problem\")\n",
    "C += [X]\n",
    "\n",
    "# print(len(C))\n",
    "# print(C[20], C[:20])\n",
    "l = [C[20], C[60], C[100], C[140], C[180], C[220]]\n",
    "print(l)\n",
    "l = [C[20]*20, C[60]*60, C[100]*100, C[140]*140, C[180]*180, C[220]*220]\n",
    "\n",
    "# C[219:]\n",
    "print(sum(l))"
   ]
  },
  {
   "cell_type": "code",
   "execution_count": 26,
   "metadata": {},
   "outputs": [
    {
     "name": "stdout",
     "output_type": "stream",
     "text": [
      "████ █  █ ███  ████ ███    ██  ██  █    \n",
      "█    █  █ █  █    █ █  █    █ █  █ █    \n",
      "███  ████ █  █   █  █  █    █ █    █    \n",
      "█    █  █ ███   █   ███     █ █ ██ █    \n",
      "█    █  █ █    █    █    █  █ █  █ █    \n",
      "████ █  █ █    ████ █     ██   ███ ████ \n"
     ]
    }
   ],
   "source": [
    "A = np.array(C[1:-1]).reshape(-1, 40)\n",
    "IDX = np.vstack(list(np.arange(40))*6).reshape(-1,40)\n",
    "\n",
    "R = np.abs(A - IDX) <= 1\n",
    "\n",
    "for row in R:\n",
    "    for el in row:\n",
    "        if el: \n",
    "            print(\"█\", end=\"\")\n",
    "        else:\n",
    "            print(\" \", end=\"\")\n",
    "    print()\n",
    "\n",
    "\n"
   ]
  },
  {
   "cell_type": "code",
   "execution_count": null,
   "metadata": {},
   "outputs": [],
   "source": []
  }
 ],
 "metadata": {
  "kernelspec": {
   "display_name": "Python 3",
   "language": "python",
   "name": "python3"
  },
  "language_info": {
   "codemirror_mode": {
    "name": "ipython",
    "version": 3
   },
   "file_extension": ".py",
   "mimetype": "text/x-python",
   "name": "python",
   "nbconvert_exporter": "python",
   "pygments_lexer": "ipython3",
   "version": "3.10.4 (main, Nov 29 2022, 20:00:25) [GCC 9.4.0]"
  },
  "orig_nbformat": 4,
  "vscode": {
   "interpreter": {
    "hash": "3ad933181bd8a04b432d3370b9dc3b0662ad032c4dfaa4e4f1596c548f763858"
   }
  }
 },
 "nbformat": 4,
 "nbformat_minor": 2
}
