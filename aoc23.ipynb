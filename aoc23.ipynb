{
 "cells": [
  {
   "cell_type": "code",
   "execution_count": 10,
   "metadata": {},
   "outputs": [
    {
     "data": {
      "text/plain": [
       "21588"
      ]
     },
     "execution_count": 10,
     "metadata": {},
     "output_type": "execute_result"
    }
   ],
   "source": [
    "import os\n",
    "from session import session\n",
    "import requests\n",
    "\n",
    "headers = {\"Cookie\": \"session=\" + session}\n",
    "url = \"https://adventofcode.com/2023/day/1/input\"\n",
    "r = requests.get(url, headers=headers)\n",
    "open(\"inputs23/1\", \"w\").write(r.text)"
   ]
  },
  {
   "cell_type": "code",
   "execution_count": 48,
   "metadata": {},
   "outputs": [
    {
     "name": "stdout",
     "output_type": "stream",
     "text": [
      "1abc2\n",
      "pqr3stu8vwx\n",
      "a1b2c3d4e5f\n",
      "treb7uchet\n",
      "\n",
      "142\n"
     ]
    }
   ],
   "source": [
    "day1 = open(\"inputs23/1\", \"r\").read()\n",
    "# day1 = \"\"\"1abc2\n",
    "# pqr3stu8vwx\n",
    "# a1b2c3d4e5f\n",
    "# treb7uchet\n",
    "# \"\"\"\n",
    "# total = 0\n",
    "# for l in day1.split(\"\\n\"):\n",
    "#     print(l)\n",
    "#     if l:\n",
    "#         first, last = None, None\n",
    "#         for c in l:\n",
    "#             if c.isnumeric():\n",
    "#                 if first is None:\n",
    "#                     first = c\n",
    "#                 last = c\n",
    "#         total += int(first + last)\n",
    "# print(total)\n",
    "\n",
    "day1 = open(\"inputs23/1\", \"r\").read()\n",
    "\n",
    "\n",
    "\n",
    "# day1 = \"\"\"two1nine\n",
    "# eightwothree\n",
    "# abcone2threexyz\n",
    "# xtwone3four\n",
    "# 4nineeightseven2\n",
    "# zoneight234\n",
    "# 7pqrstsixteen\n",
    "# \"\"\"\n",
    "# nums = [\"zero\", \"one\", \"two\", \"three\", \"four\", \"five\", \"six\", \"seven\", \"eight\", \"nine\", \"ten\"]"
   ]
  },
  {
   "cell_type": "code",
   "execution_count": null,
   "metadata": {},
   "outputs": [],
   "source": []
  }
 ],
 "metadata": {
  "kernelspec": {
   "display_name": "Python 3",
   "language": "python",
   "name": "python3"
  },
  "language_info": {
   "codemirror_mode": {
    "name": "ipython",
    "version": 3
   },
   "file_extension": ".py",
   "mimetype": "text/x-python",
   "name": "python",
   "nbconvert_exporter": "python",
   "pygments_lexer": "ipython3",
   "version": "3.10.9"
  }
 },
 "nbformat": 4,
 "nbformat_minor": 2
}
