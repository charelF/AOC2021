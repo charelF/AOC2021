{
 "cells": [
  {
   "cell_type": "code",
   "execution_count": 93,
   "metadata": {},
   "outputs": [],
   "source": [
    "import math\n",
    "# import os\n",
    "# from session import session\n",
    "# import requests\n",
    "# headers = {\"Cookie\": \"session=\" + session}\n",
    "# for n in range(1, 26):\n",
    "#     print(n)\n",
    "#     url = f\"https://adventofcode.com/2023/day/{n}/input\"\n",
    "#     r = requests.get(url, headers=headers)\n",
    "#     open(f\"inputs23/{n}\", \"w\").write(r.text)"
   ]
  },
  {
   "cell_type": "markdown",
   "metadata": {},
   "source": [
    "# day 1"
   ]
  },
  {
   "cell_type": "code",
   "execution_count": 69,
   "metadata": {},
   "outputs": [
    {
     "name": "stdout",
     "output_type": "stream",
     "text": [
      "54953\n",
      "53868\n"
     ]
    }
   ],
   "source": [
    "day1 = open(\"inputs23/1\", \"r\").read()\n",
    "\n",
    "total = 0\n",
    "for l in day1.split(\"\\n\")[:-1]:\n",
    "    first, last = None, None\n",
    "    for c in l:\n",
    "        if c.isnumeric():\n",
    "            if first is None:\n",
    "                first = c\n",
    "            last = c\n",
    "    total += int(first + last)\n",
    "print(total)\n",
    "\n",
    "nums = [\n",
    "    \"zero\",\n",
    "    \"one\",\n",
    "    \"two\",\n",
    "    \"three\",\n",
    "    \"four\",\n",
    "    \"five\",\n",
    "    \"six\",\n",
    "    \"seven\",\n",
    "    \"eight\",\n",
    "    \"nine\",\n",
    "    \"ten\",\n",
    "]\n",
    "for i, n in enumerate(nums):\n",
    "    # put the digit in the middle of the word -> easier to just surround it with its word for overlapping word situations\n",
    "    day1 = day1.replace(n, f\"{n}{i}{n}\")\n",
    "total = 0\n",
    "for l in day1.split(\"\\n\")[:-1]:\n",
    "    first, last = None, None\n",
    "    for c in l:\n",
    "        if c.isnumeric():\n",
    "            if first is None:\n",
    "                first = c\n",
    "            last = c\n",
    "    total += int(first + last)\n",
    "print(total)"
   ]
  },
  {
   "cell_type": "markdown",
   "metadata": {},
   "source": [
    "# day 2"
   ]
  },
  {
   "cell_type": "code",
   "execution_count": 99,
   "metadata": {},
   "outputs": [
    {
     "name": "stdout",
     "output_type": "stream",
     "text": [
      "2727\n",
      "56580\n"
     ]
    }
   ],
   "source": [
    "day2 = open(\"inputs23/2\", \"r\").read()\n",
    "\n",
    "q1possible = (\n",
    "    lambda d: (d.get(\"red\", 0) <= 12)\n",
    "    and (d.get(\"green\", 0) <= 13)\n",
    "    and (d.get(\"blue\", 0) <= 14)\n",
    ")\n",
    "\n",
    "\n",
    "def fq2(lst):\n",
    "    nd = {}\n",
    "    for d in lst:\n",
    "        for k, v in d.items():\n",
    "            nd[k] = max(nd.get(k, 0), v)\n",
    "    # return nd\n",
    "    prod = 1\n",
    "    for v in nd.values():\n",
    "        prod *= v\n",
    "    return prod\n",
    "\n",
    "\n",
    "acc1 = 0\n",
    "acc2 = 0\n",
    "for l in day2.split(\"\\n\")[:-1]:\n",
    "    p1, p2 = l.split(\":\")\n",
    "    g = int(p1.split(\" \")[1])\n",
    "    sets = p2.split(\";\")\n",
    "    items = [\n",
    "        {ss.strip().split(\" \")[1]: int(ss.strip().split(\" \")[0]) for ss in s.split(\",\")}\n",
    "        for s in sets\n",
    "    ]\n",
    "    q1 = all([q1possible(d) for d in items])\n",
    "    acc1 += g if q1 else 0\n",
    "    acc2 += fq2(items)\n",
    "print(acc1)\n",
    "print(acc2)"
   ]
  },
  {
   "cell_type": "code",
   "execution_count": null,
   "metadata": {},
   "outputs": [],
   "source": [
    "https://adventofcode.com/2023/day/3"
   ]
  }
 ],
 "metadata": {
  "kernelspec": {
   "display_name": "Python 3",
   "language": "python",
   "name": "python3"
  },
  "language_info": {
   "codemirror_mode": {
    "name": "ipython",
    "version": 3
   },
   "file_extension": ".py",
   "mimetype": "text/x-python",
   "name": "python",
   "nbconvert_exporter": "python",
   "pygments_lexer": "ipython3",
   "version": "3.10.9"
  }
 },
 "nbformat": 4,
 "nbformat_minor": 2
}
