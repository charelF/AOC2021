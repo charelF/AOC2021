{
 "cells": [
  {
   "cell_type": "code",
   "execution_count": 105,
   "metadata": {},
   "outputs": [],
   "source": [
    "import math\n",
    "import numpy as np\n",
    "# import os\n",
    "# from session import session\n",
    "# import requests\n",
    "# headers = {\"Cookie\": \"session=\" + session}\n",
    "# for n in range(1, 26):\n",
    "#     print(n)\n",
    "#     url = f\"https://adventofcode.com/2023/day/{n}/input\"\n",
    "#     r = requests.get(url, headers=headers)\n",
    "#     open(f\"inputs23/{n}\", \"w\").write(r.text)"
   ]
  },
  {
   "cell_type": "markdown",
   "metadata": {},
   "source": [
    "# day 1"
   ]
  },
  {
   "cell_type": "code",
   "execution_count": 69,
   "metadata": {},
   "outputs": [
    {
     "name": "stdout",
     "output_type": "stream",
     "text": [
      "54953\n",
      "53868\n"
     ]
    }
   ],
   "source": [
    "day1 = open(\"inputs23/1\", \"r\").read()\n",
    "\n",
    "total = 0\n",
    "for l in day1.split(\"\\n\")[:-1]:\n",
    "    first, last = None, None\n",
    "    for c in l:\n",
    "        if c.isnumeric():\n",
    "            if first is None:\n",
    "                first = c\n",
    "            last = c\n",
    "    total += int(first + last)\n",
    "print(total)\n",
    "\n",
    "nums = [\n",
    "    \"zero\",\n",
    "    \"one\",\n",
    "    \"two\",\n",
    "    \"three\",\n",
    "    \"four\",\n",
    "    \"five\",\n",
    "    \"six\",\n",
    "    \"seven\",\n",
    "    \"eight\",\n",
    "    \"nine\",\n",
    "    \"ten\",\n",
    "]\n",
    "for i, n in enumerate(nums):\n",
    "    # put the digit in the middle of the word -> easier to just surround it with its word for overlapping word situations\n",
    "    day1 = day1.replace(n, f\"{n}{i}{n}\")\n",
    "total = 0\n",
    "for l in day1.split(\"\\n\")[:-1]:\n",
    "    first, last = None, None\n",
    "    for c in l:\n",
    "        if c.isnumeric():\n",
    "            if first is None:\n",
    "                first = c\n",
    "            last = c\n",
    "    total += int(first + last)\n",
    "print(total)"
   ]
  },
  {
   "cell_type": "markdown",
   "metadata": {},
   "source": [
    "# day 2"
   ]
  },
  {
   "cell_type": "code",
   "execution_count": 99,
   "metadata": {},
   "outputs": [
    {
     "name": "stdout",
     "output_type": "stream",
     "text": [
      "2727\n",
      "56580\n"
     ]
    }
   ],
   "source": [
    "day2 = open(\"inputs23/2\", \"r\").read()\n",
    "\n",
    "q1possible = (\n",
    "    lambda d: (d.get(\"red\", 0) <= 12)\n",
    "    and (d.get(\"green\", 0) <= 13)\n",
    "    and (d.get(\"blue\", 0) <= 14)\n",
    ")\n",
    "\n",
    "\n",
    "def fq2(lst):\n",
    "    nd = {}\n",
    "    for d in lst:\n",
    "        for k, v in d.items():\n",
    "            nd[k] = max(nd.get(k, 0), v)\n",
    "    # return nd\n",
    "    prod = 1\n",
    "    for v in nd.values():\n",
    "        prod *= v\n",
    "    return prod\n",
    "\n",
    "\n",
    "acc1 = 0\n",
    "acc2 = 0\n",
    "for l in day2.split(\"\\n\")[:-1]:\n",
    "    p1, p2 = l.split(\":\")\n",
    "    g = int(p1.split(\" \")[1])\n",
    "    sets = p2.split(\";\")\n",
    "    items = [\n",
    "        {ss.strip().split(\" \")[1]: int(ss.strip().split(\" \")[0]) for ss in s.split(\",\")}\n",
    "        for s in sets\n",
    "    ]\n",
    "    q1 = all([q1possible(d) for d in items])\n",
    "    acc1 += g if q1 else 0\n",
    "    acc2 += fq2(items)\n",
    "print(acc1)\n",
    "print(acc2)"
   ]
  },
  {
   "cell_type": "markdown",
   "metadata": {},
   "source": [
    "# day 3"
   ]
  },
  {
   "cell_type": "code",
   "execution_count": 337,
   "metadata": {},
   "outputs": [
    {
     "name": "stdout",
     "output_type": "stream",
     "text": [
      "553079\n",
      "84363105\n"
     ]
    }
   ],
   "source": [
    "day3 = open(\"inputs23/3\", \"r\").read()\n",
    "\n",
    "number_coords = []\n",
    "part_numbers = []\n",
    "\n",
    "arr = np.array([[c for c in l] for l in day3.split(\"\\n\")[:-1]])\n",
    "for i, l in enumerate(day3.split(\"\\n\")[:-1]):\n",
    "    j = 0\n",
    "    while j < len(l):\n",
    "        if l[j].isdecimal():\n",
    "            coords = []\n",
    "            j1 = j\n",
    "            num = \"\"\n",
    "            for e in l[j:]:\n",
    "                if e.isdecimal():\n",
    "                    num += e\n",
    "                    coords.append((i, j))\n",
    "                    j += 1\n",
    "                else:\n",
    "                    break\n",
    "            j2 = j\n",
    "            number = int(num)\n",
    "\n",
    "            # Part 1\n",
    "            omgeving = arr[\n",
    "                max(0, i - 1) : min(len(arr), i + 2),\n",
    "                max(0, j1 - 1) : min(len(l), j2 + 1),\n",
    "            ]\n",
    "            indicator = np.all(np.isin(omgeving, list(\".0123456789\")))\n",
    "            if not indicator:\n",
    "                part_numbers.append(number)\n",
    "\n",
    "            # Part 2\n",
    "            number_coords.append((number, coords))\n",
    "        j += 1\n",
    "\n",
    "print(sum(part_numbers))\n",
    "\n",
    "# part 2\n",
    "star_coords = np.argwhere(arr == \"*\")\n",
    "star_neighbours = {}\n",
    "for si, sj in star_coords:\n",
    "    neighbours = set(\n",
    "        (\n",
    "            (max(0, si - 1), max(0, sj - 1)),\n",
    "            (max(0, si - 1), sj),\n",
    "            (max(0, si - 1), min(len(l), sj + 1)),\n",
    "            (si, max(0, sj - 1)),\n",
    "            (si, sj),\n",
    "            (si, min(len(l), sj + 1)),\n",
    "            (min(len(arr), si + 1), max(0, sj - 1)),\n",
    "            (min(len(arr), si + 1), sj),\n",
    "            (min(len(arr), si + 1), min(len(l), sj + 1)),\n",
    "        )\n",
    "    )\n",
    "\n",
    "    for num, coords in number_coords:\n",
    "        is_neighbour = any(c in neighbours for c in coords)\n",
    "        if is_neighbour:\n",
    "            star_neighbours[(si, sj)] = star_neighbours.get((si, sj), set()) | {\n",
    "                (num, *coords)\n",
    "            }\n",
    "\n",
    "gear_ratios = 0\n",
    "for i, d in star_neighbours.items():\n",
    "    if len(d) == 2:\n",
    "        dl = list(d)\n",
    "        prod = dl[0][0] * dl[1][0]\n",
    "        gear_ratios += prod\n",
    "print(gear_ratios)"
   ]
  },
  {
   "cell_type": "markdown",
   "metadata": {},
   "source": [
    "# day 4"
   ]
  },
  {
   "cell_type": "code",
   "execution_count": 338,
   "metadata": {},
   "outputs": [
    {
     "name": "stdout",
     "output_type": "stream",
     "text": [
      "32001\n",
      "5037841\n"
     ]
    }
   ],
   "source": [
    "day4 = open(\"inputs23/4\", \"r\").read()\n",
    "\n",
    "p1sum = 0\n",
    "cards = []\n",
    "for l in day4.split(\"\\n\")[:-1]:\n",
    "    p1, p2 = l.split(\":\")\n",
    "    card = int(p1.split(\" \")[-1])\n",
    "    pw, pm = p2.split(\"|\")\n",
    "    wn = {int(i) for i in pw.strip().split(\" \") if i.isdecimal()}\n",
    "    mn = {int(i) for i in pm.strip().split(\" \") if i.isdecimal()}\n",
    "    matches = len(wn & mn)\n",
    "    points = 2**matches // 2\n",
    "    p1sum += points\n",
    "    copy_count = sum(1 for c in cards if c == card)\n",
    "    cards.append(card)\n",
    "    copies = list(range(card+1, card+matches+1)) * (1+copy_count)\n",
    "    cards += copies\n",
    "print(p1sum)\n",
    "print(len(cards))"
   ]
  },
  {
   "cell_type": "markdown",
   "metadata": {},
   "source": [
    "# day 5"
   ]
  },
  {
   "cell_type": "markdown",
   "metadata": {},
   "source": [
    "https://adventofcode.com/2023/day/5"
   ]
  },
  {
   "cell_type": "code",
   "execution_count": 396,
   "metadata": {},
   "outputs": [
    {
     "data": {
      "text/plain": [
       "{'seed-to-soil map': [[50, 98, 2], [52, 50, 48]],\n",
       " 'soil-to-fertilizer map': [[0, 15, 37], [37, 52, 2], [39, 0, 15]],\n",
       " 'fertilizer-to-water map': [[49, 53, 8], [0, 11, 42], [42, 0, 7], [57, 7, 4]],\n",
       " 'water-to-light map': [[88, 18, 7], [18, 25, 70]],\n",
       " 'light-to-temperature map': [[45, 77, 23], [81, 45, 19], [68, 64, 13]],\n",
       " 'temperature-to-humidity map': [[0, 69, 1], [1, 0, 69]],\n",
       " 'humidity-to-location map': [[60, 56, 37], [56, 93, 4]]}"
      ]
     },
     "execution_count": 396,
     "metadata": {},
     "output_type": "execute_result"
    }
   ],
   "source": [
    "from typing import Callable\n",
    "\n",
    "\n",
    "day5 = open(\"inputs23/5\", \"r\").read()\n",
    "day5 = \"\"\"seeds: 79 14 55 13\n",
    "\n",
    "seed-to-soil map:\n",
    "50 98 2\n",
    "52 50 48\n",
    "\n",
    "soil-to-fertilizer map:\n",
    "0 15 37\n",
    "37 52 2\n",
    "39 0 15\n",
    "\n",
    "fertilizer-to-water map:\n",
    "49 53 8\n",
    "0 11 42\n",
    "42 0 7\n",
    "57 7 4\n",
    "\n",
    "water-to-light map:\n",
    "88 18 7\n",
    "18 25 70\n",
    "\n",
    "light-to-temperature map:\n",
    "45 77 23\n",
    "81 45 19\n",
    "68 64 13\n",
    "\n",
    "temperature-to-humidity map:\n",
    "0 69 1\n",
    "1 0 69\n",
    "\n",
    "humidity-to-location map:\n",
    "60 56 37\n",
    "56 93 4\n",
    "\"\"\"\n",
    "\n",
    "seeds = [int(i) for i in day5.split(\"\\n\")[0].split(\": \")[1].split(\" \")]\n",
    "maps1 = [el.split(\":\")  for el in day5[:-1].split(\"\\n\\n\")[1:]]  # :-1 to get rid of trailing \\n\n",
    "f = lambda s: [[int(i) for i in el.split(\" \")] for el in s.split(\"\\n\")[1:]]\n",
    "g = lambda m: {mn: f(mv) for mn, mv in m}\n",
    "d = g(maps1[0:7])\n",
    "\n",
    "def get_locator(lists: list[list[int]]) -> Callable[[int], int]:\n",
    "    def f(e):\n",
    "        for dst, src, ran in lists:\n",
    "            if e in range(src, src+ran):\n",
    "                new_e = e + (src - )"
   ]
  }
 ],
 "metadata": {
  "kernelspec": {
   "display_name": "Python 3",
   "language": "python",
   "name": "python3"
  },
  "language_info": {
   "codemirror_mode": {
    "name": "ipython",
    "version": 3
   },
   "file_extension": ".py",
   "mimetype": "text/x-python",
   "name": "python",
   "nbconvert_exporter": "python",
   "pygments_lexer": "ipython3",
   "version": "3.10.9"
  }
 },
 "nbformat": 4,
 "nbformat_minor": 2
}
