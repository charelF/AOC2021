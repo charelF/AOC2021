{
 "cells": [
  {
   "cell_type": "code",
   "execution_count": 1,
   "metadata": {},
   "outputs": [],
   "source": [
    "import numpy as np\n",
    "import pandas as pd\n",
    "from functools import reduce\n",
    "\n",
    "import warnings\n",
    "warnings.filterwarnings(\"ignore\")"
   ]
  },
  {
   "cell_type": "markdown",
   "metadata": {},
   "source": [
    "## **Day 1**"
   ]
  },
  {
   "cell_type": "code",
   "execution_count": 103,
   "metadata": {},
   "outputs": [
    {
     "name": "stdout",
     "output_type": "stream",
     "text": [
      "Task 1: 482811, Task 2: 193171814\n"
     ]
    }
   ],
   "source": [
    "a = pd.read_csv(\"inputs20/1\", header=None).to_numpy().reshape(-1)\n",
    "n = len(a)\n",
    "\n",
    "for i in range(n):\n",
    "    for j in range(i, n):\n",
    "        if a[i] + a[j] == 2020:\n",
    "            t1 = a[i] * a[j]\n",
    "        for k in range(j, n):\n",
    "            if a[i] + a[j] + a[k] == 2020:\n",
    "                t2 = a[i] * a[j] * a[k]\n",
    "\n",
    "print(f\"Task 1: {t1}, Task 2: {t2}\")"
   ]
  },
  {
   "cell_type": "markdown",
   "metadata": {},
   "source": [
    "**Alternative**: using the `in` keyword and sets to do Θ(1) (O(n)) lookup of the 2nd (3rd element), reducing complexity by `N`. [Source](https://www.reddit.com/r/adventofcode/comments/k4e4lm/comment/ge8s76t/?utm_source=share&utm_medium=web2x&context=3)"
   ]
  },
  {
   "cell_type": "code",
   "execution_count": 107,
   "metadata": {},
   "outputs": [
    {
     "name": "stdout",
     "output_type": "stream",
     "text": [
      "Task 1: 193171814, Task 2: 193171814\n"
     ]
    }
   ],
   "source": [
    "b = set(a)\n",
    "\n",
    "for i in range(n):\n",
    "    x = 2020 - a[i]\n",
    "    if x in b:\n",
    "        t1 = x * a[i]\n",
    "    for j in range(n):\n",
    "        xx = 2020 - a[i] - a[j]\n",
    "        if xx in b:\n",
    "            t1 = xx * a[i] * a[j]\n",
    "\n",
    "print(f\"Task 1: {t1}, Task 2: {t2}\")"
   ]
  },
  {
   "cell_type": "markdown",
   "metadata": {},
   "source": [
    "## **Day 2**"
   ]
  },
  {
   "cell_type": "code",
   "execution_count": 69,
   "metadata": {},
   "outputs": [
    {
     "name": "stdout",
     "output_type": "stream",
     "text": [
      "Task 1: 418, Task 2: 616\n"
     ]
    }
   ],
   "source": [
    "df = pd.read_csv(\"inputs20/2\", header=None, sep=\": | |-\", engine=\"python\")\n",
    "\n",
    "iv1 = lambda r: r[0] <= r[3].count(r[2]) <= r[1]\n",
    "iv2 = lambda r: (r[2] == r[3][r[0]-1]) ^ (r[2] == r[3][r[1]-1])\n",
    "\n",
    "print(f\"Task 1: {df.apply(iv1, axis=1).sum()}, Task 2: {df.apply(iv2, axis=1).sum()}\")"
   ]
  },
  {
   "cell_type": "markdown",
   "metadata": {},
   "source": [
    "## **Day 3**"
   ]
  },
  {
   "cell_type": "code",
   "execution_count": 96,
   "metadata": {},
   "outputs": [
    {
     "name": "stdout",
     "output_type": "stream",
     "text": [
      "Task 1: 216, Task 2: 6708199680\n"
     ]
    }
   ],
   "source": [
    "a = pd.read_csv(\"inputs20/3\", header=None)[0].str.split(\"\", expand=True).iloc[:,1:-1].replace({\".\":0, \"#\":1}).to_numpy()\n",
    "f = lambda x, s: sum([a[i, (int(x*i)) % a.shape[1]] for i in range(0, a.shape[0], s)])\n",
    "print(f\"Task 1: {f(3,1)}, Task 2: {f(1,1) * f(3,1) * f(5,1) * f(7,1) * f(.5,2)}\")"
   ]
  },
  {
   "cell_type": "markdown",
   "metadata": {},
   "source": [
    "## **Day 4**"
   ]
  },
  {
   "cell_type": "code",
   "execution_count": 169,
   "metadata": {},
   "outputs": [
    {
     "name": "stdout",
     "output_type": "stream",
     "text": [
      "Task 1: 242, Task 2: 186\n"
     ]
    }
   ],
   "source": [
    "l = [s.replace(\"\\n\", \" \") for s in open(\"inputs20/4\").read().split(\"\\n\\n\")]\n",
    "nl = []\n",
    "\n",
    "for s in l:\n",
    "    tmp = {}\n",
    "    for kvs in s.split(\" \"):\n",
    "        k, v = kvs.split(\":\")\n",
    "        tmp[k] = v\n",
    "    nl.append(tmp)\n",
    "\n",
    "iv1 = lambda x: ((\"cid\" in x) and len(x) == 8) or (not(\"cid\" in x) and len(x) == 7)\n",
    "iv2 = lambda x: (\n",
    "    (\"byr\" in x) and (1920 <= int(x[\"byr\"]) <= 2002) and\n",
    "    (\"iyr\" in x) and (2010 <= int(x[\"iyr\"]) <= 2020) and\n",
    "    (\"eyr\" in x) and (2020 <= int(x[\"eyr\"]) <= 2030) and\n",
    "    (\"hgt\" in x) and (\n",
    "        (x[\"hgt\"][-2:] == \"cm\" and (150 <= int(x[\"hgt\"][:-2]) <= 193)) or\n",
    "        (x[\"hgt\"][-2:] == \"in\" and (59 <= int(x[\"hgt\"][:-2]) <= 76))\n",
    "    ) and\n",
    "    (\"hcl\" in x) and len(x[\"hcl\"]) == 7 and (x[\"hcl\"][0] == \"#\")\n",
    "        and (set(x[\"hcl\"][1:]) <= {\"0\",\"1\",\"2\",\"3\",\"4\",\"5\",\"6\",\"7\",\"8\",\"9\",\"a\",\"b\",\"c\",\"d\",\"e\",\"f\"}) and\n",
    "    (\"ecl\" in x) and (x[\"ecl\"] in [\"amb\",\"blu\",\"brn\",\"gry\",\"grn\",\"hzl\",\"oth\"]) and\n",
    "    (\"pid\" in x) and len(x[\"pid\"]) == 9 and int(x[\"pid\"]) >= 0 and\n",
    "    True\n",
    ")\n",
    "print(f\"Task 1: {sum([iv1(d) for d in nl])}, Task 2: {sum([iv2(d) for d in nl])}\")"
   ]
  },
  {
   "cell_type": "markdown",
   "metadata": {},
   "source": [
    "## **Day 5**"
   ]
  },
  {
   "cell_type": "code",
   "execution_count": 246,
   "metadata": {},
   "outputs": [
    {
     "name": "stdout",
     "output_type": "stream",
     "text": [
      "Task 1: 901, Task 2: 661\n"
     ]
    }
   ],
   "source": [
    "df = pd.read_csv(\"inputs20/5\", header=None)\n",
    "df[\"row\"] = df[0].str[:-3].str.replace(\"F\", \"0\").str.replace(\"B\", \"1\").apply(lambda x: int(x, 2))\n",
    "df[\"col\"] = df[0].str[-3:].str.replace(\"L\", \"0\").str.replace(\"R\", \"1\").apply(lambda x: int(x, 2))\n",
    "df[\"id\"] = df[\"row\"] * 8 + df[\"col\"]\n",
    "\n",
    "t1 = df.sort_values([\"row\", \"col\"]).tail(1)[\"id\"].iloc[0]\n",
    "t2 = (df[df.sort_values(\"id\")[\"id\"].diff() > 1][\"id\"] - 1).iloc[0]\n",
    "\n",
    "print(f\"Task 1: {t1}, Task 2: {t2}\")"
   ]
  },
  {
   "cell_type": "markdown",
   "metadata": {},
   "source": [
    "## **Day 6**"
   ]
  },
  {
   "cell_type": "code",
   "execution_count": 285,
   "metadata": {},
   "outputs": [
    {
     "name": "stdout",
     "output_type": "stream",
     "text": [
      "Task 1: 6534, Task 2: 3402\n"
     ]
    }
   ],
   "source": [
    "l = [x.split(\"\\n\") for x in open(\"inputs20/6\").read().split(\"\\n\\n\")]\n",
    "t1  = sum([len(set(\"\".join(x))) for x in l])\n",
    "t2 = sum([len(set.intersection(*[set(x) for x in g])) for g in l])\n",
    "print(f\"Task 1: {t1}, Task 2: {t2}\")"
   ]
  },
  {
   "cell_type": "markdown",
   "metadata": {},
   "source": [
    "## **Day 7**"
   ]
  },
  {
   "cell_type": "code",
   "execution_count": 51,
   "metadata": {},
   "outputs": [
    {
     "name": "stdout",
     "output_type": "stream",
     "text": [
      "Task 1: 142, Task 2: 10219\n"
     ]
    }
   ],
   "source": [
    "l = open(\"inputs20/7\").read().split(\"\\n\")\n",
    "bags = [\" \".join(s.split(\" \")[:2]) for s in l]\n",
    "M = pd.DataFrame(columns=bags, index=bags, dtype=int).fillna(0)\n",
    "\n",
    "for s, b in zip(l, bags):\n",
    "    for c in s.split(\"contain\")[1].split(\",\"):\n",
    "        if \"no\" in c: continue\n",
    "        _, n, *x, _ = c.split(\" \")\n",
    "        M.loc[b, \" \".join(x)] = int(n)\n",
    "\n",
    "M0, S, T = M.copy(), set(), 0\n",
    "while M.sum().sum() > 0:\n",
    "    S |= set(M[M.loc[:, \"shiny gold\"]>0].index)\n",
    "    T += int(sum(M.loc[\"shiny gold\"]))\n",
    "    M @= M0\n",
    "    \n",
    "print(f\"Task 1: {len(S)}, Task 2: {T}\")"
   ]
  },
  {
   "cell_type": "markdown",
   "metadata": {},
   "source": [
    "## **Day 8**"
   ]
  },
  {
   "cell_type": "code",
   "execution_count": 51,
   "metadata": {},
   "outputs": [
    {
     "name": "stdout",
     "output_type": "stream",
     "text": [
      "Task 1: 1337, Task 2: 1358\n"
     ]
    }
   ],
   "source": [
    "# pd.read_csv(\"inputs20/8t\", header=None)\n",
    "l = open(\"inputs20/8\").read().split(\"\\n\"); N = len(l)\n",
    "\n",
    "for swt in range(-1, N):\n",
    "    acc, idx, hist = 0, 0, []\n",
    "    while True:\n",
    "        if (idx >= N): break\n",
    "        cmd, val = l[idx].split(\" \")\n",
    "        val = int(val)\n",
    "        if idx == swt:\n",
    "            if cmd == \"nop\": cmd = \"jmp\"\n",
    "            elif cmd == \"jmp\": cmd = \"nop\"\n",
    "        if cmd == \"nop\": idx += 1\n",
    "        if cmd == \"acc\": acc += val; idx += 1\n",
    "        if cmd == \"jmp\": idx += val\n",
    "        if idx in hist: break\n",
    "        hist.append(idx)\n",
    "    if swt == -1: t1 = acc\n",
    "    if idx >=  N: t2 = acc\n",
    "\n",
    "print(f\"Task 1: {t1}, Task 2: {t2}\")"
   ]
  },
  {
   "cell_type": "code",
   "execution_count": null,
   "metadata": {},
   "outputs": [],
   "source": []
  },
  {
   "cell_type": "code",
   "execution_count": 6,
   "metadata": {},
   "outputs": [
    {
     "data": {
      "text/plain": [
       "2"
      ]
     },
     "execution_count": 6,
     "metadata": {},
     "output_type": "execute_result"
    }
   ],
   "source": [
    "+2"
   ]
  },
  {
   "cell_type": "code",
   "execution_count": null,
   "metadata": {},
   "outputs": [],
   "source": []
  }
 ],
 "metadata": {
  "interpreter": {
   "hash": "aee8b7b246df8f9039afb4144a1f6fd8d2ca17a180786b69acc140d282b71a49"
  },
  "kernelspec": {
   "display_name": "Python 3.9.12 64-bit",
   "language": "python",
   "name": "python3"
  },
  "language_info": {
   "codemirror_mode": {
    "name": "ipython",
    "version": 3
   },
   "file_extension": ".py",
   "mimetype": "text/x-python",
   "name": "python",
   "nbconvert_exporter": "python",
   "pygments_lexer": "ipython3",
   "version": "3.9.12"
  },
  "orig_nbformat": 4
 },
 "nbformat": 4,
 "nbformat_minor": 2
}
