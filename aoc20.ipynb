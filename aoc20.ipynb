{
 "cells": [
  {
   "cell_type": "code",
   "execution_count": 1,
   "metadata": {},
   "outputs": [],
   "source": [
    "import numpy as np\n",
    "import pandas as pd"
   ]
  },
  {
   "cell_type": "markdown",
   "metadata": {},
   "source": [
    "## **Day 1**"
   ]
  },
  {
   "cell_type": "code",
   "execution_count": 25,
   "metadata": {},
   "outputs": [
    {
     "name": "stdout",
     "output_type": "stream",
     "text": [
      "Task 1: 482811, Task 2: 193171814\n"
     ]
    }
   ],
   "source": [
    "a = pd.read_csv(\"inputs20/1\", header=None).to_numpy().reshape(-1)\n",
    "n = len(a)\n",
    "\n",
    "for i in range(n):\n",
    "    for j in range(i, n):\n",
    "        if a[i] + a[j] == 2020:\n",
    "            t1 = a[i] * a[j]\n",
    "        for k in range(j, n):\n",
    "            if a[i] + a[j] + a[k] == 2020:\n",
    "                t2 = a[i] * a[j] * a[k]\n",
    "\n",
    "print(f\"Task 1: {t1}, Task 2: {t2}\")"
   ]
  },
  {
   "cell_type": "markdown",
   "metadata": {},
   "source": [
    "**Alternative**: using the `in` keyword and sets to do Θ(1) (O(n)) lookup of the 2nd (3rd element), reducing complexity by `N`. [Source](https://www.reddit.com/r/adventofcode/comments/k4e4lm/comment/ge8s76t/?utm_source=share&utm_medium=web2x&context=3)"
   ]
  },
  {
   "cell_type": "code",
   "execution_count": 63,
   "metadata": {},
   "outputs": [
    {
     "name": "stdout",
     "output_type": "stream",
     "text": [
      "Task 1: 193171814, Task 2: 193171814\n"
     ]
    }
   ],
   "source": [
    "b = set(a)\n",
    "\n",
    "for i in range(n):\n",
    "    x = 2020 - a[i]\n",
    "    if x in b:\n",
    "        t1 = x * a[i]\n",
    "    for j in range(n):\n",
    "        xx = 2020 - a[i] - a[j]\n",
    "        if xx in b:\n",
    "            t1 = xx * a[i] * a[j]\n",
    "\n",
    "print(f\"Task 1: {t1}, Task 2: {t2}\")"
   ]
  },
  {
   "cell_type": "markdown",
   "metadata": {},
   "source": [
    "## **Day 2**"
   ]
  },
  {
   "cell_type": "code",
   "execution_count": 68,
   "metadata": {},
   "outputs": [
    {
     "ename": "SyntaxError",
     "evalue": "invalid syntax (2399278561.py, line 3)",
     "output_type": "error",
     "traceback": [
      "\u001b[0;36m  Input \u001b[0;32mIn [68]\u001b[0;36m\u001b[0m\n\u001b[0;31m    iv1 = lambda r: r.0 <= r[3].count(r[2]) <= r[1]\u001b[0m\n\u001b[0m                     ^\u001b[0m\n\u001b[0;31mSyntaxError\u001b[0m\u001b[0;31m:\u001b[0m invalid syntax\n"
     ]
    }
   ],
   "source": [
    "df = pd.read_csv(\"inputs20/2\", header=None, sep=\": | |-\", engine=\"python\")\n",
    "\n",
    "iv1 = lambda r: r[0] <= r[3].count(r[2]) <= r[1]\n",
    "iv2 = lambda r: (r[2] == r[3][r[0]-1]) ^ (r[2] == r[3][r[1]-1])\n",
    "\n",
    "print(f\"Task 1: {df.apply(iv1, axis=1).sum()}, Task 2: {df.apply(iv2, axis=1).sum()}\")"
   ]
  },
  {
   "cell_type": "code",
   "execution_count": null,
   "metadata": {},
   "outputs": [],
   "source": []
  }
 ],
 "metadata": {
  "interpreter": {
   "hash": "aee8b7b246df8f9039afb4144a1f6fd8d2ca17a180786b69acc140d282b71a49"
  },
  "kernelspec": {
   "display_name": "Python 3.9.12 64-bit",
   "language": "python",
   "name": "python3"
  },
  "language_info": {
   "codemirror_mode": {
    "name": "ipython",
    "version": 3
   },
   "file_extension": ".py",
   "mimetype": "text/x-python",
   "name": "python",
   "nbconvert_exporter": "python",
   "pygments_lexer": "ipython3",
   "version": "3.9.12"
  },
  "orig_nbformat": 4
 },
 "nbformat": 4,
 "nbformat_minor": 2
}
